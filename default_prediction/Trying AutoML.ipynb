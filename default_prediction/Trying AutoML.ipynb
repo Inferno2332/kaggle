{
 "cells": [
  {
   "cell_type": "markdown",
   "id": "343131c4",
   "metadata": {},
   "source": [
    "## Task: Predict whether or not someone will default on their loan."
   ]
  },
  {
   "cell_type": "code",
   "execution_count": 14,
   "id": "c4e529d5",
   "metadata": {},
   "outputs": [],
   "source": [
    "import pandas as pd\n",
    "import numpy as np\n",
    "\n",
    "from pandas_profiling import ProfileReport\n",
    "from sklearn.metrics import accuracy_score\n",
    "from supervised import AutoML"
   ]
  },
  {
   "cell_type": "markdown",
   "id": "3ce20c72",
   "metadata": {},
   "source": [
    "# 1 - Pandas Profiling"
   ]
  },
  {
   "cell_type": "code",
   "execution_count": 5,
   "id": "a90dcd80",
   "metadata": {},
   "outputs": [
    {
     "data": {
      "application/vnd.jupyter.widget-view+json": {
       "model_id": "c79aaac5efd8414cbd809d77afea0997",
       "version_major": 2,
       "version_minor": 0
      },
      "text/plain": [
       "Summarize dataset:   0%|          | 0/5 [00:00<?, ?it/s]"
      ]
     },
     "metadata": {},
     "output_type": "display_data"
    },
    {
     "data": {
      "application/vnd.jupyter.widget-view+json": {
       "model_id": "48816fc1eb7e48d6a74bd9bd6a0d034d",
       "version_major": 2,
       "version_minor": 0
      },
      "text/plain": [
       "Generate report structure:   0%|          | 0/1 [00:00<?, ?it/s]"
      ]
     },
     "metadata": {},
     "output_type": "display_data"
    },
    {
     "data": {
      "application/vnd.jupyter.widget-view+json": {
       "model_id": "e1a8e59a897644c78ebdc9091f74edc4",
       "version_major": 2,
       "version_minor": 0
      },
      "text/plain": [
       "Render HTML:   0%|          | 0/1 [00:00<?, ?it/s]"
      ]
     },
     "metadata": {},
     "output_type": "display_data"
    },
    {
     "data": {
      "application/vnd.jupyter.widget-view+json": {
       "model_id": "ade5df5f4b7b4503b6fa654de9bc5cf7",
       "version_major": 2,
       "version_minor": 0
      },
      "text/plain": [
       "Export report to file:   0%|          | 0/1 [00:00<?, ?it/s]"
      ]
     },
     "metadata": {},
     "output_type": "display_data"
    }
   ],
   "source": [
    "df = pd.read_csv('train.csv')\n",
    "\n",
    "profile = ProfileReport(df, title='Loan')\n",
    "profile.to_file('eda_default.html')"
   ]
  },
  {
   "cell_type": "markdown",
   "id": "451b0c94",
   "metadata": {},
   "source": [
    "- no missing values\n",
    "- sus columns: Payment Plan, Accounts Delinquent, Loan Title, ID, Delinquency - two years, Inquires - six months"
   ]
  },
  {
   "cell_type": "markdown",
   "id": "01459f6f",
   "metadata": {},
   "source": [
    "# 2 - AutoML\n",
    "\n",
    "https://supervised.mljar.com/"
   ]
  },
  {
   "cell_type": "code",
   "execution_count": 16,
   "id": "e0880313",
   "metadata": {},
   "outputs": [],
   "source": [
    "X = df.iloc[:, :-1]\n",
    "cols_to_drop = ['Payment Plan', 'Accounts Delinquent', 'Loan Title', 'ID', 'Delinquency - two years', 'Inquires - six months']\n",
    "X = X.drop(columns=cols_to_drop)\n",
    "y = df['Loan Status']"
   ]
  },
  {
   "cell_type": "code",
   "execution_count": 23,
   "id": "2171cf12",
   "metadata": {
    "scrolled": true
   },
   "outputs": [
    {
     "name": "stdout",
     "output_type": "stream",
     "text": [
      "Linear algorithm was disabled.\n",
      "AutoML directory: AutoML_results_2\n",
      "The task is binary_classification with evaluation metric logloss\n",
      "AutoML will use algorithms: ['Baseline', 'Decision Tree', 'Random Forest', 'Xgboost', 'Neural Network']\n",
      "AutoML will ensemble available models\n",
      "AutoML steps: ['simple_algorithms', 'default_algorithms', 'not_so_random', 'golden_features', 'insert_random_feature', 'features_selection', 'hill_climbing_1', 'hill_climbing_2', 'ensemble']\n",
      "* Step simple_algorithms will try to check up to 4 models\n",
      "1_Baseline logloss 0.30827 trained in 1.52 seconds\n",
      "2_DecisionTree logloss 0.30853 trained in 15.07 seconds\n",
      "3_DecisionTree logloss 0.314254 trained in 17.48 seconds\n",
      "4_DecisionTree logloss 0.314254 trained in 16.37 seconds\n",
      "* Step default_algorithms will try to check up to 3 models\n",
      "5_Default_Xgboost logloss 0.309061 trained in 12.66 seconds\n",
      "6_Default_NeuralNetwork logloss 0.308961 trained in 19.84 seconds\n",
      "7_Default_RandomForest logloss 0.307872 trained in 52.92 seconds\n",
      "* Step not_so_random will try to check up to 6 models\n",
      "8_Xgboost logloss 0.309361 trained in 13.47 seconds\n",
      "10_RandomForest logloss 0.307866 trained in 28.14 seconds\n",
      "12_NeuralNetwork logloss 0.318136 trained in 33.05 seconds\n",
      "9_Xgboost logloss 0.309572 trained in 25.15 seconds\n",
      "11_RandomForest logloss 0.307865 trained in 60.38 seconds\n",
      "13_NeuralNetwork logloss 0.314488 trained in 40.05 seconds\n",
      "* Step golden_features will try to check up to 3 models\n",
      "None 10\n",
      "Add Golden Feature: Public Record_sum_Term\n",
      "Add Golden Feature: Collection 12 months Medical_sum_Term\n",
      "Add Golden Feature: Term_ratio_Public Record\n",
      "Add Golden Feature: Collection Recovery Fee_sum_Total Received Late Fee\n",
      "Add Golden Feature: Interest Rate_multiply_Term\n",
      "Add Golden Feature: Recoveries_ratio_Total Current Balance\n",
      "Add Golden Feature: Total Received Interest_sum_Loan Amount\n",
      "Add Golden Feature: Total Accounts_ratio_Open Account\n",
      "Add Golden Feature: Open Account_ratio_Total Accounts\n",
      "Add Golden Feature: Home Ownership_ratio_Collection Recovery Fee\n",
      "Created 10 Golden Features in 2.62 seconds.\n",
      "11_RandomForest_GoldenFeatures logloss 0.30808 trained in 47.21 seconds\n",
      "10_RandomForest_GoldenFeatures logloss 0.307916 trained in 36.59 seconds\n",
      "7_Default_RandomForest_GoldenFeatures logloss 0.30791 trained in 40.82 seconds\n",
      "* Step insert_random_feature will try to check up to 1 model\n",
      "11_RandomForest_RandomFeature logloss 0.307976 trained in 54.32 seconds\n",
      "Drop features ['random_feature', 'Employment Duration', 'Sub Grade', 'Application Type', 'Initial List Status', 'Collection 12 months Medical', 'Open Account', 'Batch Enrolled', 'Verification Status', 'Funded Amount Investor', 'Public Record', 'Recoveries', 'Revolving Utilities', 'Total Received Interest', 'Grade', 'Revolving Balance', 'Total Current Balance', 'Funded Amount']\n",
      "* Step features_selection will try to check up to 3 models\n",
      "11_RandomForest_SelectedFeatures logloss 0.307963 trained in 40.38 seconds\n",
      "6_Default_NeuralNetwork_SelectedFeatures logloss 0.312654 trained in 31.29 seconds\n",
      "5_Default_Xgboost_SelectedFeatures logloss 0.309074 trained in 17.85 seconds\n",
      "Skip hill_climbing_1 because no parameters were generated.\n",
      "Skip hill_climbing_2 because no parameters were generated.\n",
      "* Step ensemble will try to check up to 1 model\n",
      "Ensemble logloss 0.307693 trained in 9.16 seconds\n",
      "AutoML fit time: 676.23 seconds\n",
      "AutoML best model: Ensemble\n"
     ]
    },
    {
     "data": {
      "text/html": [
       "<style>#sk-container-id-2 {color: black;background-color: white;}#sk-container-id-2 pre{padding: 0;}#sk-container-id-2 div.sk-toggleable {background-color: white;}#sk-container-id-2 label.sk-toggleable__label {cursor: pointer;display: block;width: 100%;margin-bottom: 0;padding: 0.3em;box-sizing: border-box;text-align: center;}#sk-container-id-2 label.sk-toggleable__label-arrow:before {content: \"▸\";float: left;margin-right: 0.25em;color: #696969;}#sk-container-id-2 label.sk-toggleable__label-arrow:hover:before {color: black;}#sk-container-id-2 div.sk-estimator:hover label.sk-toggleable__label-arrow:before {color: black;}#sk-container-id-2 div.sk-toggleable__content {max-height: 0;max-width: 0;overflow: hidden;text-align: left;background-color: #f0f8ff;}#sk-container-id-2 div.sk-toggleable__content pre {margin: 0.2em;color: black;border-radius: 0.25em;background-color: #f0f8ff;}#sk-container-id-2 input.sk-toggleable__control:checked~div.sk-toggleable__content {max-height: 200px;max-width: 100%;overflow: auto;}#sk-container-id-2 input.sk-toggleable__control:checked~label.sk-toggleable__label-arrow:before {content: \"▾\";}#sk-container-id-2 div.sk-estimator input.sk-toggleable__control:checked~label.sk-toggleable__label {background-color: #d4ebff;}#sk-container-id-2 div.sk-label input.sk-toggleable__control:checked~label.sk-toggleable__label {background-color: #d4ebff;}#sk-container-id-2 input.sk-hidden--visually {border: 0;clip: rect(1px 1px 1px 1px);clip: rect(1px, 1px, 1px, 1px);height: 1px;margin: -1px;overflow: hidden;padding: 0;position: absolute;width: 1px;}#sk-container-id-2 div.sk-estimator {font-family: monospace;background-color: #f0f8ff;border: 1px dotted black;border-radius: 0.25em;box-sizing: border-box;margin-bottom: 0.5em;}#sk-container-id-2 div.sk-estimator:hover {background-color: #d4ebff;}#sk-container-id-2 div.sk-parallel-item::after {content: \"\";width: 100%;border-bottom: 1px solid gray;flex-grow: 1;}#sk-container-id-2 div.sk-label:hover label.sk-toggleable__label {background-color: #d4ebff;}#sk-container-id-2 div.sk-serial::before {content: \"\";position: absolute;border-left: 1px solid gray;box-sizing: border-box;top: 0;bottom: 0;left: 50%;z-index: 0;}#sk-container-id-2 div.sk-serial {display: flex;flex-direction: column;align-items: center;background-color: white;padding-right: 0.2em;padding-left: 0.2em;position: relative;}#sk-container-id-2 div.sk-item {position: relative;z-index: 1;}#sk-container-id-2 div.sk-parallel {display: flex;align-items: stretch;justify-content: center;background-color: white;position: relative;}#sk-container-id-2 div.sk-item::before, #sk-container-id-2 div.sk-parallel-item::before {content: \"\";position: absolute;border-left: 1px solid gray;box-sizing: border-box;top: 0;bottom: 0;left: 50%;z-index: -1;}#sk-container-id-2 div.sk-parallel-item {display: flex;flex-direction: column;z-index: 1;position: relative;background-color: white;}#sk-container-id-2 div.sk-parallel-item:first-child::after {align-self: flex-end;width: 50%;}#sk-container-id-2 div.sk-parallel-item:last-child::after {align-self: flex-start;width: 50%;}#sk-container-id-2 div.sk-parallel-item:only-child::after {width: 0;}#sk-container-id-2 div.sk-dashed-wrapped {border: 1px dashed gray;margin: 0 0.4em 0.5em 0.4em;box-sizing: border-box;padding-bottom: 0.4em;background-color: white;}#sk-container-id-2 div.sk-label label {font-family: monospace;font-weight: bold;display: inline-block;line-height: 1.2em;}#sk-container-id-2 div.sk-label-container {text-align: center;}#sk-container-id-2 div.sk-container {/* jupyter's `normalize.less` sets `[hidden] { display: none; }` but bootstrap.min.css set `[hidden] { display: none !important; }` so we also need the `!important` here to be able to override the default hidden behavior on the sphinx rendered scikit-learn.org. See: https://github.com/scikit-learn/scikit-learn/issues/21755 */display: inline-block !important;position: relative;}#sk-container-id-2 div.sk-text-repr-fallback {display: none;}</style><div id=\"sk-container-id-2\" class=\"sk-top-container\"><div class=\"sk-text-repr-fallback\"><pre>AutoML(features_selection=True, golden_features=True, hill_climbing_steps=2,\n",
       "       results_path=&#x27;AutoML_results_2&#x27;, start_random_models=3)</pre><b>In a Jupyter environment, please rerun this cell to show the HTML representation or trust the notebook. <br />On GitHub, the HTML representation is unable to render, please try loading this page with nbviewer.org.</b></div><div class=\"sk-container\" hidden><div class=\"sk-item\"><div class=\"sk-estimator sk-toggleable\"><input class=\"sk-toggleable__control sk-hidden--visually\" id=\"sk-estimator-id-2\" type=\"checkbox\" checked><label for=\"sk-estimator-id-2\" class=\"sk-toggleable__label sk-toggleable__label-arrow\">AutoML</label><div class=\"sk-toggleable__content\"><pre>AutoML(features_selection=True, golden_features=True, hill_climbing_steps=2,\n",
       "       results_path=&#x27;AutoML_results_2&#x27;, start_random_models=3)</pre></div></div></div></div></div>"
      ],
      "text/plain": [
       "AutoML(features_selection=True, golden_features=True, hill_climbing_steps=2,\n",
       "       results_path='AutoML_results_2', start_random_models=3)"
      ]
     },
     "execution_count": 23,
     "metadata": {},
     "output_type": "execute_result"
    }
   ],
   "source": [
    "automl = AutoML(results_path=\"AutoML_results_2\", start_random_models=3, golden_features=True, features_selection=True,\n",
    "                hill_climbing_steps=2)\n",
    "automl.fit(X, y)"
   ]
  },
  {
   "cell_type": "markdown",
   "id": "c58c0503",
   "metadata": {},
   "source": [
    "# AutoML Leaderboard\n",
    "\n",
    "| Best model   | name                                                                                           | model_type     | metric_type   |   metric_value |   train_time |\n",
    "|:-------------|:-----------------------------------------------------------------------------------------------|:---------------|:--------------|---------------:|-------------:|\n",
    "|              | [1_Baseline](1_Baseline/README.md)                                                             | Baseline       | logloss       |       0.30827  |         2.26 |\n",
    "|              | [2_DecisionTree](2_DecisionTree/README.md)                                                     | Decision Tree  | logloss       |       0.30853  |        17.11 |\n",
    "|              | [3_DecisionTree](3_DecisionTree/README.md)                                                     | Decision Tree  | logloss       |       0.314254 |        18.63 |\n",
    "|              | [4_DecisionTree](4_DecisionTree/README.md)                                                     | Decision Tree  | logloss       |       0.314254 |        17.55 |\n",
    "|              | [5_Default_Xgboost](5_Default_Xgboost/README.md)                                               | Xgboost        | logloss       |       0.309061 |        14.8  |\n",
    "|              | [6_Default_NeuralNetwork](6_Default_NeuralNetwork/README.md)                                   | Neural Network | logloss       |       0.308961 |        20.8  |\n",
    "|              | [7_Default_RandomForest](7_Default_RandomForest/README.md)                                     | Random Forest  | logloss       |       0.307872 |        54.52 |\n",
    "|              | [8_Xgboost](8_Xgboost/README.md)                                                               | Xgboost        | logloss       |       0.309361 |        14.93 |\n",
    "|              | [10_RandomForest](10_RandomForest/README.md)                                                   | Random Forest  | logloss       |       0.307866 |        32.53 |\n",
    "|              | [12_NeuralNetwork](12_NeuralNetwork/README.md)                                                 | Neural Network | logloss       |       0.318136 |        35.4  |\n",
    "|              | [9_Xgboost](9_Xgboost/README.md)                                                               | Xgboost        | logloss       |       0.309572 |        28.87 |\n",
    "|              | [11_RandomForest](11_RandomForest/README.md)                                                   | Random Forest  | logloss       |       0.307865 |        63.35 |\n",
    "|              | [13_NeuralNetwork](13_NeuralNetwork/README.md)                                                 | Neural Network | logloss       |       0.314488 |        42.35 |\n",
    "|              | [11_RandomForest_GoldenFeatures](11_RandomForest_GoldenFeatures/README.md)                     | Random Forest  | logloss       |       0.30808  |        50.12 |\n",
    "|              | [10_RandomForest_GoldenFeatures](10_RandomForest_GoldenFeatures/README.md)                     | Random Forest  | logloss       |       0.307916 |        38.65 |\n",
    "|              | [7_Default_RandomForest_GoldenFeatures](7_Default_RandomForest_GoldenFeatures/README.md)       | Random Forest  | logloss       |       0.30791  |        43.9  |\n",
    "|              | [11_RandomForest_RandomFeature](11_RandomForest_RandomFeature/README.md)                       | Random Forest  | logloss       |       0.307976 |        56.52 |\n",
    "|              | [11_RandomForest_SelectedFeatures](11_RandomForest_SelectedFeatures/README.md)                 | Random Forest  | logloss       |       0.307963 |        42.96 |\n",
    "|              | [6_Default_NeuralNetwork_SelectedFeatures](6_Default_NeuralNetwork_SelectedFeatures/README.md) | Neural Network | logloss       |       0.312654 |        33.35 |\n",
    "|              | [5_Default_Xgboost_SelectedFeatures](5_Default_Xgboost_SelectedFeatures/README.md)             | Xgboost        | logloss       |       0.309074 |        20.23 |\n",
    "| **the best** | [Ensemble](Ensemble/README.md)                                                                 | Ensemble       | logloss       |       0.307693 |         9.16 |\n"
   ]
  },
  {
   "cell_type": "code",
   "execution_count": null,
   "id": "6d708549",
   "metadata": {},
   "outputs": [],
   "source": []
  },
  {
   "cell_type": "markdown",
   "id": "ab433a5b",
   "metadata": {},
   "source": [
    "# 3 - Prediction"
   ]
  },
  {
   "cell_type": "code",
   "execution_count": 27,
   "id": "88a22a1c",
   "metadata": {},
   "outputs": [],
   "source": [
    "df_predict = pd.read_csv('test.csv')\n",
    "X_predict = df_predict.iloc[:, :-1]\n",
    "X_predict = X_predict.drop(columns=cols_to_drop)"
   ]
  },
  {
   "cell_type": "code",
   "execution_count": 30,
   "id": "c3efc2c2",
   "metadata": {},
   "outputs": [],
   "source": [
    "y_predict = automl.predict(X_predict)"
   ]
  },
  {
   "cell_type": "code",
   "execution_count": 32,
   "id": "feee1ffe",
   "metadata": {},
   "outputs": [],
   "source": [
    "df_submit = pd.DataFrame({'Loan Status': y_predict})\n",
    "df_submit.to_csv('submission.csv', index=False)"
   ]
  },
  {
   "cell_type": "code",
   "execution_count": null,
   "id": "76712533",
   "metadata": {},
   "outputs": [],
   "source": []
  }
 ],
 "metadata": {
  "kernelspec": {
   "display_name": "Python 3 (ipykernel)",
   "language": "python",
   "name": "python3"
  },
  "language_info": {
   "codemirror_mode": {
    "name": "ipython",
    "version": 3
   },
   "file_extension": ".py",
   "mimetype": "text/x-python",
   "name": "python",
   "nbconvert_exporter": "python",
   "pygments_lexer": "ipython3",
   "version": "3.9.7"
  }
 },
 "nbformat": 4,
 "nbformat_minor": 5
}
