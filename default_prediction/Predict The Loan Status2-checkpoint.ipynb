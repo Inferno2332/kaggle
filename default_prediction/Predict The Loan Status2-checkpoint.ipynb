{
 "cells": [
  {
   "cell_type": "markdown",
   "id": "5b458096",
   "metadata": {},
   "source": [
    "#### Dataset Description\n",
    "Train.csv - 67463 rows x 35 columns (Includes target column as Loan Status) <br>\n",
    "Test.csv - 28913 rows x 34 columns(Includes target column as Loan Status) <br>\n",
    "Sample Submission.csv -  Please check the Evaluation section for more details on how to generate a valid submission. <br>\n"
   ]
  },
  {
   "cell_type": "code",
   "execution_count": 1,
   "id": "86e5e5a7",
   "metadata": {},
   "outputs": [],
   "source": [
    "from sklearn.datasets import load_iris\n",
    "from sklearn.model_selection import train_test_split\n",
    "from sklearn.preprocessing import StandardScaler\n",
    "from sklearn.decomposition import PCA\n",
    "from sklearn.pipeline import Pipeline\n",
    "from sklearn.linear_model import LogisticRegression\n",
    "from sklearn.tree import DecisionTreeClassifier\n",
    "from sklearn.ensemble import RandomForestClassifier"
   ]
  },
  {
   "cell_type": "code",
   "execution_count": 2,
   "id": "7f041181",
   "metadata": {},
   "outputs": [],
   "source": [
    "# Suppressing Warnings\n",
    "import warnings\n",
    "warnings.filterwarnings('ignore')"
   ]
  },
  {
   "cell_type": "code",
   "execution_count": 3,
   "id": "1b7af490",
   "metadata": {},
   "outputs": [],
   "source": [
    "# Importing Pandas and NumPy\n",
    "import pandas as pd, numpy as np"
   ]
  },
  {
   "cell_type": "code",
   "execution_count": 4,
   "id": "209a506e",
   "metadata": {},
   "outputs": [
    {
     "data": {
      "text/html": [
       "<div>\n",
       "<style scoped>\n",
       "    .dataframe tbody tr th:only-of-type {\n",
       "        vertical-align: middle;\n",
       "    }\n",
       "\n",
       "    .dataframe tbody tr th {\n",
       "        vertical-align: top;\n",
       "    }\n",
       "\n",
       "    .dataframe thead th {\n",
       "        text-align: right;\n",
       "    }\n",
       "</style>\n",
       "<table border=\"1\" class=\"dataframe\">\n",
       "  <thead>\n",
       "    <tr style=\"text-align: right;\">\n",
       "      <th></th>\n",
       "      <th>ID</th>\n",
       "      <th>Loan Amount</th>\n",
       "      <th>Funded Amount</th>\n",
       "      <th>Funded Amount Investor</th>\n",
       "      <th>Term</th>\n",
       "      <th>Batch Enrolled</th>\n",
       "      <th>Interest Rate</th>\n",
       "      <th>Grade</th>\n",
       "      <th>Sub Grade</th>\n",
       "      <th>Employment Duration</th>\n",
       "      <th>...</th>\n",
       "      <th>Recoveries</th>\n",
       "      <th>Collection Recovery Fee</th>\n",
       "      <th>Collection 12 months Medical</th>\n",
       "      <th>Application Type</th>\n",
       "      <th>Last week Pay</th>\n",
       "      <th>Accounts Delinquent</th>\n",
       "      <th>Total Collection Amount</th>\n",
       "      <th>Total Current Balance</th>\n",
       "      <th>Total Revolving Credit Limit</th>\n",
       "      <th>Loan Status</th>\n",
       "    </tr>\n",
       "  </thead>\n",
       "  <tbody>\n",
       "    <tr>\n",
       "      <th>0</th>\n",
       "      <td>65087372</td>\n",
       "      <td>10000</td>\n",
       "      <td>32236</td>\n",
       "      <td>12329.36286</td>\n",
       "      <td>59</td>\n",
       "      <td>BAT2522922</td>\n",
       "      <td>11.135007</td>\n",
       "      <td>B</td>\n",
       "      <td>C4</td>\n",
       "      <td>MORTGAGE</td>\n",
       "      <td>...</td>\n",
       "      <td>2.498291</td>\n",
       "      <td>0.793724</td>\n",
       "      <td>0</td>\n",
       "      <td>INDIVIDUAL</td>\n",
       "      <td>49</td>\n",
       "      <td>0</td>\n",
       "      <td>31</td>\n",
       "      <td>311301</td>\n",
       "      <td>6619</td>\n",
       "      <td>0</td>\n",
       "    </tr>\n",
       "    <tr>\n",
       "      <th>1</th>\n",
       "      <td>1450153</td>\n",
       "      <td>3609</td>\n",
       "      <td>11940</td>\n",
       "      <td>12191.99692</td>\n",
       "      <td>59</td>\n",
       "      <td>BAT1586599</td>\n",
       "      <td>12.237563</td>\n",
       "      <td>C</td>\n",
       "      <td>D3</td>\n",
       "      <td>RENT</td>\n",
       "      <td>...</td>\n",
       "      <td>2.377215</td>\n",
       "      <td>0.974821</td>\n",
       "      <td>0</td>\n",
       "      <td>INDIVIDUAL</td>\n",
       "      <td>109</td>\n",
       "      <td>0</td>\n",
       "      <td>53</td>\n",
       "      <td>182610</td>\n",
       "      <td>20885</td>\n",
       "      <td>0</td>\n",
       "    </tr>\n",
       "    <tr>\n",
       "      <th>2</th>\n",
       "      <td>1969101</td>\n",
       "      <td>28276</td>\n",
       "      <td>9311</td>\n",
       "      <td>21603.22455</td>\n",
       "      <td>59</td>\n",
       "      <td>BAT2136391</td>\n",
       "      <td>12.545884</td>\n",
       "      <td>F</td>\n",
       "      <td>D4</td>\n",
       "      <td>MORTGAGE</td>\n",
       "      <td>...</td>\n",
       "      <td>4.316277</td>\n",
       "      <td>1.020075</td>\n",
       "      <td>0</td>\n",
       "      <td>INDIVIDUAL</td>\n",
       "      <td>66</td>\n",
       "      <td>0</td>\n",
       "      <td>34</td>\n",
       "      <td>89801</td>\n",
       "      <td>26155</td>\n",
       "      <td>0</td>\n",
       "    </tr>\n",
       "    <tr>\n",
       "      <th>3</th>\n",
       "      <td>6651430</td>\n",
       "      <td>11170</td>\n",
       "      <td>6954</td>\n",
       "      <td>17877.15585</td>\n",
       "      <td>59</td>\n",
       "      <td>BAT2428731</td>\n",
       "      <td>16.731201</td>\n",
       "      <td>C</td>\n",
       "      <td>C3</td>\n",
       "      <td>MORTGAGE</td>\n",
       "      <td>...</td>\n",
       "      <td>0.107020</td>\n",
       "      <td>0.749971</td>\n",
       "      <td>0</td>\n",
       "      <td>INDIVIDUAL</td>\n",
       "      <td>39</td>\n",
       "      <td>0</td>\n",
       "      <td>40</td>\n",
       "      <td>9189</td>\n",
       "      <td>60214</td>\n",
       "      <td>0</td>\n",
       "    </tr>\n",
       "  </tbody>\n",
       "</table>\n",
       "<p>4 rows × 35 columns</p>\n",
       "</div>"
      ],
      "text/plain": [
       "         ID  Loan Amount  Funded Amount  Funded Amount Investor  Term  \\\n",
       "0  65087372        10000          32236             12329.36286    59   \n",
       "1   1450153         3609          11940             12191.99692    59   \n",
       "2   1969101        28276           9311             21603.22455    59   \n",
       "3   6651430        11170           6954             17877.15585    59   \n",
       "\n",
       "  Batch Enrolled  Interest Rate Grade Sub Grade Employment Duration  ...  \\\n",
       "0     BAT2522922      11.135007     B        C4            MORTGAGE  ...   \n",
       "1     BAT1586599      12.237563     C        D3                RENT  ...   \n",
       "2     BAT2136391      12.545884     F        D4            MORTGAGE  ...   \n",
       "3     BAT2428731      16.731201     C        C3            MORTGAGE  ...   \n",
       "\n",
       "   Recoveries Collection Recovery Fee Collection 12 months Medical  \\\n",
       "0    2.498291                0.793724                            0   \n",
       "1    2.377215                0.974821                            0   \n",
       "2    4.316277                1.020075                            0   \n",
       "3    0.107020                0.749971                            0   \n",
       "\n",
       "  Application Type  Last week Pay  Accounts Delinquent  \\\n",
       "0       INDIVIDUAL             49                    0   \n",
       "1       INDIVIDUAL            109                    0   \n",
       "2       INDIVIDUAL             66                    0   \n",
       "3       INDIVIDUAL             39                    0   \n",
       "\n",
       "   Total Collection Amount  Total Current Balance  \\\n",
       "0                       31                 311301   \n",
       "1                       53                 182610   \n",
       "2                       34                  89801   \n",
       "3                       40                   9189   \n",
       "\n",
       "   Total Revolving Credit Limit  Loan Status  \n",
       "0                          6619            0  \n",
       "1                         20885            0  \n",
       "2                         26155            0  \n",
       "3                         60214            0  \n",
       "\n",
       "[4 rows x 35 columns]"
      ]
     },
     "execution_count": 4,
     "metadata": {},
     "output_type": "execute_result"
    }
   ],
   "source": [
    "# Importing all datasets\n",
    "loan_train = pd.read_csv(\"train.csv\")\n",
    "loan_train.head(4)"
   ]
  },
  {
   "cell_type": "code",
   "execution_count": 5,
   "id": "39505de3",
   "metadata": {},
   "outputs": [
    {
     "data": {
      "text/html": [
       "<div>\n",
       "<style scoped>\n",
       "    .dataframe tbody tr th:only-of-type {\n",
       "        vertical-align: middle;\n",
       "    }\n",
       "\n",
       "    .dataframe tbody tr th {\n",
       "        vertical-align: top;\n",
       "    }\n",
       "\n",
       "    .dataframe thead th {\n",
       "        text-align: right;\n",
       "    }\n",
       "</style>\n",
       "<table border=\"1\" class=\"dataframe\">\n",
       "  <thead>\n",
       "    <tr style=\"text-align: right;\">\n",
       "      <th></th>\n",
       "      <th>ID</th>\n",
       "      <th>Loan Amount</th>\n",
       "      <th>Funded Amount</th>\n",
       "      <th>Funded Amount Investor</th>\n",
       "      <th>Term</th>\n",
       "      <th>Batch Enrolled</th>\n",
       "      <th>Interest Rate</th>\n",
       "      <th>Grade</th>\n",
       "      <th>Sub Grade</th>\n",
       "      <th>Employment Duration</th>\n",
       "      <th>...</th>\n",
       "      <th>Recoveries</th>\n",
       "      <th>Collection Recovery Fee</th>\n",
       "      <th>Collection 12 months Medical</th>\n",
       "      <th>Application Type</th>\n",
       "      <th>Last week Pay</th>\n",
       "      <th>Accounts Delinquent</th>\n",
       "      <th>Total Collection Amount</th>\n",
       "      <th>Total Current Balance</th>\n",
       "      <th>Total Revolving Credit Limit</th>\n",
       "      <th>Loan Status</th>\n",
       "    </tr>\n",
       "  </thead>\n",
       "  <tbody>\n",
       "    <tr>\n",
       "      <th>0</th>\n",
       "      <td>56492997</td>\n",
       "      <td>17120</td>\n",
       "      <td>10365</td>\n",
       "      <td>16025.08269</td>\n",
       "      <td>59</td>\n",
       "      <td>BAT2575549</td>\n",
       "      <td>12.163926</td>\n",
       "      <td>A</td>\n",
       "      <td>D1</td>\n",
       "      <td>RENT</td>\n",
       "      <td>...</td>\n",
       "      <td>8.425776</td>\n",
       "      <td>0.731797</td>\n",
       "      <td>0</td>\n",
       "      <td>INDIVIDUAL</td>\n",
       "      <td>135</td>\n",
       "      <td>0</td>\n",
       "      <td>24</td>\n",
       "      <td>475442</td>\n",
       "      <td>4364</td>\n",
       "      <td>NaN</td>\n",
       "    </tr>\n",
       "    <tr>\n",
       "      <th>1</th>\n",
       "      <td>22540813</td>\n",
       "      <td>7133</td>\n",
       "      <td>11650</td>\n",
       "      <td>12615.79560</td>\n",
       "      <td>59</td>\n",
       "      <td>BAT2833642</td>\n",
       "      <td>6.564296</td>\n",
       "      <td>B</td>\n",
       "      <td>E3</td>\n",
       "      <td>MORTGAGE</td>\n",
       "      <td>...</td>\n",
       "      <td>6.157008</td>\n",
       "      <td>0.992918</td>\n",
       "      <td>0</td>\n",
       "      <td>INDIVIDUAL</td>\n",
       "      <td>56</td>\n",
       "      <td>0</td>\n",
       "      <td>1</td>\n",
       "      <td>72412</td>\n",
       "      <td>2573</td>\n",
       "      <td>NaN</td>\n",
       "    </tr>\n",
       "    <tr>\n",
       "      <th>2</th>\n",
       "      <td>9862181</td>\n",
       "      <td>25291</td>\n",
       "      <td>25825</td>\n",
       "      <td>11621.28083</td>\n",
       "      <td>59</td>\n",
       "      <td>BAT1761981</td>\n",
       "      <td>14.729900</td>\n",
       "      <td>A</td>\n",
       "      <td>C3</td>\n",
       "      <td>MORTGAGE</td>\n",
       "      <td>...</td>\n",
       "      <td>5.705077</td>\n",
       "      <td>0.281580</td>\n",
       "      <td>0</td>\n",
       "      <td>INDIVIDUAL</td>\n",
       "      <td>3</td>\n",
       "      <td>0</td>\n",
       "      <td>26</td>\n",
       "      <td>284825</td>\n",
       "      <td>19676</td>\n",
       "      <td>NaN</td>\n",
       "    </tr>\n",
       "    <tr>\n",
       "      <th>3</th>\n",
       "      <td>10097822</td>\n",
       "      <td>30781</td>\n",
       "      <td>9664</td>\n",
       "      <td>15375.82351</td>\n",
       "      <td>59</td>\n",
       "      <td>BAT5341619</td>\n",
       "      <td>10.523767</td>\n",
       "      <td>A</td>\n",
       "      <td>A2</td>\n",
       "      <td>RENT</td>\n",
       "      <td>...</td>\n",
       "      <td>2.469688</td>\n",
       "      <td>0.959162</td>\n",
       "      <td>0</td>\n",
       "      <td>INDIVIDUAL</td>\n",
       "      <td>21</td>\n",
       "      <td>0</td>\n",
       "      <td>32</td>\n",
       "      <td>40842</td>\n",
       "      <td>7226</td>\n",
       "      <td>NaN</td>\n",
       "    </tr>\n",
       "  </tbody>\n",
       "</table>\n",
       "<p>4 rows × 35 columns</p>\n",
       "</div>"
      ],
      "text/plain": [
       "         ID  Loan Amount  Funded Amount  Funded Amount Investor  Term  \\\n",
       "0  56492997        17120          10365             16025.08269    59   \n",
       "1  22540813         7133          11650             12615.79560    59   \n",
       "2   9862181        25291          25825             11621.28083    59   \n",
       "3  10097822        30781           9664             15375.82351    59   \n",
       "\n",
       "  Batch Enrolled  Interest Rate Grade Sub Grade Employment Duration  ...  \\\n",
       "0     BAT2575549      12.163926     A        D1                RENT  ...   \n",
       "1     BAT2833642       6.564296     B        E3            MORTGAGE  ...   \n",
       "2     BAT1761981      14.729900     A        C3            MORTGAGE  ...   \n",
       "3     BAT5341619      10.523767     A        A2                RENT  ...   \n",
       "\n",
       "   Recoveries Collection Recovery Fee Collection 12 months Medical  \\\n",
       "0    8.425776                0.731797                            0   \n",
       "1    6.157008                0.992918                            0   \n",
       "2    5.705077                0.281580                            0   \n",
       "3    2.469688                0.959162                            0   \n",
       "\n",
       "  Application Type  Last week Pay  Accounts Delinquent  \\\n",
       "0       INDIVIDUAL            135                    0   \n",
       "1       INDIVIDUAL             56                    0   \n",
       "2       INDIVIDUAL              3                    0   \n",
       "3       INDIVIDUAL             21                    0   \n",
       "\n",
       "   Total Collection Amount  Total Current Balance  \\\n",
       "0                       24                 475442   \n",
       "1                        1                  72412   \n",
       "2                       26                 284825   \n",
       "3                       32                  40842   \n",
       "\n",
       "   Total Revolving Credit Limit  Loan Status  \n",
       "0                          4364          NaN  \n",
       "1                          2573          NaN  \n",
       "2                         19676          NaN  \n",
       "3                          7226          NaN  \n",
       "\n",
       "[4 rows x 35 columns]"
      ]
     },
     "execution_count": 5,
     "metadata": {},
     "output_type": "execute_result"
    }
   ],
   "source": [
    "# Importing all datasets\n",
    "loan_test = pd.read_csv(\"test.csv\")\n",
    "loan_test.head(4)"
   ]
  },
  {
   "cell_type": "code",
   "execution_count": 6,
   "id": "54ff5a8a",
   "metadata": {},
   "outputs": [],
   "source": [
    "loan_test[\"Loan Status\"] = 0"
   ]
  },
  {
   "cell_type": "code",
   "execution_count": 7,
   "id": "a6309097",
   "metadata": {},
   "outputs": [
    {
     "data": {
      "text/html": [
       "<div>\n",
       "<style scoped>\n",
       "    .dataframe tbody tr th:only-of-type {\n",
       "        vertical-align: middle;\n",
       "    }\n",
       "\n",
       "    .dataframe tbody tr th {\n",
       "        vertical-align: top;\n",
       "    }\n",
       "\n",
       "    .dataframe thead th {\n",
       "        text-align: right;\n",
       "    }\n",
       "</style>\n",
       "<table border=\"1\" class=\"dataframe\">\n",
       "  <thead>\n",
       "    <tr style=\"text-align: right;\">\n",
       "      <th></th>\n",
       "      <th>ID</th>\n",
       "      <th>Loan Amount</th>\n",
       "      <th>Funded Amount</th>\n",
       "      <th>Funded Amount Investor</th>\n",
       "      <th>Term</th>\n",
       "      <th>Batch Enrolled</th>\n",
       "      <th>Interest Rate</th>\n",
       "      <th>Grade</th>\n",
       "      <th>Sub Grade</th>\n",
       "      <th>Employment Duration</th>\n",
       "      <th>...</th>\n",
       "      <th>Recoveries</th>\n",
       "      <th>Collection Recovery Fee</th>\n",
       "      <th>Collection 12 months Medical</th>\n",
       "      <th>Application Type</th>\n",
       "      <th>Last week Pay</th>\n",
       "      <th>Accounts Delinquent</th>\n",
       "      <th>Total Collection Amount</th>\n",
       "      <th>Total Current Balance</th>\n",
       "      <th>Total Revolving Credit Limit</th>\n",
       "      <th>Loan Status</th>\n",
       "    </tr>\n",
       "  </thead>\n",
       "  <tbody>\n",
       "    <tr>\n",
       "      <th>0</th>\n",
       "      <td>56492997</td>\n",
       "      <td>17120</td>\n",
       "      <td>10365</td>\n",
       "      <td>16025.08269</td>\n",
       "      <td>59</td>\n",
       "      <td>BAT2575549</td>\n",
       "      <td>12.163926</td>\n",
       "      <td>A</td>\n",
       "      <td>D1</td>\n",
       "      <td>RENT</td>\n",
       "      <td>...</td>\n",
       "      <td>8.425776</td>\n",
       "      <td>0.731797</td>\n",
       "      <td>0</td>\n",
       "      <td>INDIVIDUAL</td>\n",
       "      <td>135</td>\n",
       "      <td>0</td>\n",
       "      <td>24</td>\n",
       "      <td>475442</td>\n",
       "      <td>4364</td>\n",
       "      <td>0</td>\n",
       "    </tr>\n",
       "    <tr>\n",
       "      <th>1</th>\n",
       "      <td>22540813</td>\n",
       "      <td>7133</td>\n",
       "      <td>11650</td>\n",
       "      <td>12615.79560</td>\n",
       "      <td>59</td>\n",
       "      <td>BAT2833642</td>\n",
       "      <td>6.564296</td>\n",
       "      <td>B</td>\n",
       "      <td>E3</td>\n",
       "      <td>MORTGAGE</td>\n",
       "      <td>...</td>\n",
       "      <td>6.157008</td>\n",
       "      <td>0.992918</td>\n",
       "      <td>0</td>\n",
       "      <td>INDIVIDUAL</td>\n",
       "      <td>56</td>\n",
       "      <td>0</td>\n",
       "      <td>1</td>\n",
       "      <td>72412</td>\n",
       "      <td>2573</td>\n",
       "      <td>0</td>\n",
       "    </tr>\n",
       "    <tr>\n",
       "      <th>2</th>\n",
       "      <td>9862181</td>\n",
       "      <td>25291</td>\n",
       "      <td>25825</td>\n",
       "      <td>11621.28083</td>\n",
       "      <td>59</td>\n",
       "      <td>BAT1761981</td>\n",
       "      <td>14.729900</td>\n",
       "      <td>A</td>\n",
       "      <td>C3</td>\n",
       "      <td>MORTGAGE</td>\n",
       "      <td>...</td>\n",
       "      <td>5.705077</td>\n",
       "      <td>0.281580</td>\n",
       "      <td>0</td>\n",
       "      <td>INDIVIDUAL</td>\n",
       "      <td>3</td>\n",
       "      <td>0</td>\n",
       "      <td>26</td>\n",
       "      <td>284825</td>\n",
       "      <td>19676</td>\n",
       "      <td>0</td>\n",
       "    </tr>\n",
       "    <tr>\n",
       "      <th>3</th>\n",
       "      <td>10097822</td>\n",
       "      <td>30781</td>\n",
       "      <td>9664</td>\n",
       "      <td>15375.82351</td>\n",
       "      <td>59</td>\n",
       "      <td>BAT5341619</td>\n",
       "      <td>10.523767</td>\n",
       "      <td>A</td>\n",
       "      <td>A2</td>\n",
       "      <td>RENT</td>\n",
       "      <td>...</td>\n",
       "      <td>2.469688</td>\n",
       "      <td>0.959162</td>\n",
       "      <td>0</td>\n",
       "      <td>INDIVIDUAL</td>\n",
       "      <td>21</td>\n",
       "      <td>0</td>\n",
       "      <td>32</td>\n",
       "      <td>40842</td>\n",
       "      <td>7226</td>\n",
       "      <td>0</td>\n",
       "    </tr>\n",
       "  </tbody>\n",
       "</table>\n",
       "<p>4 rows × 35 columns</p>\n",
       "</div>"
      ],
      "text/plain": [
       "         ID  Loan Amount  Funded Amount  Funded Amount Investor  Term  \\\n",
       "0  56492997        17120          10365             16025.08269    59   \n",
       "1  22540813         7133          11650             12615.79560    59   \n",
       "2   9862181        25291          25825             11621.28083    59   \n",
       "3  10097822        30781           9664             15375.82351    59   \n",
       "\n",
       "  Batch Enrolled  Interest Rate Grade Sub Grade Employment Duration  ...  \\\n",
       "0     BAT2575549      12.163926     A        D1                RENT  ...   \n",
       "1     BAT2833642       6.564296     B        E3            MORTGAGE  ...   \n",
       "2     BAT1761981      14.729900     A        C3            MORTGAGE  ...   \n",
       "3     BAT5341619      10.523767     A        A2                RENT  ...   \n",
       "\n",
       "   Recoveries Collection Recovery Fee Collection 12 months Medical  \\\n",
       "0    8.425776                0.731797                            0   \n",
       "1    6.157008                0.992918                            0   \n",
       "2    5.705077                0.281580                            0   \n",
       "3    2.469688                0.959162                            0   \n",
       "\n",
       "  Application Type  Last week Pay  Accounts Delinquent  \\\n",
       "0       INDIVIDUAL            135                    0   \n",
       "1       INDIVIDUAL             56                    0   \n",
       "2       INDIVIDUAL              3                    0   \n",
       "3       INDIVIDUAL             21                    0   \n",
       "\n",
       "   Total Collection Amount  Total Current Balance  \\\n",
       "0                       24                 475442   \n",
       "1                        1                  72412   \n",
       "2                       26                 284825   \n",
       "3                       32                  40842   \n",
       "\n",
       "   Total Revolving Credit Limit  Loan Status  \n",
       "0                          4364            0  \n",
       "1                          2573            0  \n",
       "2                         19676            0  \n",
       "3                          7226            0  \n",
       "\n",
       "[4 rows x 35 columns]"
      ]
     },
     "execution_count": 7,
     "metadata": {},
     "output_type": "execute_result"
    }
   ],
   "source": [
    "loan_test.head(4)"
   ]
  },
  {
   "cell_type": "markdown",
   "id": "0cc290e9",
   "metadata": {},
   "source": [
    "### Feature Engineering "
   ]
  },
  {
   "cell_type": "code",
   "execution_count": 8,
   "id": "6fe14784",
   "metadata": {},
   "outputs": [
    {
     "data": {
      "text/plain": [
       "Index(['ID', 'Loan Amount', 'Funded Amount', 'Funded Amount Investor', 'Term',\n",
       "       'Batch Enrolled', 'Interest Rate', 'Grade', 'Sub Grade',\n",
       "       'Employment Duration', 'Home Ownership', 'Verification Status',\n",
       "       'Payment Plan', 'Loan Title', 'Debit to Income',\n",
       "       'Delinquency - two years', 'Inquires - six months', 'Open Account',\n",
       "       'Public Record', 'Revolving Balance', 'Revolving Utilities',\n",
       "       'Total Accounts', 'Initial List Status', 'Total Received Interest',\n",
       "       'Total Received Late Fee', 'Recoveries', 'Collection Recovery Fee',\n",
       "       'Collection 12 months Medical', 'Application Type', 'Last week Pay',\n",
       "       'Accounts Delinquent', 'Total Collection Amount',\n",
       "       'Total Current Balance', 'Total Revolving Credit Limit', 'Loan Status'],\n",
       "      dtype='object')"
      ]
     },
     "execution_count": 8,
     "metadata": {},
     "output_type": "execute_result"
    }
   ],
   "source": [
    "loan_train.columns"
   ]
  },
  {
   "cell_type": "code",
   "execution_count": 9,
   "id": "4fb4d482",
   "metadata": {},
   "outputs": [
    {
     "data": {
      "text/plain": [
       "ID                                int64\n",
       "Loan Amount                       int64\n",
       "Funded Amount                     int64\n",
       "Funded Amount Investor          float64\n",
       "Term                              int64\n",
       "Batch Enrolled                   object\n",
       "Interest Rate                   float64\n",
       "Grade                            object\n",
       "Sub Grade                        object\n",
       "Employment Duration              object\n",
       "Home Ownership                  float64\n",
       "Verification Status              object\n",
       "Payment Plan                     object\n",
       "Loan Title                       object\n",
       "Debit to Income                 float64\n",
       "Delinquency - two years           int64\n",
       "Inquires - six months             int64\n",
       "Open Account                      int64\n",
       "Public Record                     int64\n",
       "Revolving Balance                 int64\n",
       "Revolving Utilities             float64\n",
       "Total Accounts                    int64\n",
       "Initial List Status              object\n",
       "Total Received Interest         float64\n",
       "Total Received Late Fee         float64\n",
       "Recoveries                      float64\n",
       "Collection Recovery Fee         float64\n",
       "Collection 12 months Medical      int64\n",
       "Application Type                 object\n",
       "Last week Pay                     int64\n",
       "Accounts Delinquent               int64\n",
       "Total Collection Amount           int64\n",
       "Total Current Balance             int64\n",
       "Total Revolving Credit Limit      int64\n",
       "Loan Status                       int64\n",
       "dtype: object"
      ]
     },
     "execution_count": 9,
     "metadata": {},
     "output_type": "execute_result"
    }
   ],
   "source": [
    "loan_train.dtypes"
   ]
  },
  {
   "cell_type": "markdown",
   "id": "195e44fa",
   "metadata": {},
   "source": [
    "### Checking the `missing values`"
   ]
  },
  {
   "cell_type": "code",
   "execution_count": 10,
   "id": "c6c20ebf",
   "metadata": {},
   "outputs": [
    {
     "data": {
      "text/plain": [
       "ID                              0\n",
       "Loan Amount                     0\n",
       "Funded Amount                   0\n",
       "Funded Amount Investor          0\n",
       "Term                            0\n",
       "Batch Enrolled                  0\n",
       "Interest Rate                   0\n",
       "Grade                           0\n",
       "Sub Grade                       0\n",
       "Employment Duration             0\n",
       "Home Ownership                  0\n",
       "Verification Status             0\n",
       "Payment Plan                    0\n",
       "Loan Title                      0\n",
       "Debit to Income                 0\n",
       "Delinquency - two years         0\n",
       "Inquires - six months           0\n",
       "Open Account                    0\n",
       "Public Record                   0\n",
       "Revolving Balance               0\n",
       "Revolving Utilities             0\n",
       "Total Accounts                  0\n",
       "Initial List Status             0\n",
       "Total Received Interest         0\n",
       "Total Received Late Fee         0\n",
       "Recoveries                      0\n",
       "Collection Recovery Fee         0\n",
       "Collection 12 months Medical    0\n",
       "Application Type                0\n",
       "Last week Pay                   0\n",
       "Accounts Delinquent             0\n",
       "Total Collection Amount         0\n",
       "Total Current Balance           0\n",
       "Total Revolving Credit Limit    0\n",
       "Loan Status                     0\n",
       "dtype: int64"
      ]
     },
     "execution_count": 10,
     "metadata": {},
     "output_type": "execute_result"
    }
   ],
   "source": [
    "loan_train.isnull().sum()"
   ]
  },
  {
   "cell_type": "markdown",
   "id": "38700dba",
   "metadata": {},
   "source": [
    " - Please Note , there is no missing values in the dataset"
   ]
  },
  {
   "cell_type": "code",
   "execution_count": 11,
   "id": "4313766c",
   "metadata": {},
   "outputs": [
    {
     "data": {
      "text/html": [
       "<div>\n",
       "<style scoped>\n",
       "    .dataframe tbody tr th:only-of-type {\n",
       "        vertical-align: middle;\n",
       "    }\n",
       "\n",
       "    .dataframe tbody tr th {\n",
       "        vertical-align: top;\n",
       "    }\n",
       "\n",
       "    .dataframe thead th {\n",
       "        text-align: right;\n",
       "    }\n",
       "</style>\n",
       "<table border=\"1\" class=\"dataframe\">\n",
       "  <thead>\n",
       "    <tr style=\"text-align: right;\">\n",
       "      <th></th>\n",
       "      <th>ID</th>\n",
       "      <th>Loan Amount</th>\n",
       "      <th>Funded Amount</th>\n",
       "      <th>Funded Amount Investor</th>\n",
       "      <th>Term</th>\n",
       "      <th>Batch Enrolled</th>\n",
       "      <th>Interest Rate</th>\n",
       "      <th>Grade</th>\n",
       "      <th>Sub Grade</th>\n",
       "      <th>Employment Duration</th>\n",
       "      <th>...</th>\n",
       "      <th>Recoveries</th>\n",
       "      <th>Collection Recovery Fee</th>\n",
       "      <th>Collection 12 months Medical</th>\n",
       "      <th>Application Type</th>\n",
       "      <th>Last week Pay</th>\n",
       "      <th>Accounts Delinquent</th>\n",
       "      <th>Total Collection Amount</th>\n",
       "      <th>Total Current Balance</th>\n",
       "      <th>Total Revolving Credit Limit</th>\n",
       "      <th>Loan Status</th>\n",
       "    </tr>\n",
       "  </thead>\n",
       "  <tbody>\n",
       "    <tr>\n",
       "      <th>0</th>\n",
       "      <td>65087372</td>\n",
       "      <td>10000</td>\n",
       "      <td>32236</td>\n",
       "      <td>12329.36286</td>\n",
       "      <td>59</td>\n",
       "      <td>BAT2522922</td>\n",
       "      <td>11.135007</td>\n",
       "      <td>B</td>\n",
       "      <td>C4</td>\n",
       "      <td>MORTGAGE</td>\n",
       "      <td>...</td>\n",
       "      <td>2.498291</td>\n",
       "      <td>0.793724</td>\n",
       "      <td>0</td>\n",
       "      <td>INDIVIDUAL</td>\n",
       "      <td>49</td>\n",
       "      <td>0</td>\n",
       "      <td>31</td>\n",
       "      <td>311301</td>\n",
       "      <td>6619</td>\n",
       "      <td>0</td>\n",
       "    </tr>\n",
       "    <tr>\n",
       "      <th>1</th>\n",
       "      <td>1450153</td>\n",
       "      <td>3609</td>\n",
       "      <td>11940</td>\n",
       "      <td>12191.99692</td>\n",
       "      <td>59</td>\n",
       "      <td>BAT1586599</td>\n",
       "      <td>12.237563</td>\n",
       "      <td>C</td>\n",
       "      <td>D3</td>\n",
       "      <td>RENT</td>\n",
       "      <td>...</td>\n",
       "      <td>2.377215</td>\n",
       "      <td>0.974821</td>\n",
       "      <td>0</td>\n",
       "      <td>INDIVIDUAL</td>\n",
       "      <td>109</td>\n",
       "      <td>0</td>\n",
       "      <td>53</td>\n",
       "      <td>182610</td>\n",
       "      <td>20885</td>\n",
       "      <td>0</td>\n",
       "    </tr>\n",
       "    <tr>\n",
       "      <th>2</th>\n",
       "      <td>1969101</td>\n",
       "      <td>28276</td>\n",
       "      <td>9311</td>\n",
       "      <td>21603.22455</td>\n",
       "      <td>59</td>\n",
       "      <td>BAT2136391</td>\n",
       "      <td>12.545884</td>\n",
       "      <td>F</td>\n",
       "      <td>D4</td>\n",
       "      <td>MORTGAGE</td>\n",
       "      <td>...</td>\n",
       "      <td>4.316277</td>\n",
       "      <td>1.020075</td>\n",
       "      <td>0</td>\n",
       "      <td>INDIVIDUAL</td>\n",
       "      <td>66</td>\n",
       "      <td>0</td>\n",
       "      <td>34</td>\n",
       "      <td>89801</td>\n",
       "      <td>26155</td>\n",
       "      <td>0</td>\n",
       "    </tr>\n",
       "  </tbody>\n",
       "</table>\n",
       "<p>3 rows × 35 columns</p>\n",
       "</div>"
      ],
      "text/plain": [
       "         ID  Loan Amount  Funded Amount  Funded Amount Investor  Term  \\\n",
       "0  65087372        10000          32236             12329.36286    59   \n",
       "1   1450153         3609          11940             12191.99692    59   \n",
       "2   1969101        28276           9311             21603.22455    59   \n",
       "\n",
       "  Batch Enrolled  Interest Rate Grade Sub Grade Employment Duration  ...  \\\n",
       "0     BAT2522922      11.135007     B        C4            MORTGAGE  ...   \n",
       "1     BAT1586599      12.237563     C        D3                RENT  ...   \n",
       "2     BAT2136391      12.545884     F        D4            MORTGAGE  ...   \n",
       "\n",
       "   Recoveries Collection Recovery Fee Collection 12 months Medical  \\\n",
       "0    2.498291                0.793724                            0   \n",
       "1    2.377215                0.974821                            0   \n",
       "2    4.316277                1.020075                            0   \n",
       "\n",
       "  Application Type  Last week Pay  Accounts Delinquent  \\\n",
       "0       INDIVIDUAL             49                    0   \n",
       "1       INDIVIDUAL            109                    0   \n",
       "2       INDIVIDUAL             66                    0   \n",
       "\n",
       "   Total Collection Amount  Total Current Balance  \\\n",
       "0                       31                 311301   \n",
       "1                       53                 182610   \n",
       "2                       34                  89801   \n",
       "\n",
       "   Total Revolving Credit Limit  Loan Status  \n",
       "0                          6619            0  \n",
       "1                         20885            0  \n",
       "2                         26155            0  \n",
       "\n",
       "[3 rows x 35 columns]"
      ]
     },
     "execution_count": 11,
     "metadata": {},
     "output_type": "execute_result"
    }
   ],
   "source": [
    "loan_train.head(3)"
   ]
  },
  {
   "cell_type": "code",
   "execution_count": 12,
   "id": "0527de88",
   "metadata": {},
   "outputs": [],
   "source": [
    "### Checking the categorical values in 'Object Format'"
   ]
  },
  {
   "cell_type": "code",
   "execution_count": 13,
   "id": "0eaa3a37",
   "metadata": {},
   "outputs": [
    {
     "data": {
      "text/plain": [
       "C    19085\n",
       "B    18742\n",
       "A    12055\n",
       "D     8259\n",
       "E     6446\n",
       "F     2246\n",
       "G      630\n",
       "Name: Grade, dtype: int64"
      ]
     },
     "execution_count": 13,
     "metadata": {},
     "output_type": "execute_result"
    }
   ],
   "source": [
    "loan_train.Grade.value_counts()"
   ]
  },
  {
   "cell_type": "code",
   "execution_count": 14,
   "id": "6b1fb51a",
   "metadata": {},
   "outputs": [
    {
     "data": {
      "text/plain": [
       "MORTGAGE    36351\n",
       "RENT        24150\n",
       "OWN          6962\n",
       "Name: Employment Duration, dtype: int64"
      ]
     },
     "execution_count": 14,
     "metadata": {},
     "output_type": "execute_result"
    }
   ],
   "source": [
    "loan_train[\"Employment Duration\"].value_counts()"
   ]
  },
  {
   "cell_type": "code",
   "execution_count": 15,
   "id": "3f478d2f",
   "metadata": {},
   "outputs": [
    {
     "data": {
      "text/plain": [
       "INDIVIDUAL    67340\n",
       "JOINT           123\n",
       "Name: Application Type, dtype: int64"
      ]
     },
     "execution_count": 15,
     "metadata": {},
     "output_type": "execute_result"
    }
   ],
   "source": [
    "loan_train[\"Application Type\"].value_counts()"
   ]
  },
  {
   "cell_type": "code",
   "execution_count": 16,
   "id": "ea8584ff",
   "metadata": {},
   "outputs": [
    {
     "data": {
      "text/plain": [
       "Source Verified    33036\n",
       "Verified           18078\n",
       "Not Verified       16349\n",
       "Name: Verification Status, dtype: int64"
      ]
     },
     "execution_count": 16,
     "metadata": {},
     "output_type": "execute_result"
    }
   ],
   "source": [
    "loan_train[\"Verification Status\"].value_counts()"
   ]
  },
  {
   "cell_type": "code",
   "execution_count": 17,
   "id": "d4d0e0a8",
   "metadata": {},
   "outputs": [
    {
     "data": {
      "text/plain": [
       "n    67463\n",
       "Name: Payment Plan, dtype: int64"
      ]
     },
     "execution_count": 17,
     "metadata": {},
     "output_type": "execute_result"
    }
   ],
   "source": [
    "loan_train[\"Payment Plan\"].value_counts()"
   ]
  },
  {
   "cell_type": "markdown",
   "id": "a8bea1ca",
   "metadata": {},
   "source": [
    "#### Mean Encoding "
   ]
  },
  {
   "cell_type": "markdown",
   "id": "6efba9e3",
   "metadata": {},
   "source": [
    "#### Grade"
   ]
  },
  {
   "cell_type": "code",
   "execution_count": 18,
   "id": "aa5ad56f",
   "metadata": {},
   "outputs": [
    {
     "data": {
      "text/plain": [
       "Index(['B', 'A', 'C', 'E', 'D', 'F', 'G'], dtype='object', name='Grade')"
      ]
     },
     "execution_count": 18,
     "metadata": {},
     "output_type": "execute_result"
    }
   ],
   "source": [
    "mean_labels=loan_train.groupby(['Grade'])['Loan Status'].mean().sort_values().index\n",
    "mean_labels"
   ]
  },
  {
   "cell_type": "code",
   "execution_count": 19,
   "id": "ec886d76",
   "metadata": {},
   "outputs": [
    {
     "data": {
      "text/plain": [
       "<enumerate at 0x1faf41aa500>"
      ]
     },
     "execution_count": 19,
     "metadata": {},
     "output_type": "execute_result"
    }
   ],
   "source": [
    "enumerate(mean_labels,0)"
   ]
  },
  {
   "cell_type": "code",
   "execution_count": 20,
   "id": "b001e42e",
   "metadata": {},
   "outputs": [
    {
     "data": {
      "text/plain": [
       "{'B': 0, 'A': 1, 'C': 2, 'E': 3, 'D': 4, 'F': 5, 'G': 6}"
      ]
     },
     "execution_count": 20,
     "metadata": {},
     "output_type": "execute_result"
    }
   ],
   "source": [
    "mean_labels2={k:i for i,k in enumerate(mean_labels,0)}\n",
    "mean_labels2"
   ]
  },
  {
   "cell_type": "code",
   "execution_count": 21,
   "id": "7a480f2f",
   "metadata": {},
   "outputs": [
    {
     "data": {
      "text/html": [
       "<div>\n",
       "<style scoped>\n",
       "    .dataframe tbody tr th:only-of-type {\n",
       "        vertical-align: middle;\n",
       "    }\n",
       "\n",
       "    .dataframe tbody tr th {\n",
       "        vertical-align: top;\n",
       "    }\n",
       "\n",
       "    .dataframe thead th {\n",
       "        text-align: right;\n",
       "    }\n",
       "</style>\n",
       "<table border=\"1\" class=\"dataframe\">\n",
       "  <thead>\n",
       "    <tr style=\"text-align: right;\">\n",
       "      <th></th>\n",
       "      <th>ID</th>\n",
       "      <th>Loan Amount</th>\n",
       "      <th>Funded Amount</th>\n",
       "      <th>Funded Amount Investor</th>\n",
       "      <th>Term</th>\n",
       "      <th>Batch Enrolled</th>\n",
       "      <th>Interest Rate</th>\n",
       "      <th>Grade</th>\n",
       "      <th>Sub Grade</th>\n",
       "      <th>Employment Duration</th>\n",
       "      <th>...</th>\n",
       "      <th>Collection Recovery Fee</th>\n",
       "      <th>Collection 12 months Medical</th>\n",
       "      <th>Application Type</th>\n",
       "      <th>Last week Pay</th>\n",
       "      <th>Accounts Delinquent</th>\n",
       "      <th>Total Collection Amount</th>\n",
       "      <th>Total Current Balance</th>\n",
       "      <th>Total Revolving Credit Limit</th>\n",
       "      <th>Loan Status</th>\n",
       "      <th>Grade_mean_labels</th>\n",
       "    </tr>\n",
       "  </thead>\n",
       "  <tbody>\n",
       "    <tr>\n",
       "      <th>0</th>\n",
       "      <td>65087372</td>\n",
       "      <td>10000</td>\n",
       "      <td>32236</td>\n",
       "      <td>12329.36286</td>\n",
       "      <td>59</td>\n",
       "      <td>BAT2522922</td>\n",
       "      <td>11.135007</td>\n",
       "      <td>B</td>\n",
       "      <td>C4</td>\n",
       "      <td>MORTGAGE</td>\n",
       "      <td>...</td>\n",
       "      <td>0.793724</td>\n",
       "      <td>0</td>\n",
       "      <td>INDIVIDUAL</td>\n",
       "      <td>49</td>\n",
       "      <td>0</td>\n",
       "      <td>31</td>\n",
       "      <td>311301</td>\n",
       "      <td>6619</td>\n",
       "      <td>0</td>\n",
       "      <td>0</td>\n",
       "    </tr>\n",
       "    <tr>\n",
       "      <th>1</th>\n",
       "      <td>1450153</td>\n",
       "      <td>3609</td>\n",
       "      <td>11940</td>\n",
       "      <td>12191.99692</td>\n",
       "      <td>59</td>\n",
       "      <td>BAT1586599</td>\n",
       "      <td>12.237563</td>\n",
       "      <td>C</td>\n",
       "      <td>D3</td>\n",
       "      <td>RENT</td>\n",
       "      <td>...</td>\n",
       "      <td>0.974821</td>\n",
       "      <td>0</td>\n",
       "      <td>INDIVIDUAL</td>\n",
       "      <td>109</td>\n",
       "      <td>0</td>\n",
       "      <td>53</td>\n",
       "      <td>182610</td>\n",
       "      <td>20885</td>\n",
       "      <td>0</td>\n",
       "      <td>2</td>\n",
       "    </tr>\n",
       "    <tr>\n",
       "      <th>2</th>\n",
       "      <td>1969101</td>\n",
       "      <td>28276</td>\n",
       "      <td>9311</td>\n",
       "      <td>21603.22455</td>\n",
       "      <td>59</td>\n",
       "      <td>BAT2136391</td>\n",
       "      <td>12.545884</td>\n",
       "      <td>F</td>\n",
       "      <td>D4</td>\n",
       "      <td>MORTGAGE</td>\n",
       "      <td>...</td>\n",
       "      <td>1.020075</td>\n",
       "      <td>0</td>\n",
       "      <td>INDIVIDUAL</td>\n",
       "      <td>66</td>\n",
       "      <td>0</td>\n",
       "      <td>34</td>\n",
       "      <td>89801</td>\n",
       "      <td>26155</td>\n",
       "      <td>0</td>\n",
       "      <td>5</td>\n",
       "    </tr>\n",
       "    <tr>\n",
       "      <th>3</th>\n",
       "      <td>6651430</td>\n",
       "      <td>11170</td>\n",
       "      <td>6954</td>\n",
       "      <td>17877.15585</td>\n",
       "      <td>59</td>\n",
       "      <td>BAT2428731</td>\n",
       "      <td>16.731201</td>\n",
       "      <td>C</td>\n",
       "      <td>C3</td>\n",
       "      <td>MORTGAGE</td>\n",
       "      <td>...</td>\n",
       "      <td>0.749971</td>\n",
       "      <td>0</td>\n",
       "      <td>INDIVIDUAL</td>\n",
       "      <td>39</td>\n",
       "      <td>0</td>\n",
       "      <td>40</td>\n",
       "      <td>9189</td>\n",
       "      <td>60214</td>\n",
       "      <td>0</td>\n",
       "      <td>2</td>\n",
       "    </tr>\n",
       "    <tr>\n",
       "      <th>4</th>\n",
       "      <td>14354669</td>\n",
       "      <td>16890</td>\n",
       "      <td>13226</td>\n",
       "      <td>13539.92667</td>\n",
       "      <td>59</td>\n",
       "      <td>BAT5341619</td>\n",
       "      <td>15.008300</td>\n",
       "      <td>C</td>\n",
       "      <td>D4</td>\n",
       "      <td>MORTGAGE</td>\n",
       "      <td>...</td>\n",
       "      <td>0.368953</td>\n",
       "      <td>0</td>\n",
       "      <td>INDIVIDUAL</td>\n",
       "      <td>18</td>\n",
       "      <td>0</td>\n",
       "      <td>430</td>\n",
       "      <td>126029</td>\n",
       "      <td>22579</td>\n",
       "      <td>0</td>\n",
       "      <td>2</td>\n",
       "    </tr>\n",
       "  </tbody>\n",
       "</table>\n",
       "<p>5 rows × 36 columns</p>\n",
       "</div>"
      ],
      "text/plain": [
       "         ID  Loan Amount  Funded Amount  Funded Amount Investor  Term  \\\n",
       "0  65087372        10000          32236             12329.36286    59   \n",
       "1   1450153         3609          11940             12191.99692    59   \n",
       "2   1969101        28276           9311             21603.22455    59   \n",
       "3   6651430        11170           6954             17877.15585    59   \n",
       "4  14354669        16890          13226             13539.92667    59   \n",
       "\n",
       "  Batch Enrolled  Interest Rate Grade Sub Grade Employment Duration  ...  \\\n",
       "0     BAT2522922      11.135007     B        C4            MORTGAGE  ...   \n",
       "1     BAT1586599      12.237563     C        D3                RENT  ...   \n",
       "2     BAT2136391      12.545884     F        D4            MORTGAGE  ...   \n",
       "3     BAT2428731      16.731201     C        C3            MORTGAGE  ...   \n",
       "4     BAT5341619      15.008300     C        D4            MORTGAGE  ...   \n",
       "\n",
       "   Collection Recovery Fee Collection 12 months Medical Application Type  \\\n",
       "0                 0.793724                            0       INDIVIDUAL   \n",
       "1                 0.974821                            0       INDIVIDUAL   \n",
       "2                 1.020075                            0       INDIVIDUAL   \n",
       "3                 0.749971                            0       INDIVIDUAL   \n",
       "4                 0.368953                            0       INDIVIDUAL   \n",
       "\n",
       "  Last week Pay  Accounts Delinquent  Total Collection Amount  \\\n",
       "0            49                    0                       31   \n",
       "1           109                    0                       53   \n",
       "2            66                    0                       34   \n",
       "3            39                    0                       40   \n",
       "4            18                    0                      430   \n",
       "\n",
       "   Total Current Balance  Total Revolving Credit Limit  Loan Status  \\\n",
       "0                 311301                          6619            0   \n",
       "1                 182610                         20885            0   \n",
       "2                  89801                         26155            0   \n",
       "3                   9189                         60214            0   \n",
       "4                 126029                         22579            0   \n",
       "\n",
       "   Grade_mean_labels  \n",
       "0                  0  \n",
       "1                  2  \n",
       "2                  5  \n",
       "3                  2  \n",
       "4                  2  \n",
       "\n",
       "[5 rows x 36 columns]"
      ]
     },
     "execution_count": 21,
     "metadata": {},
     "output_type": "execute_result"
    }
   ],
   "source": [
    "loan_train['Grade_mean_labels']=loan_train['Grade'].map(mean_labels2)\n",
    "loan_train.head()"
   ]
  },
  {
   "cell_type": "code",
   "execution_count": 22,
   "id": "3f0244de",
   "metadata": {},
   "outputs": [],
   "source": [
    "loan_train = loan_train.drop(columns=\"Grade\")"
   ]
  },
  {
   "cell_type": "code",
   "execution_count": 23,
   "id": "b1c69e53",
   "metadata": {},
   "outputs": [
    {
     "data": {
      "text/plain": [
       "(67463, 35)"
      ]
     },
     "execution_count": 23,
     "metadata": {},
     "output_type": "execute_result"
    }
   ],
   "source": [
    "loan_train.shape"
   ]
  },
  {
   "cell_type": "markdown",
   "id": "d8d794e6",
   "metadata": {},
   "source": [
    "#### Employment Duration "
   ]
  },
  {
   "cell_type": "code",
   "execution_count": 24,
   "id": "4aab2601",
   "metadata": {},
   "outputs": [
    {
     "data": {
      "text/plain": [
       "Index(['MORTGAGE', 'RENT', 'OWN'], dtype='object', name='Employment Duration')"
      ]
     },
     "execution_count": 24,
     "metadata": {},
     "output_type": "execute_result"
    }
   ],
   "source": [
    "mean_labels=loan_train.groupby(['Employment Duration'])['Loan Status'].mean().sort_values().index\n",
    "mean_labels"
   ]
  },
  {
   "cell_type": "code",
   "execution_count": 25,
   "id": "e7705966",
   "metadata": {},
   "outputs": [
    {
     "data": {
      "text/plain": [
       "<enumerate at 0x1faf41828c0>"
      ]
     },
     "execution_count": 25,
     "metadata": {},
     "output_type": "execute_result"
    }
   ],
   "source": [
    "enumerate(mean_labels,0)"
   ]
  },
  {
   "cell_type": "code",
   "execution_count": 26,
   "id": "c4a886ca",
   "metadata": {},
   "outputs": [
    {
     "data": {
      "text/plain": [
       "{'MORTGAGE': 0, 'RENT': 1, 'OWN': 2}"
      ]
     },
     "execution_count": 26,
     "metadata": {},
     "output_type": "execute_result"
    }
   ],
   "source": [
    "mean_labels2={k:i for i,k in enumerate(mean_labels,0)}\n",
    "mean_labels2"
   ]
  },
  {
   "cell_type": "code",
   "execution_count": 27,
   "id": "e4a200c7",
   "metadata": {},
   "outputs": [],
   "source": [
    "loan_train['Employment Duration_ordinal_labels']=loan_train['Employment Duration'].map(mean_labels2)"
   ]
  },
  {
   "cell_type": "code",
   "execution_count": 28,
   "id": "7faae538",
   "metadata": {},
   "outputs": [],
   "source": [
    "loan_train  = loan_train.drop(columns=\"Employment Duration\")"
   ]
  },
  {
   "cell_type": "markdown",
   "id": "5c70e8fe",
   "metadata": {},
   "source": [
    "#### Application Type"
   ]
  },
  {
   "cell_type": "code",
   "execution_count": 29,
   "id": "ee312df9",
   "metadata": {},
   "outputs": [
    {
     "data": {
      "text/plain": [
       "Index(['JOINT', 'INDIVIDUAL'], dtype='object', name='Application Type')"
      ]
     },
     "execution_count": 29,
     "metadata": {},
     "output_type": "execute_result"
    }
   ],
   "source": [
    "mean_labels=loan_train.groupby(['Application Type'])['Loan Status'].mean().sort_values().index\n",
    "mean_labels"
   ]
  },
  {
   "cell_type": "code",
   "execution_count": 30,
   "id": "4a4acea7",
   "metadata": {},
   "outputs": [
    {
     "data": {
      "text/plain": [
       "<enumerate at 0x1faf43dd240>"
      ]
     },
     "execution_count": 30,
     "metadata": {},
     "output_type": "execute_result"
    }
   ],
   "source": [
    "enumerate(mean_labels,0)"
   ]
  },
  {
   "cell_type": "code",
   "execution_count": 31,
   "id": "5fb73c9b",
   "metadata": {},
   "outputs": [
    {
     "data": {
      "text/plain": [
       "{'JOINT': 0, 'INDIVIDUAL': 1}"
      ]
     },
     "execution_count": 31,
     "metadata": {},
     "output_type": "execute_result"
    }
   ],
   "source": [
    "mean_labels2={k:i for i,k in enumerate(mean_labels,0)}\n",
    "mean_labels2"
   ]
  },
  {
   "cell_type": "code",
   "execution_count": 32,
   "id": "bd3b10f3",
   "metadata": {},
   "outputs": [],
   "source": [
    "loan_train['Application Type_mean_labels']=loan_train['Application Type'].map(mean_labels2)"
   ]
  },
  {
   "cell_type": "code",
   "execution_count": 33,
   "id": "d51c6175",
   "metadata": {},
   "outputs": [],
   "source": [
    "loan_train = loan_train.drop(columns=\"Application Type\")"
   ]
  },
  {
   "cell_type": "markdown",
   "id": "30ce9ac6",
   "metadata": {},
   "source": [
    "#### Verification Status"
   ]
  },
  {
   "cell_type": "code",
   "execution_count": 34,
   "id": "9656627f",
   "metadata": {},
   "outputs": [
    {
     "data": {
      "text/plain": [
       "Index(['Verified', 'Not Verified', 'Source Verified'], dtype='object', name='Verification Status')"
      ]
     },
     "execution_count": 34,
     "metadata": {},
     "output_type": "execute_result"
    }
   ],
   "source": [
    "mean_labels=loan_train.groupby(['Verification Status'])['Loan Status'].mean().sort_values().index\n",
    "mean_labels"
   ]
  },
  {
   "cell_type": "code",
   "execution_count": 35,
   "id": "59dcedf2",
   "metadata": {},
   "outputs": [
    {
     "data": {
      "text/plain": [
       "<enumerate at 0x1faf43dd980>"
      ]
     },
     "execution_count": 35,
     "metadata": {},
     "output_type": "execute_result"
    }
   ],
   "source": [
    "enumerate(mean_labels,0)"
   ]
  },
  {
   "cell_type": "code",
   "execution_count": 36,
   "id": "8d0f155c",
   "metadata": {},
   "outputs": [
    {
     "data": {
      "text/plain": [
       "{'Verified': 0, 'Not Verified': 1, 'Source Verified': 2}"
      ]
     },
     "execution_count": 36,
     "metadata": {},
     "output_type": "execute_result"
    }
   ],
   "source": [
    "mean_labels2={k:i for i,k in enumerate(mean_labels,0)}\n",
    "mean_labels2"
   ]
  },
  {
   "cell_type": "code",
   "execution_count": 37,
   "id": "56680af2",
   "metadata": {},
   "outputs": [],
   "source": [
    "loan_train['Verification Status_mean_labels']=loan_train['Verification Status'].map(mean_labels2)"
   ]
  },
  {
   "cell_type": "code",
   "execution_count": 38,
   "id": "de3ef554",
   "metadata": {},
   "outputs": [],
   "source": [
    "loan_train = loan_train.drop(columns=\"Verification Status\")"
   ]
  },
  {
   "cell_type": "markdown",
   "id": "769906aa",
   "metadata": {},
   "source": [
    "###### Payment Plan"
   ]
  },
  {
   "cell_type": "code",
   "execution_count": 39,
   "id": "8e1ed9fc",
   "metadata": {},
   "outputs": [
    {
     "data": {
      "text/plain": [
       "Index(['n'], dtype='object', name='Payment Plan')"
      ]
     },
     "execution_count": 39,
     "metadata": {},
     "output_type": "execute_result"
    }
   ],
   "source": [
    "mean_labels=loan_train.groupby(['Payment Plan'])['Loan Status'].mean().sort_values().index\n",
    "mean_labels"
   ]
  },
  {
   "cell_type": "code",
   "execution_count": 40,
   "id": "1db26f7c",
   "metadata": {},
   "outputs": [
    {
     "data": {
      "text/plain": [
       "<enumerate at 0x1faf43dd200>"
      ]
     },
     "execution_count": 40,
     "metadata": {},
     "output_type": "execute_result"
    }
   ],
   "source": [
    "enumerate(mean_labels,0)"
   ]
  },
  {
   "cell_type": "code",
   "execution_count": 41,
   "id": "dd80ee1a",
   "metadata": {},
   "outputs": [
    {
     "data": {
      "text/plain": [
       "{'n': 0}"
      ]
     },
     "execution_count": 41,
     "metadata": {},
     "output_type": "execute_result"
    }
   ],
   "source": [
    "mean_labels2={k:i for i,k in enumerate(mean_labels,0)}\n",
    "mean_labels2"
   ]
  },
  {
   "cell_type": "code",
   "execution_count": 42,
   "id": "7e2c591f",
   "metadata": {},
   "outputs": [],
   "source": [
    "loan_train['Payment Plan_mean_labels']=loan_train['Payment Plan'].map(mean_labels2)"
   ]
  },
  {
   "cell_type": "code",
   "execution_count": 43,
   "id": "983bfe99",
   "metadata": {},
   "outputs": [],
   "source": [
    "loan_train = loan_train.drop(columns=\"Payment Plan\")"
   ]
  },
  {
   "cell_type": "markdown",
   "id": "2b62419c",
   "metadata": {},
   "source": [
    "### Similarly for the test dataset"
   ]
  },
  {
   "cell_type": "code",
   "execution_count": 44,
   "id": "a57b9a15",
   "metadata": {},
   "outputs": [
    {
     "data": {
      "text/plain": [
       "Index(['ID', 'Loan Amount', 'Funded Amount', 'Funded Amount Investor', 'Term',\n",
       "       'Batch Enrolled', 'Interest Rate', 'Grade', 'Sub Grade',\n",
       "       'Employment Duration', 'Home Ownership', 'Verification Status',\n",
       "       'Payment Plan', 'Loan Title', 'Debit to Income',\n",
       "       'Delinquency - two years', 'Inquires - six months', 'Open Account',\n",
       "       'Public Record', 'Revolving Balance', 'Revolving Utilities',\n",
       "       'Total Accounts', 'Initial List Status', 'Total Received Interest',\n",
       "       'Total Received Late Fee', 'Recoveries', 'Collection Recovery Fee',\n",
       "       'Collection 12 months Medical', 'Application Type', 'Last week Pay',\n",
       "       'Accounts Delinquent', 'Total Collection Amount',\n",
       "       'Total Current Balance', 'Total Revolving Credit Limit', 'Loan Status'],\n",
       "      dtype='object')"
      ]
     },
     "execution_count": 44,
     "metadata": {},
     "output_type": "execute_result"
    }
   ],
   "source": [
    "loan_test.columns"
   ]
  },
  {
   "cell_type": "markdown",
   "id": "ddec74fd",
   "metadata": {},
   "source": [
    "#### Grade"
   ]
  },
  {
   "cell_type": "code",
   "execution_count": 45,
   "id": "38ba21c8",
   "metadata": {},
   "outputs": [
    {
     "data": {
      "text/plain": [
       "Index(['A', 'B', 'C', 'D', 'E', 'F', 'G'], dtype='object', name='Grade')"
      ]
     },
     "execution_count": 45,
     "metadata": {},
     "output_type": "execute_result"
    }
   ],
   "source": [
    "mean_labels=loan_test.groupby(['Grade'])['Loan Status'].mean().sort_values().index\n",
    "mean_labels"
   ]
  },
  {
   "cell_type": "code",
   "execution_count": 46,
   "id": "d21edd11",
   "metadata": {},
   "outputs": [
    {
     "data": {
      "text/plain": [
       "<enumerate at 0x1faf43fb200>"
      ]
     },
     "execution_count": 46,
     "metadata": {},
     "output_type": "execute_result"
    }
   ],
   "source": [
    "enumerate(mean_labels,0)"
   ]
  },
  {
   "cell_type": "code",
   "execution_count": 47,
   "id": "f6b7cba8",
   "metadata": {},
   "outputs": [
    {
     "data": {
      "text/plain": [
       "{'A': 0, 'B': 1, 'C': 2, 'D': 3, 'E': 4, 'F': 5, 'G': 6}"
      ]
     },
     "execution_count": 47,
     "metadata": {},
     "output_type": "execute_result"
    }
   ],
   "source": [
    "mean_labels2={k:i for i,k in enumerate(mean_labels,0)}\n",
    "mean_labels2"
   ]
  },
  {
   "cell_type": "code",
   "execution_count": 48,
   "id": "fcb848d9",
   "metadata": {},
   "outputs": [],
   "source": [
    "loan_test['Grade_mean_labels']=loan_test['Grade'].map(mean_labels2)"
   ]
  },
  {
   "cell_type": "code",
   "execution_count": 49,
   "id": "1cc5e252",
   "metadata": {},
   "outputs": [],
   "source": [
    "loan_test = loan_test.drop(columns=\"Grade\")"
   ]
  },
  {
   "cell_type": "markdown",
   "id": "dd2428ea",
   "metadata": {},
   "source": [
    "#### Employment Duration "
   ]
  },
  {
   "cell_type": "code",
   "execution_count": 50,
   "id": "3d4f2e38",
   "metadata": {},
   "outputs": [
    {
     "data": {
      "text/plain": [
       "Index(['MORTGAGE', 'OWN', 'RENT'], dtype='object', name='Employment Duration')"
      ]
     },
     "execution_count": 50,
     "metadata": {},
     "output_type": "execute_result"
    }
   ],
   "source": [
    "mean_labels=loan_test.groupby(['Employment Duration'])['Loan Status'].mean().sort_values().index\n",
    "mean_labels"
   ]
  },
  {
   "cell_type": "code",
   "execution_count": 51,
   "id": "d93595d6",
   "metadata": {},
   "outputs": [
    {
     "data": {
      "text/plain": [
       "<enumerate at 0x1faf43f6640>"
      ]
     },
     "execution_count": 51,
     "metadata": {},
     "output_type": "execute_result"
    }
   ],
   "source": [
    "enumerate(mean_labels,0)"
   ]
  },
  {
   "cell_type": "code",
   "execution_count": 52,
   "id": "186a61bf",
   "metadata": {},
   "outputs": [
    {
     "data": {
      "text/plain": [
       "{'MORTGAGE': 0, 'OWN': 1, 'RENT': 2}"
      ]
     },
     "execution_count": 52,
     "metadata": {},
     "output_type": "execute_result"
    }
   ],
   "source": [
    "mean_labels2={k:i for i,k in enumerate(mean_labels,0)}\n",
    "mean_labels2"
   ]
  },
  {
   "cell_type": "code",
   "execution_count": 53,
   "id": "1d8da668",
   "metadata": {},
   "outputs": [],
   "source": [
    "loan_test['Employment Duration_mean_labels']=loan_test['Employment Duration'].map(mean_labels2)"
   ]
  },
  {
   "cell_type": "code",
   "execution_count": 54,
   "id": "62d4c157",
   "metadata": {},
   "outputs": [],
   "source": [
    "loan_test = loan_test.drop(columns=\"Employment Duration\")"
   ]
  },
  {
   "cell_type": "markdown",
   "id": "85866610",
   "metadata": {},
   "source": [
    "#### Application Type"
   ]
  },
  {
   "cell_type": "code",
   "execution_count": 55,
   "id": "cebdbd9d",
   "metadata": {},
   "outputs": [
    {
     "data": {
      "text/plain": [
       "Index(['INDIVIDUAL', 'JOINT'], dtype='object', name='Application Type')"
      ]
     },
     "execution_count": 55,
     "metadata": {},
     "output_type": "execute_result"
    }
   ],
   "source": [
    "mean_labels=loan_test.groupby(['Application Type'])['Loan Status'].mean().sort_values().index\n",
    "mean_labels"
   ]
  },
  {
   "cell_type": "code",
   "execution_count": 56,
   "id": "33f45a01",
   "metadata": {},
   "outputs": [
    {
     "data": {
      "text/plain": [
       "<enumerate at 0x1faf4405540>"
      ]
     },
     "execution_count": 56,
     "metadata": {},
     "output_type": "execute_result"
    }
   ],
   "source": [
    "enumerate(mean_labels,0)"
   ]
  },
  {
   "cell_type": "code",
   "execution_count": 57,
   "id": "a7efbd25",
   "metadata": {},
   "outputs": [
    {
     "data": {
      "text/plain": [
       "{'INDIVIDUAL': 0, 'JOINT': 1}"
      ]
     },
     "execution_count": 57,
     "metadata": {},
     "output_type": "execute_result"
    }
   ],
   "source": [
    "mean_labels2={k:i for i,k in enumerate(mean_labels,0)}\n",
    "mean_labels2"
   ]
  },
  {
   "cell_type": "code",
   "execution_count": 58,
   "id": "eda01b8a",
   "metadata": {},
   "outputs": [],
   "source": [
    "loan_test['Application Type_mean_labels']=loan_test['Application Type'].map(mean_labels2)"
   ]
  },
  {
   "cell_type": "code",
   "execution_count": 59,
   "id": "e86b696d",
   "metadata": {},
   "outputs": [],
   "source": [
    "loan_test = loan_test.drop(columns=\"Application Type\")"
   ]
  },
  {
   "cell_type": "markdown",
   "id": "47170b09",
   "metadata": {},
   "source": [
    "#### Verification Status"
   ]
  },
  {
   "cell_type": "code",
   "execution_count": 60,
   "id": "2c56a175",
   "metadata": {},
   "outputs": [
    {
     "data": {
      "text/plain": [
       "Index(['Not Verified', 'Source Verified', 'Verified'], dtype='object', name='Verification Status')"
      ]
     },
     "execution_count": 60,
     "metadata": {},
     "output_type": "execute_result"
    }
   ],
   "source": [
    "mean_labels=loan_test.groupby(['Verification Status'])['Loan Status'].mean().sort_values().index\n",
    "mean_labels"
   ]
  },
  {
   "cell_type": "code",
   "execution_count": 61,
   "id": "b0442fd8",
   "metadata": {},
   "outputs": [
    {
     "data": {
      "text/plain": [
       "<enumerate at 0x1faf44098c0>"
      ]
     },
     "execution_count": 61,
     "metadata": {},
     "output_type": "execute_result"
    }
   ],
   "source": [
    "enumerate(mean_labels,0)"
   ]
  },
  {
   "cell_type": "code",
   "execution_count": 62,
   "id": "a69985ce",
   "metadata": {},
   "outputs": [
    {
     "data": {
      "text/plain": [
       "{'Not Verified': 0, 'Source Verified': 1, 'Verified': 2}"
      ]
     },
     "execution_count": 62,
     "metadata": {},
     "output_type": "execute_result"
    }
   ],
   "source": [
    "mean_labels2={k:i for i,k in enumerate(mean_labels,0)}\n",
    "mean_labels2"
   ]
  },
  {
   "cell_type": "code",
   "execution_count": 63,
   "id": "f650c9e8",
   "metadata": {},
   "outputs": [],
   "source": [
    "loan_test['Verification Status_mean_labels']=loan_test['Verification Status'].map(mean_labels2)"
   ]
  },
  {
   "cell_type": "code",
   "execution_count": 64,
   "id": "a803d462",
   "metadata": {},
   "outputs": [],
   "source": [
    "loan_test = loan_test.drop(columns=\"Verification Status\")"
   ]
  },
  {
   "cell_type": "markdown",
   "id": "529d8ec4",
   "metadata": {},
   "source": [
    "###### Payment Plan"
   ]
  },
  {
   "cell_type": "code",
   "execution_count": 65,
   "id": "325375c6",
   "metadata": {},
   "outputs": [
    {
     "data": {
      "text/plain": [
       "Index(['n'], dtype='object', name='Payment Plan')"
      ]
     },
     "execution_count": 65,
     "metadata": {},
     "output_type": "execute_result"
    }
   ],
   "source": [
    "mean_labels=loan_test.groupby(['Payment Plan'])['Loan Status'].mean().sort_values().index\n",
    "mean_labels"
   ]
  },
  {
   "cell_type": "code",
   "execution_count": 66,
   "id": "8e5dc289",
   "metadata": {},
   "outputs": [
    {
     "data": {
      "text/plain": [
       "<enumerate at 0x1faf4416200>"
      ]
     },
     "execution_count": 66,
     "metadata": {},
     "output_type": "execute_result"
    }
   ],
   "source": [
    "enumerate(mean_labels,0)"
   ]
  },
  {
   "cell_type": "code",
   "execution_count": 67,
   "id": "0255c81a",
   "metadata": {},
   "outputs": [
    {
     "data": {
      "text/plain": [
       "{'n': 0}"
      ]
     },
     "execution_count": 67,
     "metadata": {},
     "output_type": "execute_result"
    }
   ],
   "source": [
    "mean_labels2={k:i for i,k in enumerate(mean_labels,0)}\n",
    "mean_labels2"
   ]
  },
  {
   "cell_type": "code",
   "execution_count": 68,
   "id": "facae6c6",
   "metadata": {},
   "outputs": [],
   "source": [
    "loan_test['Payment Plan_mean_labels']=loan_test['Payment Plan'].map(mean_labels2)"
   ]
  },
  {
   "cell_type": "code",
   "execution_count": 69,
   "id": "07f5a614",
   "metadata": {},
   "outputs": [],
   "source": [
    "loan_test = loan_test.drop(columns=\"Payment Plan\")"
   ]
  },
  {
   "cell_type": "markdown",
   "id": "14512ae6",
   "metadata": {},
   "source": [
    "#### Label Encoding For Train And Test Dataset"
   ]
  },
  {
   "cell_type": "code",
   "execution_count": 70,
   "id": "d97b6b69",
   "metadata": {},
   "outputs": [
    {
     "data": {
      "text/plain": [
       "array([16,  4, 11, 15, 32, 29, 31, 17, 10, 13, 14, 39, 20, 19, 34, 37,  9,\n",
       "       30, 25,  7, 27, 38,  2, 26, 21,  3, 18, 28,  0, 40,  8,  6, 33, 24,\n",
       "       36, 35, 12, 23, 22,  5,  1])"
      ]
     },
     "execution_count": 70,
     "metadata": {},
     "output_type": "execute_result"
    }
   ],
   "source": [
    "from sklearn import preprocessing\n",
    " \n",
    "# label_encoder object knows how to understand word labels.\n",
    "label_encoder = preprocessing.LabelEncoder()\n",
    " \n",
    "# Encode labels in Rest Object Columns.\n",
    "loan_train['Batch Enrolled']= label_encoder.fit_transform(loan_train['Batch Enrolled'])\n",
    " \n",
    "loan_train['Batch Enrolled'].unique()"
   ]
  },
  {
   "cell_type": "code",
   "execution_count": 71,
   "id": "5d2b559f",
   "metadata": {},
   "outputs": [],
   "source": [
    "loan_train['Sub Grade']= label_encoder.fit_transform(loan_train['Sub Grade'])"
   ]
  },
  {
   "cell_type": "code",
   "execution_count": 72,
   "id": "6338ec04",
   "metadata": {},
   "outputs": [],
   "source": [
    "loan_train['Loan Title']= label_encoder.fit_transform(loan_train['Loan Title'])"
   ]
  },
  {
   "cell_type": "code",
   "execution_count": 73,
   "id": "4e166f33",
   "metadata": {},
   "outputs": [],
   "source": [
    "loan_train['Initial List Status']= label_encoder.fit_transform(loan_train['Initial List Status'])"
   ]
  },
  {
   "cell_type": "markdown",
   "id": "6bfe1715",
   "metadata": {},
   "source": [
    "#### Similarly For Test Dataset"
   ]
  },
  {
   "cell_type": "code",
   "execution_count": 74,
   "id": "eaecec0f",
   "metadata": {},
   "outputs": [],
   "source": [
    "loan_test['Batch Enrolled']= label_encoder.fit_transform(loan_test['Batch Enrolled'])"
   ]
  },
  {
   "cell_type": "code",
   "execution_count": 75,
   "id": "f963d66e",
   "metadata": {},
   "outputs": [],
   "source": [
    "loan_test['Sub Grade']= label_encoder.fit_transform(loan_test['Sub Grade'])"
   ]
  },
  {
   "cell_type": "code",
   "execution_count": 76,
   "id": "738911c8",
   "metadata": {},
   "outputs": [],
   "source": [
    "loan_test['Loan Title']= label_encoder.fit_transform(loan_test['Loan Title'])"
   ]
  },
  {
   "cell_type": "code",
   "execution_count": 77,
   "id": "17ef34a3",
   "metadata": {},
   "outputs": [],
   "source": [
    "loan_test['Initial List Status']= label_encoder.fit_transform(loan_test['Initial List Status'])"
   ]
  },
  {
   "cell_type": "code",
   "execution_count": 78,
   "id": "4a7218b5",
   "metadata": {},
   "outputs": [],
   "source": [
    "### Checking the dtypes for the dataset"
   ]
  },
  {
   "cell_type": "code",
   "execution_count": 79,
   "id": "a143244b",
   "metadata": {},
   "outputs": [
    {
     "data": {
      "text/plain": [
       "ID                                      int64\n",
       "Loan Amount                             int64\n",
       "Funded Amount                           int64\n",
       "Funded Amount Investor                float64\n",
       "Term                                    int64\n",
       "Batch Enrolled                          int32\n",
       "Interest Rate                         float64\n",
       "Sub Grade                               int32\n",
       "Home Ownership                        float64\n",
       "Loan Title                              int32\n",
       "Debit to Income                       float64\n",
       "Delinquency - two years                 int64\n",
       "Inquires - six months                   int64\n",
       "Open Account                            int64\n",
       "Public Record                           int64\n",
       "Revolving Balance                       int64\n",
       "Revolving Utilities                   float64\n",
       "Total Accounts                          int64\n",
       "Initial List Status                     int32\n",
       "Total Received Interest               float64\n",
       "Total Received Late Fee               float64\n",
       "Recoveries                            float64\n",
       "Collection Recovery Fee               float64\n",
       "Collection 12 months Medical            int64\n",
       "Last week Pay                           int64\n",
       "Accounts Delinquent                     int64\n",
       "Total Collection Amount                 int64\n",
       "Total Current Balance                   int64\n",
       "Total Revolving Credit Limit            int64\n",
       "Loan Status                             int64\n",
       "Grade_mean_labels                       int64\n",
       "Employment Duration_ordinal_labels      int64\n",
       "Application Type_mean_labels            int64\n",
       "Verification Status_mean_labels         int64\n",
       "Payment Plan_mean_labels                int64\n",
       "dtype: object"
      ]
     },
     "execution_count": 79,
     "metadata": {},
     "output_type": "execute_result"
    }
   ],
   "source": [
    "loan_train.dtypes"
   ]
  },
  {
   "cell_type": "code",
   "execution_count": 80,
   "id": "2f185f1e",
   "metadata": {},
   "outputs": [],
   "source": [
    "X_train = loan_train.drop(columns=\"Loan Status\")"
   ]
  },
  {
   "cell_type": "code",
   "execution_count": 81,
   "id": "2c842750",
   "metadata": {},
   "outputs": [],
   "source": [
    "y_train = loan_train[\"Loan Status\"]"
   ]
  },
  {
   "cell_type": "code",
   "execution_count": 82,
   "id": "a0be68fd",
   "metadata": {},
   "outputs": [],
   "source": [
    "X_test = loan_test.drop(columns=\"Loan Status\")"
   ]
  },
  {
   "cell_type": "code",
   "execution_count": 83,
   "id": "dec7a3ea",
   "metadata": {},
   "outputs": [],
   "source": [
    "y_test = loan_test[\"Loan Status\"]"
   ]
  },
  {
   "cell_type": "markdown",
   "id": "d2436491",
   "metadata": {},
   "source": [
    "##### Dimensions "
   ]
  },
  {
   "cell_type": "code",
   "execution_count": 84,
   "id": "f0ca361b",
   "metadata": {},
   "outputs": [
    {
     "data": {
      "text/plain": [
       "(67463, 34)"
      ]
     },
     "execution_count": 84,
     "metadata": {},
     "output_type": "execute_result"
    }
   ],
   "source": [
    "X_train.shape"
   ]
  },
  {
   "cell_type": "code",
   "execution_count": 85,
   "id": "766001ad",
   "metadata": {},
   "outputs": [
    {
     "data": {
      "text/plain": [
       "(28913, 34)"
      ]
     },
     "execution_count": 85,
     "metadata": {},
     "output_type": "execute_result"
    }
   ],
   "source": [
    "X_test.shape"
   ]
  },
  {
   "cell_type": "code",
   "execution_count": 86,
   "id": "d72bb742",
   "metadata": {},
   "outputs": [
    {
     "data": {
      "text/plain": [
       "(67463,)"
      ]
     },
     "execution_count": 86,
     "metadata": {},
     "output_type": "execute_result"
    }
   ],
   "source": [
    "y_train.shape"
   ]
  },
  {
   "cell_type": "code",
   "execution_count": 87,
   "id": "f5ab76bd",
   "metadata": {},
   "outputs": [
    {
     "data": {
      "text/plain": [
       "(28913,)"
      ]
     },
     "execution_count": 87,
     "metadata": {},
     "output_type": "execute_result"
    }
   ],
   "source": [
    "y_test.shape"
   ]
  },
  {
   "cell_type": "markdown",
   "id": "f4b9b100",
   "metadata": {},
   "source": [
    "# Scaling And Normalizarion "
   ]
  },
  {
   "cell_type": "markdown",
   "id": "1405b4a1",
   "metadata": {},
   "source": [
    "##### Robust Scaler\n",
    "It is used to scale the feature to median and quantiles\n",
    "Scaling using median and quantiles consists of substracting the median to all the observations, and then dividing by the interquantile difference. The interquantile difference is the difference between the 75th and 25th quantile:\n",
    "\n",
    "IQR = 75th quantile - 25th quantile\n",
    "\n",
    "X_scaled = (X - X.median) / IQR"
   ]
  },
  {
   "cell_type": "code",
   "execution_count": 88,
   "id": "eac8d14e",
   "metadata": {},
   "outputs": [
    {
     "data": {
      "text/html": [
       "<div>\n",
       "<style scoped>\n",
       "    .dataframe tbody tr th:only-of-type {\n",
       "        vertical-align: middle;\n",
       "    }\n",
       "\n",
       "    .dataframe tbody tr th {\n",
       "        vertical-align: top;\n",
       "    }\n",
       "\n",
       "    .dataframe thead th {\n",
       "        text-align: right;\n",
       "    }\n",
       "</style>\n",
       "<table border=\"1\" class=\"dataframe\">\n",
       "  <thead>\n",
       "    <tr style=\"text-align: right;\">\n",
       "      <th></th>\n",
       "      <th>ID</th>\n",
       "      <th>Loan Amount</th>\n",
       "      <th>Funded Amount</th>\n",
       "      <th>Funded Amount Investor</th>\n",
       "      <th>Term</th>\n",
       "      <th>Batch Enrolled</th>\n",
       "      <th>Interest Rate</th>\n",
       "      <th>Sub Grade</th>\n",
       "      <th>Home Ownership</th>\n",
       "      <th>Loan Title</th>\n",
       "      <th>...</th>\n",
       "      <th>Last week Pay</th>\n",
       "      <th>Accounts Delinquent</th>\n",
       "      <th>Total Collection Amount</th>\n",
       "      <th>Total Current Balance</th>\n",
       "      <th>Total Revolving Credit Limit</th>\n",
       "      <th>Grade_mean_labels</th>\n",
       "      <th>Employment Duration_ordinal_labels</th>\n",
       "      <th>Application Type_mean_labels</th>\n",
       "      <th>Verification Status_mean_labels</th>\n",
       "      <th>Payment Plan_mean_labels</th>\n",
       "    </tr>\n",
       "  </thead>\n",
       "  <tbody>\n",
       "    <tr>\n",
       "      <th>0</th>\n",
       "      <td>1.305072</td>\n",
       "      <td>-0.502150</td>\n",
       "      <td>1.532272</td>\n",
       "      <td>-0.058215</td>\n",
       "      <td>0.0</td>\n",
       "      <td>-0.157895</td>\n",
       "      <td>-0.049565</td>\n",
       "      <td>0.181818</td>\n",
       "      <td>2.492479</td>\n",
       "      <td>0.000000</td>\n",
       "      <td>...</td>\n",
       "      <td>-0.271429</td>\n",
       "      <td>0.0</td>\n",
       "      <td>-0.227273</td>\n",
       "      <td>1.083912</td>\n",
       "      <td>-0.421575</td>\n",
       "      <td>-0.666667</td>\n",
       "      <td>0.0</td>\n",
       "      <td>0.0</td>\n",
       "      <td>0.0</td>\n",
       "      <td>0.0</td>\n",
       "    </tr>\n",
       "    <tr>\n",
       "      <th>1</th>\n",
       "      <td>-0.455541</td>\n",
       "      <td>-1.030594</td>\n",
       "      <td>-0.087973</td>\n",
       "      <td>-0.075438</td>\n",
       "      <td>0.0</td>\n",
       "      <td>-0.789474</td>\n",
       "      <td>0.175612</td>\n",
       "      <td>0.545455</td>\n",
       "      <td>-0.687154</td>\n",
       "      <td>0.636364</td>\n",
       "      <td>...</td>\n",
       "      <td>0.585714</td>\n",
       "      <td>0.0</td>\n",
       "      <td>0.772727</td>\n",
       "      <td>0.360913</td>\n",
       "      <td>0.173065</td>\n",
       "      <td>0.000000</td>\n",
       "      <td>1.0</td>\n",
       "      <td>0.0</td>\n",
       "      <td>0.5</td>\n",
       "      <td>0.0</td>\n",
       "    </tr>\n",
       "    <tr>\n",
       "      <th>2</th>\n",
       "      <td>-0.441184</td>\n",
       "      <td>1.009013</td>\n",
       "      <td>-0.297849</td>\n",
       "      <td>1.104519</td>\n",
       "      <td>0.0</td>\n",
       "      <td>-0.421053</td>\n",
       "      <td>0.238582</td>\n",
       "      <td>0.636364</td>\n",
       "      <td>0.516400</td>\n",
       "      <td>0.000000</td>\n",
       "      <td>...</td>\n",
       "      <td>-0.028571</td>\n",
       "      <td>0.0</td>\n",
       "      <td>-0.090909</td>\n",
       "      <td>-0.160498</td>\n",
       "      <td>0.392731</td>\n",
       "      <td>1.000000</td>\n",
       "      <td>0.0</td>\n",
       "      <td>0.0</td>\n",
       "      <td>0.5</td>\n",
       "      <td>0.0</td>\n",
       "    </tr>\n",
       "    <tr>\n",
       "      <th>3</th>\n",
       "      <td>-0.311640</td>\n",
       "      <td>-0.405408</td>\n",
       "      <td>-0.486010</td>\n",
       "      <td>0.637354</td>\n",
       "      <td>0.0</td>\n",
       "      <td>-0.210526</td>\n",
       "      <td>1.093358</td>\n",
       "      <td>0.090909</td>\n",
       "      <td>0.907235</td>\n",
       "      <td>0.636364</td>\n",
       "      <td>...</td>\n",
       "      <td>-0.414286</td>\n",
       "      <td>0.0</td>\n",
       "      <td>0.181818</td>\n",
       "      <td>-0.613385</td>\n",
       "      <td>1.812388</td>\n",
       "      <td>0.000000</td>\n",
       "      <td>0.0</td>\n",
       "      <td>0.0</td>\n",
       "      <td>0.5</td>\n",
       "      <td>0.0</td>\n",
       "    </tr>\n",
       "    <tr>\n",
       "      <th>4</th>\n",
       "      <td>-0.098519</td>\n",
       "      <td>0.067554</td>\n",
       "      <td>0.014689</td>\n",
       "      <td>0.093562</td>\n",
       "      <td>0.0</td>\n",
       "      <td>0.684211</td>\n",
       "      <td>0.741486</td>\n",
       "      <td>0.636364</td>\n",
       "      <td>-0.584649</td>\n",
       "      <td>-0.363636</td>\n",
       "      <td>...</td>\n",
       "      <td>-0.714286</td>\n",
       "      <td>0.0</td>\n",
       "      <td>17.909091</td>\n",
       "      <td>0.043035</td>\n",
       "      <td>0.243675</td>\n",
       "      <td>0.000000</td>\n",
       "      <td>0.0</td>\n",
       "      <td>0.0</td>\n",
       "      <td>0.5</td>\n",
       "      <td>0.0</td>\n",
       "    </tr>\n",
       "  </tbody>\n",
       "</table>\n",
       "<p>5 rows × 34 columns</p>\n",
       "</div>"
      ],
      "text/plain": [
       "         ID  Loan Amount  Funded Amount  Funded Amount Investor  Term  \\\n",
       "0  1.305072    -0.502150       1.532272               -0.058215   0.0   \n",
       "1 -0.455541    -1.030594      -0.087973               -0.075438   0.0   \n",
       "2 -0.441184     1.009013      -0.297849                1.104519   0.0   \n",
       "3 -0.311640    -0.405408      -0.486010                0.637354   0.0   \n",
       "4 -0.098519     0.067554       0.014689                0.093562   0.0   \n",
       "\n",
       "   Batch Enrolled  Interest Rate  Sub Grade  Home Ownership  Loan Title  ...  \\\n",
       "0       -0.157895      -0.049565   0.181818        2.492479    0.000000  ...   \n",
       "1       -0.789474       0.175612   0.545455       -0.687154    0.636364  ...   \n",
       "2       -0.421053       0.238582   0.636364        0.516400    0.000000  ...   \n",
       "3       -0.210526       1.093358   0.090909        0.907235    0.636364  ...   \n",
       "4        0.684211       0.741486   0.636364       -0.584649   -0.363636  ...   \n",
       "\n",
       "   Last week Pay  Accounts Delinquent  Total Collection Amount  \\\n",
       "0      -0.271429                  0.0                -0.227273   \n",
       "1       0.585714                  0.0                 0.772727   \n",
       "2      -0.028571                  0.0                -0.090909   \n",
       "3      -0.414286                  0.0                 0.181818   \n",
       "4      -0.714286                  0.0                17.909091   \n",
       "\n",
       "   Total Current Balance  Total Revolving Credit Limit  Grade_mean_labels  \\\n",
       "0               1.083912                     -0.421575          -0.666667   \n",
       "1               0.360913                      0.173065           0.000000   \n",
       "2              -0.160498                      0.392731           1.000000   \n",
       "3              -0.613385                      1.812388           0.000000   \n",
       "4               0.043035                      0.243675           0.000000   \n",
       "\n",
       "   Employment Duration_ordinal_labels  Application Type_mean_labels  \\\n",
       "0                                 0.0                           0.0   \n",
       "1                                 1.0                           0.0   \n",
       "2                                 0.0                           0.0   \n",
       "3                                 0.0                           0.0   \n",
       "4                                 0.0                           0.0   \n",
       "\n",
       "   Verification Status_mean_labels  Payment Plan_mean_labels  \n",
       "0                              0.0                       0.0  \n",
       "1                              0.5                       0.0  \n",
       "2                              0.5                       0.0  \n",
       "3                              0.5                       0.0  \n",
       "4                              0.5                       0.0  \n",
       "\n",
       "[5 rows x 34 columns]"
      ]
     },
     "execution_count": 88,
     "metadata": {},
     "output_type": "execute_result"
    }
   ],
   "source": [
    "from sklearn.preprocessing import RobustScaler\n",
    "scaler=RobustScaler()\n",
    "X_train=pd.DataFrame(scaler.fit_transform(X_train),columns=X_train.columns)\n",
    "X_train.head()"
   ]
  },
  {
   "cell_type": "code",
   "execution_count": 89,
   "id": "30913f76",
   "metadata": {},
   "outputs": [
    {
     "data": {
      "text/html": [
       "<div>\n",
       "<style scoped>\n",
       "    .dataframe tbody tr th:only-of-type {\n",
       "        vertical-align: middle;\n",
       "    }\n",
       "\n",
       "    .dataframe tbody tr th {\n",
       "        vertical-align: top;\n",
       "    }\n",
       "\n",
       "    .dataframe thead th {\n",
       "        text-align: right;\n",
       "    }\n",
       "</style>\n",
       "<table border=\"1\" class=\"dataframe\">\n",
       "  <thead>\n",
       "    <tr style=\"text-align: right;\">\n",
       "      <th></th>\n",
       "      <th>ID</th>\n",
       "      <th>Loan Amount</th>\n",
       "      <th>Funded Amount</th>\n",
       "      <th>Funded Amount Investor</th>\n",
       "      <th>Term</th>\n",
       "      <th>Batch Enrolled</th>\n",
       "      <th>Interest Rate</th>\n",
       "      <th>Sub Grade</th>\n",
       "      <th>Home Ownership</th>\n",
       "      <th>Loan Title</th>\n",
       "      <th>...</th>\n",
       "      <th>Last week Pay</th>\n",
       "      <th>Accounts Delinquent</th>\n",
       "      <th>Total Collection Amount</th>\n",
       "      <th>Total Current Balance</th>\n",
       "      <th>Total Revolving Credit Limit</th>\n",
       "      <th>Grade_mean_labels</th>\n",
       "      <th>Employment Duration_mean_labels</th>\n",
       "      <th>Application Type_mean_labels</th>\n",
       "      <th>Verification Status_mean_labels</th>\n",
       "      <th>Payment Plan_mean_labels</th>\n",
       "    </tr>\n",
       "  </thead>\n",
       "  <tbody>\n",
       "    <tr>\n",
       "      <th>0</th>\n",
       "      <td>0.757752</td>\n",
       "      <td>0.128000</td>\n",
       "      <td>-0.229054</td>\n",
       "      <td>0.324677</td>\n",
       "      <td>0.0</td>\n",
       "      <td>-0.055556</td>\n",
       "      <td>0.091084</td>\n",
       "      <td>0.4</td>\n",
       "      <td>0.172564</td>\n",
       "      <td>1.000000</td>\n",
       "      <td>...</td>\n",
       "      <td>1.136364</td>\n",
       "      <td>0.0</td>\n",
       "      <td>-0.146341</td>\n",
       "      <td>2.053319</td>\n",
       "      <td>-0.590340</td>\n",
       "      <td>-1.0</td>\n",
       "      <td>1.0</td>\n",
       "      <td>0.0</td>\n",
       "      <td>0.0</td>\n",
       "      <td>0.0</td>\n",
       "    </tr>\n",
       "    <tr>\n",
       "      <th>1</th>\n",
       "      <td>-0.085027</td>\n",
       "      <td>-0.713011</td>\n",
       "      <td>-0.125232</td>\n",
       "      <td>-0.033030</td>\n",
       "      <td>0.0</td>\n",
       "      <td>0.055556</td>\n",
       "      <td>-0.982062</td>\n",
       "      <td>1.1</td>\n",
       "      <td>-0.702040</td>\n",
       "      <td>-1.000000</td>\n",
       "      <td>...</td>\n",
       "      <td>-0.060606</td>\n",
       "      <td>0.0</td>\n",
       "      <td>-0.707317</td>\n",
       "      <td>-0.206781</td>\n",
       "      <td>-0.663338</td>\n",
       "      <td>-0.5</td>\n",
       "      <td>0.0</td>\n",
       "      <td>0.0</td>\n",
       "      <td>0.0</td>\n",
       "      <td>0.0</td>\n",
       "    </tr>\n",
       "    <tr>\n",
       "      <th>2</th>\n",
       "      <td>-0.399743</td>\n",
       "      <td>0.816084</td>\n",
       "      <td>1.020037</td>\n",
       "      <td>-0.137376</td>\n",
       "      <td>0.0</td>\n",
       "      <td>-0.777778</td>\n",
       "      <td>0.582843</td>\n",
       "      <td>0.1</td>\n",
       "      <td>-0.401386</td>\n",
       "      <td>0.000000</td>\n",
       "      <td>...</td>\n",
       "      <td>-0.863636</td>\n",
       "      <td>0.0</td>\n",
       "      <td>-0.097561</td>\n",
       "      <td>0.984382</td>\n",
       "      <td>0.033748</td>\n",
       "      <td>-1.0</td>\n",
       "      <td>0.0</td>\n",
       "      <td>0.0</td>\n",
       "      <td>0.0</td>\n",
       "      <td>0.0</td>\n",
       "    </tr>\n",
       "    <tr>\n",
       "      <th>3</th>\n",
       "      <td>-0.393894</td>\n",
       "      <td>1.278400</td>\n",
       "      <td>-0.285691</td>\n",
       "      <td>0.256556</td>\n",
       "      <td>0.0</td>\n",
       "      <td>0.722222</td>\n",
       "      <td>-0.223245</td>\n",
       "      <td>-1.0</td>\n",
       "      <td>-0.000600</td>\n",
       "      <td>-0.636364</td>\n",
       "      <td>...</td>\n",
       "      <td>-0.590909</td>\n",
       "      <td>0.0</td>\n",
       "      <td>0.048780</td>\n",
       "      <td>-0.383818</td>\n",
       "      <td>-0.473691</td>\n",
       "      <td>-1.0</td>\n",
       "      <td>1.0</td>\n",
       "      <td>0.0</td>\n",
       "      <td>0.5</td>\n",
       "      <td>0.0</td>\n",
       "    </tr>\n",
       "    <tr>\n",
       "      <th>4</th>\n",
       "      <td>0.541270</td>\n",
       "      <td>-0.566063</td>\n",
       "      <td>-0.305486</td>\n",
       "      <td>-0.603712</td>\n",
       "      <td>-1.0</td>\n",
       "      <td>0.555556</td>\n",
       "      <td>-0.324196</td>\n",
       "      <td>-0.4</td>\n",
       "      <td>0.516302</td>\n",
       "      <td>0.000000</td>\n",
       "      <td>...</td>\n",
       "      <td>0.666667</td>\n",
       "      <td>0.0</td>\n",
       "      <td>0.073171</td>\n",
       "      <td>-0.103525</td>\n",
       "      <td>0.297412</td>\n",
       "      <td>0.0</td>\n",
       "      <td>0.5</td>\n",
       "      <td>0.0</td>\n",
       "      <td>0.5</td>\n",
       "      <td>0.0</td>\n",
       "    </tr>\n",
       "  </tbody>\n",
       "</table>\n",
       "<p>5 rows × 34 columns</p>\n",
       "</div>"
      ],
      "text/plain": [
       "         ID  Loan Amount  Funded Amount  Funded Amount Investor  Term  \\\n",
       "0  0.757752     0.128000      -0.229054                0.324677   0.0   \n",
       "1 -0.085027    -0.713011      -0.125232               -0.033030   0.0   \n",
       "2 -0.399743     0.816084       1.020037               -0.137376   0.0   \n",
       "3 -0.393894     1.278400      -0.285691                0.256556   0.0   \n",
       "4  0.541270    -0.566063      -0.305486               -0.603712  -1.0   \n",
       "\n",
       "   Batch Enrolled  Interest Rate  Sub Grade  Home Ownership  Loan Title  ...  \\\n",
       "0       -0.055556       0.091084        0.4        0.172564    1.000000  ...   \n",
       "1        0.055556      -0.982062        1.1       -0.702040   -1.000000  ...   \n",
       "2       -0.777778       0.582843        0.1       -0.401386    0.000000  ...   \n",
       "3        0.722222      -0.223245       -1.0       -0.000600   -0.636364  ...   \n",
       "4        0.555556      -0.324196       -0.4        0.516302    0.000000  ...   \n",
       "\n",
       "   Last week Pay  Accounts Delinquent  Total Collection Amount  \\\n",
       "0       1.136364                  0.0                -0.146341   \n",
       "1      -0.060606                  0.0                -0.707317   \n",
       "2      -0.863636                  0.0                -0.097561   \n",
       "3      -0.590909                  0.0                 0.048780   \n",
       "4       0.666667                  0.0                 0.073171   \n",
       "\n",
       "   Total Current Balance  Total Revolving Credit Limit  Grade_mean_labels  \\\n",
       "0               2.053319                     -0.590340               -1.0   \n",
       "1              -0.206781                     -0.663338               -0.5   \n",
       "2               0.984382                      0.033748               -1.0   \n",
       "3              -0.383818                     -0.473691               -1.0   \n",
       "4              -0.103525                      0.297412                0.0   \n",
       "\n",
       "   Employment Duration_mean_labels  Application Type_mean_labels  \\\n",
       "0                              1.0                           0.0   \n",
       "1                              0.0                           0.0   \n",
       "2                              0.0                           0.0   \n",
       "3                              1.0                           0.0   \n",
       "4                              0.5                           0.0   \n",
       "\n",
       "   Verification Status_mean_labels  Payment Plan_mean_labels  \n",
       "0                              0.0                       0.0  \n",
       "1                              0.0                       0.0  \n",
       "2                              0.0                       0.0  \n",
       "3                              0.5                       0.0  \n",
       "4                              0.5                       0.0  \n",
       "\n",
       "[5 rows x 34 columns]"
      ]
     },
     "execution_count": 89,
     "metadata": {},
     "output_type": "execute_result"
    }
   ],
   "source": [
    "from sklearn.preprocessing import RobustScaler\n",
    "scaler=RobustScaler()\n",
    "X_test=pd.DataFrame(scaler.fit_transform(X_test),columns=X_test.columns)\n",
    "X_test.head()"
   ]
  },
  {
   "cell_type": "markdown",
   "id": "0c84073c",
   "metadata": {},
   "source": [
    "##### DISTRIBUTION OF THE `COLUMNS` "
   ]
  },
  {
   "cell_type": "code",
   "execution_count": 90,
   "id": "d8fee1b6",
   "metadata": {},
   "outputs": [],
   "source": [
    "import matplotlib.pyplot as plt"
   ]
  },
  {
   "cell_type": "code",
   "execution_count": 91,
   "id": "94237d73",
   "metadata": {},
   "outputs": [
    {
     "data": {
      "image/png": "[encoded data removed]",
      "text/plain": [
       "<Figure size 1296x360 with 6 Axes>"
      ]
     },
     "metadata": {
      "needs_background": "light"
     },
     "output_type": "display_data"
    }
   ],
   "source": [
    "plt.figure(figsize=(18,5))\n",
    "plt.subplot(1,6,1)\n",
    "plt.hist(X_train['Loan Amount'],bins=20)\n",
    "plt.subplot(1,6,2)\n",
    "plt.hist(X_train['Funded Amount'],bins=20)\n",
    "plt.subplot(1,6,3)\n",
    "plt.hist(X_train['Funded Amount Investor'],bins=20)\n",
    "plt.subplot(1,6,4)\n",
    "plt.hist(X_train['Batch Enrolled'],bins=20)\n",
    "plt.subplot(1,6,5)\n",
    "plt.hist(X_train['Interest Rate'],bins=20)\n",
    "plt.subplot(1,6,6)\n",
    "plt.hist(X_train['Home Ownership'],bins=20)\n",
    "plt.show()"
   ]
  },
  {
   "cell_type": "markdown",
   "id": "cbb51f3c",
   "metadata": {},
   "source": [
    "### Checking For `Outliers`"
   ]
  },
  {
   "cell_type": "markdown",
   "id": "b77d20b5",
   "metadata": {},
   "source": [
    "##### Outlier Treatment"
   ]
  },
  {
   "cell_type": "markdown",
   "id": "3f25b0ad",
   "metadata": {},
   "source": [
    "Perhaps the most important hyperparameter in the model is the “contamination” argument, which is used to help estimate the number of outliers in the dataset. This is a value between 0.0 and 0.5 and by default is set to 0.1."
   ]
  },
  {
   "cell_type": "markdown",
   "id": "a9f8ed1f",
   "metadata": {},
   "source": [
    "##### Isolation Forest"
   ]
  },
  {
   "cell_type": "markdown",
   "id": "b6264e8e",
   "metadata": {},
   "source": [
    "`Isolation Forest`, or iForest for short, is a tree-based anomaly detection algorithm.\n",
    "\n",
    "It is based on modeling the normal data in such a way as to isolate anomalies that are both few in number and different in the feature space.\n",
    "\n",
    "for reference,\n",
    "https://machinelearningmastery.com/model-based-outlier-detection-and-removal-in-python/\n"
   ]
  },
  {
   "cell_type": "code",
   "execution_count": 92,
   "id": "620d3d28",
   "metadata": {},
   "outputs": [],
   "source": [
    "from pandas import read_csv\n",
    "from sklearn.model_selection import train_test_split\n",
    "from sklearn.linear_model import LinearRegression\n",
    "from sklearn.ensemble import IsolationForest\n",
    "from sklearn.metrics import mean_absolute_error"
   ]
  },
  {
   "cell_type": "code",
   "execution_count": 93,
   "id": "12aaeba6",
   "metadata": {},
   "outputs": [],
   "source": [
    "# identify outliers in the training dataset\n",
    "iso = IsolationForest(contamination=0.1)\n",
    "yhat = iso.fit_predict(X_train)"
   ]
  },
  {
   "cell_type": "code",
   "execution_count": 94,
   "id": "e23a64ba",
   "metadata": {},
   "outputs": [],
   "source": [
    "# select all rows that are not outliers\n",
    "mask = yhat != -1"
   ]
  },
  {
   "cell_type": "code",
   "execution_count": 95,
   "id": "161d0a6d",
   "metadata": {},
   "outputs": [],
   "source": [
    "X_train = X_train[mask]"
   ]
  },
  {
   "cell_type": "code",
   "execution_count": 96,
   "id": "9ccee1f4",
   "metadata": {},
   "outputs": [],
   "source": [
    "y_train = y_train[mask]"
   ]
  },
  {
   "cell_type": "code",
   "execution_count": 97,
   "id": "ca754c0a",
   "metadata": {},
   "outputs": [
    {
     "name": "stdout",
     "output_type": "stream",
     "text": [
      "(60716, 34) (60716,)\n"
     ]
    }
   ],
   "source": [
    "# summarize the shape of the updated training dataset\n",
    "print(X_train.shape, y_train.shape)"
   ]
  },
  {
   "cell_type": "markdown",
   "id": "9594564c",
   "metadata": {},
   "source": [
    "## FEATURE SELECTION "
   ]
  },
  {
   "cell_type": "markdown",
   "id": "d6e86c69",
   "metadata": {},
   "source": [
    "#### Univariate Selection"
   ]
  },
  {
   "cell_type": "code",
   "execution_count": 98,
   "id": "5dd0458b",
   "metadata": {},
   "outputs": [],
   "source": [
    "from sklearn.feature_selection import SelectKBest\n",
    "from sklearn.feature_selection import chi2"
   ]
  },
  {
   "cell_type": "code",
   "execution_count": 99,
   "id": "89e25468",
   "metadata": {},
   "outputs": [
    {
     "data": {
      "text/html": [
       "<style>#sk-container-id-1 {color: black;background-color: white;}#sk-container-id-1 pre{padding: 0;}#sk-container-id-1 div.sk-toggleable {background-color: white;}#sk-container-id-1 label.sk-toggleable__label {cursor: pointer;display: block;width: 100%;margin-bottom: 0;padding: 0.3em;box-sizing: border-box;text-align: center;}#sk-container-id-1 label.sk-toggleable__label-arrow:before {content: \"▸\";float: left;margin-right: 0.25em;color: #696969;}#sk-container-id-1 label.sk-toggleable__label-arrow:hover:before {color: black;}#sk-container-id-1 div.sk-estimator:hover label.sk-toggleable__label-arrow:before {color: black;}#sk-container-id-1 div.sk-toggleable__content {max-height: 0;max-width: 0;overflow: hidden;text-align: left;background-color: #f0f8ff;}#sk-container-id-1 div.sk-toggleable__content pre {margin: 0.2em;color: black;border-radius: 0.25em;background-color: #f0f8ff;}#sk-container-id-1 input.sk-toggleable__control:checked~div.sk-toggleable__content {max-height: 200px;max-width: 100%;overflow: auto;}#sk-container-id-1 input.sk-toggleable__control:checked~label.sk-toggleable__label-arrow:before {content: \"▾\";}#sk-container-id-1 div.sk-estimator input.sk-toggleable__control:checked~label.sk-toggleable__label {background-color: #d4ebff;}#sk-container-id-1 div.sk-label input.sk-toggleable__control:checked~label.sk-toggleable__label {background-color: #d4ebff;}#sk-container-id-1 input.sk-hidden--visually {border: 0;clip: rect(1px 1px 1px 1px);clip: rect(1px, 1px, 1px, 1px);height: 1px;margin: -1px;overflow: hidden;padding: 0;position: absolute;width: 1px;}#sk-container-id-1 div.sk-estimator {font-family: monospace;background-color: #f0f8ff;border: 1px dotted black;border-radius: 0.25em;box-sizing: border-box;margin-bottom: 0.5em;}#sk-container-id-1 div.sk-estimator:hover {background-color: #d4ebff;}#sk-container-id-1 div.sk-parallel-item::after {content: \"\";width: 100%;border-bottom: 1px solid gray;flex-grow: 1;}#sk-container-id-1 div.sk-label:hover label.sk-toggleable__label {background-color: #d4ebff;}#sk-container-id-1 div.sk-serial::before {content: \"\";position: absolute;border-left: 1px solid gray;box-sizing: border-box;top: 0;bottom: 0;left: 50%;z-index: 0;}#sk-container-id-1 div.sk-serial {display: flex;flex-direction: column;align-items: center;background-color: white;padding-right: 0.2em;padding-left: 0.2em;position: relative;}#sk-container-id-1 div.sk-item {position: relative;z-index: 1;}#sk-container-id-1 div.sk-parallel {display: flex;align-items: stretch;justify-content: center;background-color: white;position: relative;}#sk-container-id-1 div.sk-item::before, #sk-container-id-1 div.sk-parallel-item::before {content: \"\";position: absolute;border-left: 1px solid gray;box-sizing: border-box;top: 0;bottom: 0;left: 50%;z-index: -1;}#sk-container-id-1 div.sk-parallel-item {display: flex;flex-direction: column;z-index: 1;position: relative;background-color: white;}#sk-container-id-1 div.sk-parallel-item:first-child::after {align-self: flex-end;width: 50%;}#sk-container-id-1 div.sk-parallel-item:last-child::after {align-self: flex-start;width: 50%;}#sk-container-id-1 div.sk-parallel-item:only-child::after {width: 0;}#sk-container-id-1 div.sk-dashed-wrapped {border: 1px dashed gray;margin: 0 0.4em 0.5em 0.4em;box-sizing: border-box;padding-bottom: 0.4em;background-color: white;}#sk-container-id-1 div.sk-label label {font-family: monospace;font-weight: bold;display: inline-block;line-height: 1.2em;}#sk-container-id-1 div.sk-label-container {text-align: center;}#sk-container-id-1 div.sk-container {/* jupyter's `normalize.less` sets `[hidden] { display: none; }` but bootstrap.min.css set `[hidden] { display: none !important; }` so we also need the `!important` here to be able to override the default hidden behavior on the sphinx rendered scikit-learn.org. See: https://github.com/scikit-learn/scikit-learn/issues/21755 */display: inline-block !important;position: relative;}#sk-container-id-1 div.sk-text-repr-fallback {display: none;}</style><div id=\"sk-container-id-1\" class=\"sk-top-container\"><div class=\"sk-text-repr-fallback\"><pre>ExtraTreesClassifier()</pre><b>In a Jupyter environment, please rerun this cell to show the HTML representation or trust the notebook. <br />On GitHub, the HTML representation is unable to render, please try loading this page with nbviewer.org.</b></div><div class=\"sk-container\" hidden><div class=\"sk-item\"><div class=\"sk-estimator sk-toggleable\"><input class=\"sk-toggleable__control sk-hidden--visually\" id=\"sk-estimator-id-1\" type=\"checkbox\" checked><label for=\"sk-estimator-id-1\" class=\"sk-toggleable__label sk-toggleable__label-arrow\">ExtraTreesClassifier</label><div class=\"sk-toggleable__content\"><pre>ExtraTreesClassifier()</pre></div></div></div></div></div>"
      ],
      "text/plain": [
       "ExtraTreesClassifier()"
      ]
     },
     "execution_count": 99,
     "metadata": {},
     "output_type": "execute_result"
    }
   ],
   "source": [
    "from sklearn.ensemble import ExtraTreesClassifier\n",
    "import matplotlib.pyplot as plt\n",
    "model=ExtraTreesClassifier()\n",
    "model.fit(X_train,y_train)"
   ]
  },
  {
   "cell_type": "code",
   "execution_count": 100,
   "id": "18c78944",
   "metadata": {},
   "outputs": [
    {
     "name": "stdout",
     "output_type": "stream",
     "text": [
      "[0.03949736 0.03997709 0.03926284 0.04018137 0.02103628 0.03834016\n",
      " 0.03990501 0.03885185 0.03968307 0.03316795 0.03923758 0.02116828\n",
      " 0.01256705 0.03869394 0.00929369 0.03851017 0.03948571 0.03972519\n",
      " 0.00640428 0.03923259 0.03918964 0.03890065 0.03830366 0.00347189\n",
      " 0.03935205 0.         0.0391403  0.03999114 0.03909436 0.03070154\n",
      " 0.0146625  0.00051875 0.02245206 0.        ]\n"
     ]
    }
   ],
   "source": [
    "print(model.feature_importances_)"
   ]
  },
  {
   "cell_type": "code",
   "execution_count": 101,
   "id": "a7429c27",
   "metadata": {},
   "outputs": [
    {
     "data": {
      "image/png": "[encoded data removed]",
      "text/plain": [
       "<Figure size 1080x720 with 1 Axes>"
      ]
     },
     "metadata": {
      "needs_background": "light"
     },
     "output_type": "display_data"
    }
   ],
   "source": [
    "plt.figure(figsize = [15,10])\n",
    "ranked_features=pd.Series(model.feature_importances_,index=X_train.columns)\n",
    "ranked_features.nlargest(20).plot(kind='barh')\n",
    "plt.show()"
   ]
  },
  {
   "cell_type": "markdown",
   "id": "d273c05b",
   "metadata": {},
   "source": [
    "### Importance Of The Features Wrt, `Label/Target Variable`"
   ]
  },
  {
   "cell_type": "code",
   "execution_count": 102,
   "id": "818714dc",
   "metadata": {},
   "outputs": [
    {
     "data": {
      "text/plain": [
       "Funded Amount Investor          0.040181\n",
       "Total Current Balance           0.039991\n",
       "Loan Amount                     0.039977\n",
       "Interest Rate                   0.039905\n",
       "Total Accounts                  0.039725\n",
       "Home Ownership                  0.039683\n",
       "ID                              0.039497\n",
       "Revolving Utilities             0.039486\n",
       "Last week Pay                   0.039352\n",
       "Funded Amount                   0.039263\n",
       "Debit to Income                 0.039238\n",
       "Total Received Interest         0.039233\n",
       "Total Received Late Fee         0.039190\n",
       "Total Collection Amount         0.039140\n",
       "Total Revolving Credit Limit    0.039094\n",
       "Recoveries                      0.038901\n",
       "Sub Grade                       0.038852\n",
       "Open Account                    0.038694\n",
       "Revolving Balance               0.038510\n",
       "Batch Enrolled                  0.038340\n",
       "dtype: float64"
      ]
     },
     "execution_count": 102,
     "metadata": {},
     "output_type": "execute_result"
    }
   ],
   "source": [
    "ranked_features.nlargest(20, keep='all')"
   ]
  },
  {
   "cell_type": "markdown",
   "id": "63488335",
   "metadata": {},
   "source": [
    "### Correlation - To Check `Multicollinearity`"
   ]
  },
  {
   "cell_type": "code",
   "execution_count": 103,
   "id": "67bdb8bd",
   "metadata": {},
   "outputs": [
    {
     "data": {
      "text/html": [
       "<div>\n",
       "<style scoped>\n",
       "    .dataframe tbody tr th:only-of-type {\n",
       "        vertical-align: middle;\n",
       "    }\n",
       "\n",
       "    .dataframe tbody tr th {\n",
       "        vertical-align: top;\n",
       "    }\n",
       "\n",
       "    .dataframe thead th {\n",
       "        text-align: right;\n",
       "    }\n",
       "</style>\n",
       "<table border=\"1\" class=\"dataframe\">\n",
       "  <thead>\n",
       "    <tr style=\"text-align: right;\">\n",
       "      <th></th>\n",
       "      <th>ID</th>\n",
       "      <th>Loan Amount</th>\n",
       "      <th>Funded Amount</th>\n",
       "      <th>Funded Amount Investor</th>\n",
       "      <th>Term</th>\n",
       "      <th>Batch Enrolled</th>\n",
       "      <th>Interest Rate</th>\n",
       "      <th>Sub Grade</th>\n",
       "      <th>Home Ownership</th>\n",
       "      <th>Loan Title</th>\n",
       "      <th>...</th>\n",
       "      <th>Last week Pay</th>\n",
       "      <th>Accounts Delinquent</th>\n",
       "      <th>Total Collection Amount</th>\n",
       "      <th>Total Current Balance</th>\n",
       "      <th>Total Revolving Credit Limit</th>\n",
       "      <th>Grade_mean_labels</th>\n",
       "      <th>Employment Duration_ordinal_labels</th>\n",
       "      <th>Application Type_mean_labels</th>\n",
       "      <th>Verification Status_mean_labels</th>\n",
       "      <th>Payment Plan_mean_labels</th>\n",
       "    </tr>\n",
       "  </thead>\n",
       "  <tbody>\n",
       "    <tr>\n",
       "      <th>ID</th>\n",
       "      <td>1.000000</td>\n",
       "      <td>-0.003051</td>\n",
       "      <td>-0.008456</td>\n",
       "      <td>-0.003261</td>\n",
       "      <td>0.014867</td>\n",
       "      <td>0.005156</td>\n",
       "      <td>0.004621</td>\n",
       "      <td>0.007402</td>\n",
       "      <td>-0.004835</td>\n",
       "      <td>-0.002934</td>\n",
       "      <td>...</td>\n",
       "      <td>0.003800</td>\n",
       "      <td>NaN</td>\n",
       "      <td>-0.003012</td>\n",
       "      <td>-0.006059</td>\n",
       "      <td>-0.006097</td>\n",
       "      <td>-0.001167</td>\n",
       "      <td>0.001998</td>\n",
       "      <td>-0.001689</td>\n",
       "      <td>0.009508</td>\n",
       "      <td>NaN</td>\n",
       "    </tr>\n",
       "    <tr>\n",
       "      <th>Loan Amount</th>\n",
       "      <td>-0.003051</td>\n",
       "      <td>1.000000</td>\n",
       "      <td>-0.001365</td>\n",
       "      <td>0.002392</td>\n",
       "      <td>0.001463</td>\n",
       "      <td>0.001060</td>\n",
       "      <td>-0.003159</td>\n",
       "      <td>-0.001965</td>\n",
       "      <td>0.016202</td>\n",
       "      <td>0.001156</td>\n",
       "      <td>...</td>\n",
       "      <td>-0.001047</td>\n",
       "      <td>NaN</td>\n",
       "      <td>-0.002726</td>\n",
       "      <td>-0.007962</td>\n",
       "      <td>0.004841</td>\n",
       "      <td>-0.029706</td>\n",
       "      <td>-0.025731</td>\n",
       "      <td>-0.007399</td>\n",
       "      <td>-0.015000</td>\n",
       "      <td>NaN</td>\n",
       "    </tr>\n",
       "    <tr>\n",
       "      <th>Funded Amount</th>\n",
       "      <td>-0.008456</td>\n",
       "      <td>-0.001365</td>\n",
       "      <td>1.000000</td>\n",
       "      <td>0.008478</td>\n",
       "      <td>0.008037</td>\n",
       "      <td>0.001555</td>\n",
       "      <td>-0.000076</td>\n",
       "      <td>-0.000744</td>\n",
       "      <td>-0.005392</td>\n",
       "      <td>-0.001843</td>\n",
       "      <td>...</td>\n",
       "      <td>-0.003307</td>\n",
       "      <td>NaN</td>\n",
       "      <td>-0.005163</td>\n",
       "      <td>-0.004526</td>\n",
       "      <td>-0.000853</td>\n",
       "      <td>-0.002038</td>\n",
       "      <td>0.014854</td>\n",
       "      <td>-0.003089</td>\n",
       "      <td>0.000041</td>\n",
       "      <td>NaN</td>\n",
       "    </tr>\n",
       "    <tr>\n",
       "      <th>Funded Amount Investor</th>\n",
       "      <td>-0.003261</td>\n",
       "      <td>0.002392</td>\n",
       "      <td>0.008478</td>\n",
       "      <td>1.000000</td>\n",
       "      <td>0.001898</td>\n",
       "      <td>0.001683</td>\n",
       "      <td>-0.003228</td>\n",
       "      <td>-0.001389</td>\n",
       "      <td>-0.001190</td>\n",
       "      <td>-0.003310</td>\n",
       "      <td>...</td>\n",
       "      <td>0.002264</td>\n",
       "      <td>NaN</td>\n",
       "      <td>-0.003954</td>\n",
       "      <td>-0.001956</td>\n",
       "      <td>-0.001511</td>\n",
       "      <td>0.007972</td>\n",
       "      <td>-0.008789</td>\n",
       "      <td>-0.001653</td>\n",
       "      <td>-0.002980</td>\n",
       "      <td>NaN</td>\n",
       "    </tr>\n",
       "    <tr>\n",
       "      <th>Term</th>\n",
       "      <td>0.014867</td>\n",
       "      <td>0.001463</td>\n",
       "      <td>0.008037</td>\n",
       "      <td>0.001898</td>\n",
       "      <td>1.000000</td>\n",
       "      <td>0.001917</td>\n",
       "      <td>0.002384</td>\n",
       "      <td>0.003194</td>\n",
       "      <td>0.001803</td>\n",
       "      <td>0.004558</td>\n",
       "      <td>...</td>\n",
       "      <td>0.006653</td>\n",
       "      <td>NaN</td>\n",
       "      <td>0.012973</td>\n",
       "      <td>0.003959</td>\n",
       "      <td>0.013074</td>\n",
       "      <td>0.006394</td>\n",
       "      <td>0.003787</td>\n",
       "      <td>0.002013</td>\n",
       "      <td>-0.006346</td>\n",
       "      <td>NaN</td>\n",
       "    </tr>\n",
       "    <tr>\n",
       "      <th>Batch Enrolled</th>\n",
       "      <td>0.005156</td>\n",
       "      <td>0.001060</td>\n",
       "      <td>0.001555</td>\n",
       "      <td>0.001683</td>\n",
       "      <td>0.001917</td>\n",
       "      <td>1.000000</td>\n",
       "      <td>-0.001946</td>\n",
       "      <td>0.002081</td>\n",
       "      <td>-0.000407</td>\n",
       "      <td>-0.004042</td>\n",
       "      <td>...</td>\n",
       "      <td>-0.005537</td>\n",
       "      <td>NaN</td>\n",
       "      <td>-0.000025</td>\n",
       "      <td>-0.012017</td>\n",
       "      <td>-0.003388</td>\n",
       "      <td>0.006895</td>\n",
       "      <td>-0.009624</td>\n",
       "      <td>0.002897</td>\n",
       "      <td>0.005145</td>\n",
       "      <td>NaN</td>\n",
       "    </tr>\n",
       "    <tr>\n",
       "      <th>Interest Rate</th>\n",
       "      <td>0.004621</td>\n",
       "      <td>-0.003159</td>\n",
       "      <td>-0.000076</td>\n",
       "      <td>-0.003228</td>\n",
       "      <td>0.002384</td>\n",
       "      <td>-0.001946</td>\n",
       "      <td>1.000000</td>\n",
       "      <td>-0.003130</td>\n",
       "      <td>0.002359</td>\n",
       "      <td>-0.001373</td>\n",
       "      <td>...</td>\n",
       "      <td>-0.009464</td>\n",
       "      <td>NaN</td>\n",
       "      <td>-0.002316</td>\n",
       "      <td>-0.003302</td>\n",
       "      <td>0.011917</td>\n",
       "      <td>0.015772</td>\n",
       "      <td>0.016298</td>\n",
       "      <td>-0.000293</td>\n",
       "      <td>0.005193</td>\n",
       "      <td>NaN</td>\n",
       "    </tr>\n",
       "    <tr>\n",
       "      <th>Sub Grade</th>\n",
       "      <td>0.007402</td>\n",
       "      <td>-0.001965</td>\n",
       "      <td>-0.000744</td>\n",
       "      <td>-0.001389</td>\n",
       "      <td>0.003194</td>\n",
       "      <td>0.002081</td>\n",
       "      <td>-0.003130</td>\n",
       "      <td>1.000000</td>\n",
       "      <td>0.001479</td>\n",
       "      <td>-0.004788</td>\n",
       "      <td>...</td>\n",
       "      <td>0.005261</td>\n",
       "      <td>NaN</td>\n",
       "      <td>-0.008475</td>\n",
       "      <td>0.003487</td>\n",
       "      <td>-0.004143</td>\n",
       "      <td>0.016868</td>\n",
       "      <td>0.002397</td>\n",
       "      <td>0.002267</td>\n",
       "      <td>0.009144</td>\n",
       "      <td>NaN</td>\n",
       "    </tr>\n",
       "    <tr>\n",
       "      <th>Home Ownership</th>\n",
       "      <td>-0.004835</td>\n",
       "      <td>0.016202</td>\n",
       "      <td>-0.005392</td>\n",
       "      <td>-0.001190</td>\n",
       "      <td>0.001803</td>\n",
       "      <td>-0.000407</td>\n",
       "      <td>0.002359</td>\n",
       "      <td>0.001479</td>\n",
       "      <td>1.000000</td>\n",
       "      <td>-0.002702</td>\n",
       "      <td>...</td>\n",
       "      <td>-0.005027</td>\n",
       "      <td>NaN</td>\n",
       "      <td>-0.003497</td>\n",
       "      <td>0.000451</td>\n",
       "      <td>-0.001680</td>\n",
       "      <td>0.011606</td>\n",
       "      <td>-0.028239</td>\n",
       "      <td>-0.002200</td>\n",
       "      <td>-0.011671</td>\n",
       "      <td>NaN</td>\n",
       "    </tr>\n",
       "    <tr>\n",
       "      <th>Loan Title</th>\n",
       "      <td>-0.002934</td>\n",
       "      <td>0.001156</td>\n",
       "      <td>-0.001843</td>\n",
       "      <td>-0.003310</td>\n",
       "      <td>0.004558</td>\n",
       "      <td>-0.004042</td>\n",
       "      <td>-0.001373</td>\n",
       "      <td>-0.004788</td>\n",
       "      <td>-0.002702</td>\n",
       "      <td>1.000000</td>\n",
       "      <td>...</td>\n",
       "      <td>0.006940</td>\n",
       "      <td>NaN</td>\n",
       "      <td>0.001058</td>\n",
       "      <td>-0.001745</td>\n",
       "      <td>-0.009602</td>\n",
       "      <td>0.001880</td>\n",
       "      <td>-0.000874</td>\n",
       "      <td>-0.004194</td>\n",
       "      <td>0.006574</td>\n",
       "      <td>NaN</td>\n",
       "    </tr>\n",
       "    <tr>\n",
       "      <th>Debit to Income</th>\n",
       "      <td>-0.009963</td>\n",
       "      <td>0.007661</td>\n",
       "      <td>0.000498</td>\n",
       "      <td>-0.001647</td>\n",
       "      <td>0.010791</td>\n",
       "      <td>0.001592</td>\n",
       "      <td>-0.010231</td>\n",
       "      <td>-0.012172</td>\n",
       "      <td>0.021088</td>\n",
       "      <td>0.002706</td>\n",
       "      <td>...</td>\n",
       "      <td>0.007600</td>\n",
       "      <td>NaN</td>\n",
       "      <td>-0.004803</td>\n",
       "      <td>-0.016001</td>\n",
       "      <td>-0.007936</td>\n",
       "      <td>-0.019688</td>\n",
       "      <td>-0.008992</td>\n",
       "      <td>0.005271</td>\n",
       "      <td>-0.009029</td>\n",
       "      <td>NaN</td>\n",
       "    </tr>\n",
       "    <tr>\n",
       "      <th>Delinquency - two years</th>\n",
       "      <td>-0.000888</td>\n",
       "      <td>0.001923</td>\n",
       "      <td>-0.003438</td>\n",
       "      <td>-0.000582</td>\n",
       "      <td>0.013076</td>\n",
       "      <td>-0.007983</td>\n",
       "      <td>-0.001819</td>\n",
       "      <td>-0.003860</td>\n",
       "      <td>-0.008187</td>\n",
       "      <td>-0.009023</td>\n",
       "      <td>...</td>\n",
       "      <td>-0.001726</td>\n",
       "      <td>NaN</td>\n",
       "      <td>-0.006318</td>\n",
       "      <td>-0.007310</td>\n",
       "      <td>-0.006105</td>\n",
       "      <td>0.002920</td>\n",
       "      <td>-0.014410</td>\n",
       "      <td>-0.002524</td>\n",
       "      <td>0.004576</td>\n",
       "      <td>NaN</td>\n",
       "    </tr>\n",
       "    <tr>\n",
       "      <th>Inquires - six months</th>\n",
       "      <td>-0.014107</td>\n",
       "      <td>0.010239</td>\n",
       "      <td>-0.008664</td>\n",
       "      <td>-0.010002</td>\n",
       "      <td>0.020119</td>\n",
       "      <td>-0.001125</td>\n",
       "      <td>0.009837</td>\n",
       "      <td>-0.014277</td>\n",
       "      <td>0.000541</td>\n",
       "      <td>-0.010418</td>\n",
       "      <td>...</td>\n",
       "      <td>-0.006033</td>\n",
       "      <td>NaN</td>\n",
       "      <td>-0.016017</td>\n",
       "      <td>-0.004451</td>\n",
       "      <td>-0.008293</td>\n",
       "      <td>-0.004900</td>\n",
       "      <td>-0.002953</td>\n",
       "      <td>-0.001172</td>\n",
       "      <td>0.002691</td>\n",
       "      <td>NaN</td>\n",
       "    </tr>\n",
       "    <tr>\n",
       "      <th>Open Account</th>\n",
       "      <td>-0.005419</td>\n",
       "      <td>0.005508</td>\n",
       "      <td>0.003751</td>\n",
       "      <td>-0.010558</td>\n",
       "      <td>0.023000</td>\n",
       "      <td>0.003537</td>\n",
       "      <td>-0.003284</td>\n",
       "      <td>-0.012644</td>\n",
       "      <td>0.004504</td>\n",
       "      <td>-0.001385</td>\n",
       "      <td>...</td>\n",
       "      <td>-0.013758</td>\n",
       "      <td>NaN</td>\n",
       "      <td>-0.010630</td>\n",
       "      <td>-0.004747</td>\n",
       "      <td>-0.003849</td>\n",
       "      <td>-0.027267</td>\n",
       "      <td>-0.018898</td>\n",
       "      <td>-0.000497</td>\n",
       "      <td>0.006276</td>\n",
       "      <td>NaN</td>\n",
       "    </tr>\n",
       "    <tr>\n",
       "      <th>Public Record</th>\n",
       "      <td>0.001758</td>\n",
       "      <td>-0.005753</td>\n",
       "      <td>0.001213</td>\n",
       "      <td>-0.000388</td>\n",
       "      <td>0.019978</td>\n",
       "      <td>-0.000516</td>\n",
       "      <td>0.000283</td>\n",
       "      <td>-0.000025</td>\n",
       "      <td>-0.000077</td>\n",
       "      <td>-0.006885</td>\n",
       "      <td>...</td>\n",
       "      <td>-0.001418</td>\n",
       "      <td>NaN</td>\n",
       "      <td>-0.009369</td>\n",
       "      <td>-0.004195</td>\n",
       "      <td>-0.006851</td>\n",
       "      <td>0.010459</td>\n",
       "      <td>-0.000505</td>\n",
       "      <td>0.001153</td>\n",
       "      <td>0.016468</td>\n",
       "      <td>NaN</td>\n",
       "    </tr>\n",
       "    <tr>\n",
       "      <th>Revolving Balance</th>\n",
       "      <td>0.000615</td>\n",
       "      <td>-0.002001</td>\n",
       "      <td>-0.004245</td>\n",
       "      <td>-0.011277</td>\n",
       "      <td>0.012447</td>\n",
       "      <td>0.007641</td>\n",
       "      <td>0.015667</td>\n",
       "      <td>-0.006487</td>\n",
       "      <td>0.013319</td>\n",
       "      <td>-0.010777</td>\n",
       "      <td>...</td>\n",
       "      <td>-0.010048</td>\n",
       "      <td>NaN</td>\n",
       "      <td>-0.009945</td>\n",
       "      <td>-0.016337</td>\n",
       "      <td>0.014035</td>\n",
       "      <td>0.020679</td>\n",
       "      <td>-0.011179</td>\n",
       "      <td>-0.004502</td>\n",
       "      <td>0.013098</td>\n",
       "      <td>NaN</td>\n",
       "    </tr>\n",
       "    <tr>\n",
       "      <th>Revolving Utilities</th>\n",
       "      <td>0.001690</td>\n",
       "      <td>0.013931</td>\n",
       "      <td>0.005923</td>\n",
       "      <td>-0.003441</td>\n",
       "      <td>0.001236</td>\n",
       "      <td>0.003318</td>\n",
       "      <td>0.003406</td>\n",
       "      <td>-0.005167</td>\n",
       "      <td>-0.005412</td>\n",
       "      <td>-0.003008</td>\n",
       "      <td>...</td>\n",
       "      <td>0.010635</td>\n",
       "      <td>NaN</td>\n",
       "      <td>0.003542</td>\n",
       "      <td>-0.021054</td>\n",
       "      <td>-0.006655</td>\n",
       "      <td>-0.031917</td>\n",
       "      <td>-0.008703</td>\n",
       "      <td>-0.001651</td>\n",
       "      <td>0.000554</td>\n",
       "      <td>NaN</td>\n",
       "    </tr>\n",
       "    <tr>\n",
       "      <th>Total Accounts</th>\n",
       "      <td>0.001564</td>\n",
       "      <td>-0.002840</td>\n",
       "      <td>0.007326</td>\n",
       "      <td>-0.000351</td>\n",
       "      <td>0.007109</td>\n",
       "      <td>0.003339</td>\n",
       "      <td>0.006356</td>\n",
       "      <td>-0.002784</td>\n",
       "      <td>0.019518</td>\n",
       "      <td>-0.006579</td>\n",
       "      <td>...</td>\n",
       "      <td>0.013655</td>\n",
       "      <td>NaN</td>\n",
       "      <td>-0.000614</td>\n",
       "      <td>-0.009318</td>\n",
       "      <td>0.028760</td>\n",
       "      <td>-0.010548</td>\n",
       "      <td>0.005301</td>\n",
       "      <td>0.002802</td>\n",
       "      <td>-0.009433</td>\n",
       "      <td>NaN</td>\n",
       "    </tr>\n",
       "    <tr>\n",
       "      <th>Initial List Status</th>\n",
       "      <td>0.001798</td>\n",
       "      <td>0.003435</td>\n",
       "      <td>-0.005628</td>\n",
       "      <td>0.008046</td>\n",
       "      <td>0.010055</td>\n",
       "      <td>0.012108</td>\n",
       "      <td>0.003856</td>\n",
       "      <td>-0.004925</td>\n",
       "      <td>0.023552</td>\n",
       "      <td>-0.005122</td>\n",
       "      <td>...</td>\n",
       "      <td>-0.009383</td>\n",
       "      <td>NaN</td>\n",
       "      <td>0.001461</td>\n",
       "      <td>-0.020567</td>\n",
       "      <td>-0.018513</td>\n",
       "      <td>-0.049885</td>\n",
       "      <td>-0.091610</td>\n",
       "      <td>-0.005256</td>\n",
       "      <td>-0.026524</td>\n",
       "      <td>NaN</td>\n",
       "    </tr>\n",
       "    <tr>\n",
       "      <th>Total Received Interest</th>\n",
       "      <td>-0.007884</td>\n",
       "      <td>-0.004073</td>\n",
       "      <td>-0.000368</td>\n",
       "      <td>-0.006386</td>\n",
       "      <td>0.012745</td>\n",
       "      <td>-0.002812</td>\n",
       "      <td>0.001560</td>\n",
       "      <td>-0.001514</td>\n",
       "      <td>-0.016692</td>\n",
       "      <td>-0.008308</td>\n",
       "      <td>...</td>\n",
       "      <td>0.001424</td>\n",
       "      <td>NaN</td>\n",
       "      <td>-0.008627</td>\n",
       "      <td>-0.001594</td>\n",
       "      <td>-0.002354</td>\n",
       "      <td>0.009791</td>\n",
       "      <td>0.011171</td>\n",
       "      <td>0.000710</td>\n",
       "      <td>-0.002306</td>\n",
       "      <td>NaN</td>\n",
       "    </tr>\n",
       "    <tr>\n",
       "      <th>Total Received Late Fee</th>\n",
       "      <td>0.001942</td>\n",
       "      <td>-0.002862</td>\n",
       "      <td>-0.017770</td>\n",
       "      <td>-0.008120</td>\n",
       "      <td>0.014534</td>\n",
       "      <td>0.004303</td>\n",
       "      <td>-0.000731</td>\n",
       "      <td>-0.016587</td>\n",
       "      <td>-0.001271</td>\n",
       "      <td>-0.005124</td>\n",
       "      <td>...</td>\n",
       "      <td>-0.001248</td>\n",
       "      <td>NaN</td>\n",
       "      <td>-0.011553</td>\n",
       "      <td>-0.009771</td>\n",
       "      <td>-0.018499</td>\n",
       "      <td>-0.001251</td>\n",
       "      <td>-0.021951</td>\n",
       "      <td>0.000550</td>\n",
       "      <td>0.001242</td>\n",
       "      <td>NaN</td>\n",
       "    </tr>\n",
       "    <tr>\n",
       "      <th>Recoveries</th>\n",
       "      <td>-0.005097</td>\n",
       "      <td>-0.005202</td>\n",
       "      <td>-0.007068</td>\n",
       "      <td>-0.000742</td>\n",
       "      <td>0.012743</td>\n",
       "      <td>0.000257</td>\n",
       "      <td>0.008425</td>\n",
       "      <td>-0.009798</td>\n",
       "      <td>-0.004483</td>\n",
       "      <td>-0.005422</td>\n",
       "      <td>...</td>\n",
       "      <td>-0.003889</td>\n",
       "      <td>NaN</td>\n",
       "      <td>-0.005192</td>\n",
       "      <td>-0.011689</td>\n",
       "      <td>-0.007472</td>\n",
       "      <td>0.009616</td>\n",
       "      <td>-0.004937</td>\n",
       "      <td>-0.003121</td>\n",
       "      <td>0.004006</td>\n",
       "      <td>NaN</td>\n",
       "    </tr>\n",
       "    <tr>\n",
       "      <th>Collection Recovery Fee</th>\n",
       "      <td>-0.003943</td>\n",
       "      <td>-0.001156</td>\n",
       "      <td>-0.000390</td>\n",
       "      <td>-0.010293</td>\n",
       "      <td>0.012655</td>\n",
       "      <td>0.002566</td>\n",
       "      <td>-0.004591</td>\n",
       "      <td>-0.003279</td>\n",
       "      <td>-0.005705</td>\n",
       "      <td>-0.002836</td>\n",
       "      <td>...</td>\n",
       "      <td>0.003314</td>\n",
       "      <td>NaN</td>\n",
       "      <td>-0.006151</td>\n",
       "      <td>-0.010161</td>\n",
       "      <td>-0.000237</td>\n",
       "      <td>0.004789</td>\n",
       "      <td>0.002067</td>\n",
       "      <td>0.002944</td>\n",
       "      <td>0.011267</td>\n",
       "      <td>NaN</td>\n",
       "    </tr>\n",
       "    <tr>\n",
       "      <th>Collection 12 months Medical</th>\n",
       "      <td>-0.008404</td>\n",
       "      <td>-0.004442</td>\n",
       "      <td>-0.001979</td>\n",
       "      <td>-0.001561</td>\n",
       "      <td>0.013070</td>\n",
       "      <td>-0.003696</td>\n",
       "      <td>-0.006945</td>\n",
       "      <td>0.004642</td>\n",
       "      <td>-0.012384</td>\n",
       "      <td>0.001867</td>\n",
       "      <td>...</td>\n",
       "      <td>0.011631</td>\n",
       "      <td>NaN</td>\n",
       "      <td>-0.007502</td>\n",
       "      <td>-0.007621</td>\n",
       "      <td>-0.014862</td>\n",
       "      <td>-0.004300</td>\n",
       "      <td>-0.001564</td>\n",
       "      <td>-0.004787</td>\n",
       "      <td>0.011718</td>\n",
       "      <td>NaN</td>\n",
       "    </tr>\n",
       "    <tr>\n",
       "      <th>Last week Pay</th>\n",
       "      <td>0.003800</td>\n",
       "      <td>-0.001047</td>\n",
       "      <td>-0.003307</td>\n",
       "      <td>0.002264</td>\n",
       "      <td>0.006653</td>\n",
       "      <td>-0.005537</td>\n",
       "      <td>-0.009464</td>\n",
       "      <td>0.005261</td>\n",
       "      <td>-0.005027</td>\n",
       "      <td>0.006940</td>\n",
       "      <td>...</td>\n",
       "      <td>1.000000</td>\n",
       "      <td>NaN</td>\n",
       "      <td>-0.002818</td>\n",
       "      <td>0.000425</td>\n",
       "      <td>-0.002904</td>\n",
       "      <td>0.004430</td>\n",
       "      <td>0.020496</td>\n",
       "      <td>-0.001216</td>\n",
       "      <td>-0.006710</td>\n",
       "      <td>NaN</td>\n",
       "    </tr>\n",
       "    <tr>\n",
       "      <th>Accounts Delinquent</th>\n",
       "      <td>NaN</td>\n",
       "      <td>NaN</td>\n",
       "      <td>NaN</td>\n",
       "      <td>NaN</td>\n",
       "      <td>NaN</td>\n",
       "      <td>NaN</td>\n",
       "      <td>NaN</td>\n",
       "      <td>NaN</td>\n",
       "      <td>NaN</td>\n",
       "      <td>NaN</td>\n",
       "      <td>...</td>\n",
       "      <td>NaN</td>\n",
       "      <td>NaN</td>\n",
       "      <td>NaN</td>\n",
       "      <td>NaN</td>\n",
       "      <td>NaN</td>\n",
       "      <td>NaN</td>\n",
       "      <td>NaN</td>\n",
       "      <td>NaN</td>\n",
       "      <td>NaN</td>\n",
       "      <td>NaN</td>\n",
       "    </tr>\n",
       "    <tr>\n",
       "      <th>Total Collection Amount</th>\n",
       "      <td>-0.003012</td>\n",
       "      <td>-0.002726</td>\n",
       "      <td>-0.005163</td>\n",
       "      <td>-0.003954</td>\n",
       "      <td>0.012973</td>\n",
       "      <td>-0.000025</td>\n",
       "      <td>-0.002316</td>\n",
       "      <td>-0.008475</td>\n",
       "      <td>-0.003497</td>\n",
       "      <td>0.001058</td>\n",
       "      <td>...</td>\n",
       "      <td>-0.002818</td>\n",
       "      <td>NaN</td>\n",
       "      <td>1.000000</td>\n",
       "      <td>-0.000512</td>\n",
       "      <td>-0.007067</td>\n",
       "      <td>-0.001064</td>\n",
       "      <td>-0.007687</td>\n",
       "      <td>-0.000739</td>\n",
       "      <td>0.011916</td>\n",
       "      <td>NaN</td>\n",
       "    </tr>\n",
       "    <tr>\n",
       "      <th>Total Current Balance</th>\n",
       "      <td>-0.006059</td>\n",
       "      <td>-0.007962</td>\n",
       "      <td>-0.004526</td>\n",
       "      <td>-0.001956</td>\n",
       "      <td>0.003959</td>\n",
       "      <td>-0.012017</td>\n",
       "      <td>-0.003302</td>\n",
       "      <td>0.003487</td>\n",
       "      <td>0.000451</td>\n",
       "      <td>-0.001745</td>\n",
       "      <td>...</td>\n",
       "      <td>0.000425</td>\n",
       "      <td>NaN</td>\n",
       "      <td>-0.000512</td>\n",
       "      <td>1.000000</td>\n",
       "      <td>0.001225</td>\n",
       "      <td>0.025617</td>\n",
       "      <td>0.032487</td>\n",
       "      <td>-0.003780</td>\n",
       "      <td>0.017322</td>\n",
       "      <td>NaN</td>\n",
       "    </tr>\n",
       "    <tr>\n",
       "      <th>Total Revolving Credit Limit</th>\n",
       "      <td>-0.006097</td>\n",
       "      <td>0.004841</td>\n",
       "      <td>-0.000853</td>\n",
       "      <td>-0.001511</td>\n",
       "      <td>0.013074</td>\n",
       "      <td>-0.003388</td>\n",
       "      <td>0.011917</td>\n",
       "      <td>-0.004143</td>\n",
       "      <td>-0.001680</td>\n",
       "      <td>-0.009602</td>\n",
       "      <td>...</td>\n",
       "      <td>-0.002904</td>\n",
       "      <td>NaN</td>\n",
       "      <td>-0.007067</td>\n",
       "      <td>0.001225</td>\n",
       "      <td>1.000000</td>\n",
       "      <td>0.019909</td>\n",
       "      <td>-0.001468</td>\n",
       "      <td>-0.001545</td>\n",
       "      <td>0.003262</td>\n",
       "      <td>NaN</td>\n",
       "    </tr>\n",
       "    <tr>\n",
       "      <th>Grade_mean_labels</th>\n",
       "      <td>-0.001167</td>\n",
       "      <td>-0.029706</td>\n",
       "      <td>-0.002038</td>\n",
       "      <td>0.007972</td>\n",
       "      <td>0.006394</td>\n",
       "      <td>0.006895</td>\n",
       "      <td>0.015772</td>\n",
       "      <td>0.016868</td>\n",
       "      <td>0.011606</td>\n",
       "      <td>0.001880</td>\n",
       "      <td>...</td>\n",
       "      <td>0.004430</td>\n",
       "      <td>NaN</td>\n",
       "      <td>-0.001064</td>\n",
       "      <td>0.025617</td>\n",
       "      <td>0.019909</td>\n",
       "      <td>1.000000</td>\n",
       "      <td>0.082594</td>\n",
       "      <td>-0.009113</td>\n",
       "      <td>0.028182</td>\n",
       "      <td>NaN</td>\n",
       "    </tr>\n",
       "    <tr>\n",
       "      <th>Employment Duration_ordinal_labels</th>\n",
       "      <td>0.001998</td>\n",
       "      <td>-0.025731</td>\n",
       "      <td>0.014854</td>\n",
       "      <td>-0.008789</td>\n",
       "      <td>0.003787</td>\n",
       "      <td>-0.009624</td>\n",
       "      <td>0.016298</td>\n",
       "      <td>0.002397</td>\n",
       "      <td>-0.028239</td>\n",
       "      <td>-0.000874</td>\n",
       "      <td>...</td>\n",
       "      <td>0.020496</td>\n",
       "      <td>NaN</td>\n",
       "      <td>-0.007687</td>\n",
       "      <td>0.032487</td>\n",
       "      <td>-0.001468</td>\n",
       "      <td>0.082594</td>\n",
       "      <td>1.000000</td>\n",
       "      <td>-0.002769</td>\n",
       "      <td>0.022493</td>\n",
       "      <td>NaN</td>\n",
       "    </tr>\n",
       "    <tr>\n",
       "      <th>Application Type_mean_labels</th>\n",
       "      <td>-0.001689</td>\n",
       "      <td>-0.007399</td>\n",
       "      <td>-0.003089</td>\n",
       "      <td>-0.001653</td>\n",
       "      <td>0.002013</td>\n",
       "      <td>0.002897</td>\n",
       "      <td>-0.000293</td>\n",
       "      <td>0.002267</td>\n",
       "      <td>-0.002200</td>\n",
       "      <td>-0.004194</td>\n",
       "      <td>...</td>\n",
       "      <td>-0.001216</td>\n",
       "      <td>NaN</td>\n",
       "      <td>-0.000739</td>\n",
       "      <td>-0.003780</td>\n",
       "      <td>-0.001545</td>\n",
       "      <td>-0.009113</td>\n",
       "      <td>-0.002769</td>\n",
       "      <td>1.000000</td>\n",
       "      <td>0.005082</td>\n",
       "      <td>NaN</td>\n",
       "    </tr>\n",
       "    <tr>\n",
       "      <th>Verification Status_mean_labels</th>\n",
       "      <td>0.009508</td>\n",
       "      <td>-0.015000</td>\n",
       "      <td>0.000041</td>\n",
       "      <td>-0.002980</td>\n",
       "      <td>-0.006346</td>\n",
       "      <td>0.005145</td>\n",
       "      <td>0.005193</td>\n",
       "      <td>0.009144</td>\n",
       "      <td>-0.011671</td>\n",
       "      <td>0.006574</td>\n",
       "      <td>...</td>\n",
       "      <td>-0.006710</td>\n",
       "      <td>NaN</td>\n",
       "      <td>0.011916</td>\n",
       "      <td>0.017322</td>\n",
       "      <td>0.003262</td>\n",
       "      <td>0.028182</td>\n",
       "      <td>0.022493</td>\n",
       "      <td>0.005082</td>\n",
       "      <td>1.000000</td>\n",
       "      <td>NaN</td>\n",
       "    </tr>\n",
       "    <tr>\n",
       "      <th>Payment Plan_mean_labels</th>\n",
       "      <td>NaN</td>\n",
       "      <td>NaN</td>\n",
       "      <td>NaN</td>\n",
       "      <td>NaN</td>\n",
       "      <td>NaN</td>\n",
       "      <td>NaN</td>\n",
       "      <td>NaN</td>\n",
       "      <td>NaN</td>\n",
       "      <td>NaN</td>\n",
       "      <td>NaN</td>\n",
       "      <td>...</td>\n",
       "      <td>NaN</td>\n",
       "      <td>NaN</td>\n",
       "      <td>NaN</td>\n",
       "      <td>NaN</td>\n",
       "      <td>NaN</td>\n",
       "      <td>NaN</td>\n",
       "      <td>NaN</td>\n",
       "      <td>NaN</td>\n",
       "      <td>NaN</td>\n",
       "      <td>NaN</td>\n",
       "    </tr>\n",
       "  </tbody>\n",
       "</table>\n",
       "<p>34 rows × 34 columns</p>\n",
       "</div>"
      ],
      "text/plain": [
       "                                          ID  Loan Amount  Funded Amount  \\\n",
       "ID                                  1.000000    -0.003051      -0.008456   \n",
       "Loan Amount                        -0.003051     1.000000      -0.001365   \n",
       "Funded Amount                      -0.008456    -0.001365       1.000000   \n",
       "Funded Amount Investor             -0.003261     0.002392       0.008478   \n",
       "Term                                0.014867     0.001463       0.008037   \n",
       "Batch Enrolled                      0.005156     0.001060       0.001555   \n",
       "Interest Rate                       0.004621    -0.003159      -0.000076   \n",
       "Sub Grade                           0.007402    -0.001965      -0.000744   \n",
       "Home Ownership                     -0.004835     0.016202      -0.005392   \n",
       "Loan Title                         -0.002934     0.001156      -0.001843   \n",
       "Debit to Income                    -0.009963     0.007661       0.000498   \n",
       "Delinquency - two years            -0.000888     0.001923      -0.003438   \n",
       "Inquires - six months              -0.014107     0.010239      -0.008664   \n",
       "Open Account                       -0.005419     0.005508       0.003751   \n",
       "Public Record                       0.001758    -0.005753       0.001213   \n",
       "Revolving Balance                   0.000615    -0.002001      -0.004245   \n",
       "Revolving Utilities                 0.001690     0.013931       0.005923   \n",
       "Total Accounts                      0.001564    -0.002840       0.007326   \n",
       "Initial List Status                 0.001798     0.003435      -0.005628   \n",
       "Total Received Interest            -0.007884    -0.004073      -0.000368   \n",
       "Total Received Late Fee             0.001942    -0.002862      -0.017770   \n",
       "Recoveries                         -0.005097    -0.005202      -0.007068   \n",
       "Collection Recovery Fee            -0.003943    -0.001156      -0.000390   \n",
       "Collection 12 months Medical       -0.008404    -0.004442      -0.001979   \n",
       "Last week Pay                       0.003800    -0.001047      -0.003307   \n",
       "Accounts Delinquent                      NaN          NaN            NaN   \n",
       "Total Collection Amount            -0.003012    -0.002726      -0.005163   \n",
       "Total Current Balance              -0.006059    -0.007962      -0.004526   \n",
       "Total Revolving Credit Limit       -0.006097     0.004841      -0.000853   \n",
       "Grade_mean_labels                  -0.001167    -0.029706      -0.002038   \n",
       "Employment Duration_ordinal_labels  0.001998    -0.025731       0.014854   \n",
       "Application Type_mean_labels       -0.001689    -0.007399      -0.003089   \n",
       "Verification Status_mean_labels     0.009508    -0.015000       0.000041   \n",
       "Payment Plan_mean_labels                 NaN          NaN            NaN   \n",
       "\n",
       "                                    Funded Amount Investor      Term  \\\n",
       "ID                                               -0.003261  0.014867   \n",
       "Loan Amount                                       0.002392  0.001463   \n",
       "Funded Amount                                     0.008478  0.008037   \n",
       "Funded Amount Investor                            1.000000  0.001898   \n",
       "Term                                              0.001898  1.000000   \n",
       "Batch Enrolled                                    0.001683  0.001917   \n",
       "Interest Rate                                    -0.003228  0.002384   \n",
       "Sub Grade                                        -0.001389  0.003194   \n",
       "Home Ownership                                   -0.001190  0.001803   \n",
       "Loan Title                                       -0.003310  0.004558   \n",
       "Debit to Income                                  -0.001647  0.010791   \n",
       "Delinquency - two years                          -0.000582  0.013076   \n",
       "Inquires - six months                            -0.010002  0.020119   \n",
       "Open Account                                     -0.010558  0.023000   \n",
       "Public Record                                    -0.000388  0.019978   \n",
       "Revolving Balance                                -0.011277  0.012447   \n",
       "Revolving Utilities                              -0.003441  0.001236   \n",
       "Total Accounts                                   -0.000351  0.007109   \n",
       "Initial List Status                               0.008046  0.010055   \n",
       "Total Received Interest                          -0.006386  0.012745   \n",
       "Total Received Late Fee                          -0.008120  0.014534   \n",
       "Recoveries                                       -0.000742  0.012743   \n",
       "Collection Recovery Fee                          -0.010293  0.012655   \n",
       "Collection 12 months Medical                     -0.001561  0.013070   \n",
       "Last week Pay                                     0.002264  0.006653   \n",
       "Accounts Delinquent                                    NaN       NaN   \n",
       "Total Collection Amount                          -0.003954  0.012973   \n",
       "Total Current Balance                            -0.001956  0.003959   \n",
       "Total Revolving Credit Limit                     -0.001511  0.013074   \n",
       "Grade_mean_labels                                 0.007972  0.006394   \n",
       "Employment Duration_ordinal_labels               -0.008789  0.003787   \n",
       "Application Type_mean_labels                     -0.001653  0.002013   \n",
       "Verification Status_mean_labels                  -0.002980 -0.006346   \n",
       "Payment Plan_mean_labels                               NaN       NaN   \n",
       "\n",
       "                                    Batch Enrolled  Interest Rate  Sub Grade  \\\n",
       "ID                                        0.005156       0.004621   0.007402   \n",
       "Loan Amount                               0.001060      -0.003159  -0.001965   \n",
       "Funded Amount                             0.001555      -0.000076  -0.000744   \n",
       "Funded Amount Investor                    0.001683      -0.003228  -0.001389   \n",
       "Term                                      0.001917       0.002384   0.003194   \n",
       "Batch Enrolled                            1.000000      -0.001946   0.002081   \n",
       "Interest Rate                            -0.001946       1.000000  -0.003130   \n",
       "Sub Grade                                 0.002081      -0.003130   1.000000   \n",
       "Home Ownership                           -0.000407       0.002359   0.001479   \n",
       "Loan Title                               -0.004042      -0.001373  -0.004788   \n",
       "Debit to Income                           0.001592      -0.010231  -0.012172   \n",
       "Delinquency - two years                  -0.007983      -0.001819  -0.003860   \n",
       "Inquires - six months                    -0.001125       0.009837  -0.014277   \n",
       "Open Account                              0.003537      -0.003284  -0.012644   \n",
       "Public Record                            -0.000516       0.000283  -0.000025   \n",
       "Revolving Balance                         0.007641       0.015667  -0.006487   \n",
       "Revolving Utilities                       0.003318       0.003406  -0.005167   \n",
       "Total Accounts                            0.003339       0.006356  -0.002784   \n",
       "Initial List Status                       0.012108       0.003856  -0.004925   \n",
       "Total Received Interest                  -0.002812       0.001560  -0.001514   \n",
       "Total Received Late Fee                   0.004303      -0.000731  -0.016587   \n",
       "Recoveries                                0.000257       0.008425  -0.009798   \n",
       "Collection Recovery Fee                   0.002566      -0.004591  -0.003279   \n",
       "Collection 12 months Medical             -0.003696      -0.006945   0.004642   \n",
       "Last week Pay                            -0.005537      -0.009464   0.005261   \n",
       "Accounts Delinquent                            NaN            NaN        NaN   \n",
       "Total Collection Amount                  -0.000025      -0.002316  -0.008475   \n",
       "Total Current Balance                    -0.012017      -0.003302   0.003487   \n",
       "Total Revolving Credit Limit             -0.003388       0.011917  -0.004143   \n",
       "Grade_mean_labels                         0.006895       0.015772   0.016868   \n",
       "Employment Duration_ordinal_labels       -0.009624       0.016298   0.002397   \n",
       "Application Type_mean_labels              0.002897      -0.000293   0.002267   \n",
       "Verification Status_mean_labels           0.005145       0.005193   0.009144   \n",
       "Payment Plan_mean_labels                       NaN            NaN        NaN   \n",
       "\n",
       "                                    Home Ownership  Loan Title  ...  \\\n",
       "ID                                       -0.004835   -0.002934  ...   \n",
       "Loan Amount                               0.016202    0.001156  ...   \n",
       "Funded Amount                            -0.005392   -0.001843  ...   \n",
       "Funded Amount Investor                   -0.001190   -0.003310  ...   \n",
       "Term                                      0.001803    0.004558  ...   \n",
       "Batch Enrolled                           -0.000407   -0.004042  ...   \n",
       "Interest Rate                             0.002359   -0.001373  ...   \n",
       "Sub Grade                                 0.001479   -0.004788  ...   \n",
       "Home Ownership                            1.000000   -0.002702  ...   \n",
       "Loan Title                               -0.002702    1.000000  ...   \n",
       "Debit to Income                           0.021088    0.002706  ...   \n",
       "Delinquency - two years                  -0.008187   -0.009023  ...   \n",
       "Inquires - six months                     0.000541   -0.010418  ...   \n",
       "Open Account                              0.004504   -0.001385  ...   \n",
       "Public Record                            -0.000077   -0.006885  ...   \n",
       "Revolving Balance                         0.013319   -0.010777  ...   \n",
       "Revolving Utilities                      -0.005412   -0.003008  ...   \n",
       "Total Accounts                            0.019518   -0.006579  ...   \n",
       "Initial List Status                       0.023552   -0.005122  ...   \n",
       "Total Received Interest                  -0.016692   -0.008308  ...   \n",
       "Total Received Late Fee                  -0.001271   -0.005124  ...   \n",
       "Recoveries                               -0.004483   -0.005422  ...   \n",
       "Collection Recovery Fee                  -0.005705   -0.002836  ...   \n",
       "Collection 12 months Medical             -0.012384    0.001867  ...   \n",
       "Last week Pay                            -0.005027    0.006940  ...   \n",
       "Accounts Delinquent                            NaN         NaN  ...   \n",
       "Total Collection Amount                  -0.003497    0.001058  ...   \n",
       "Total Current Balance                     0.000451   -0.001745  ...   \n",
       "Total Revolving Credit Limit             -0.001680   -0.009602  ...   \n",
       "Grade_mean_labels                         0.011606    0.001880  ...   \n",
       "Employment Duration_ordinal_labels       -0.028239   -0.000874  ...   \n",
       "Application Type_mean_labels             -0.002200   -0.004194  ...   \n",
       "Verification Status_mean_labels          -0.011671    0.006574  ...   \n",
       "Payment Plan_mean_labels                       NaN         NaN  ...   \n",
       "\n",
       "                                    Last week Pay  Accounts Delinquent  \\\n",
       "ID                                       0.003800                  NaN   \n",
       "Loan Amount                             -0.001047                  NaN   \n",
       "Funded Amount                           -0.003307                  NaN   \n",
       "Funded Amount Investor                   0.002264                  NaN   \n",
       "Term                                     0.006653                  NaN   \n",
       "Batch Enrolled                          -0.005537                  NaN   \n",
       "Interest Rate                           -0.009464                  NaN   \n",
       "Sub Grade                                0.005261                  NaN   \n",
       "Home Ownership                          -0.005027                  NaN   \n",
       "Loan Title                               0.006940                  NaN   \n",
       "Debit to Income                          0.007600                  NaN   \n",
       "Delinquency - two years                 -0.001726                  NaN   \n",
       "Inquires - six months                   -0.006033                  NaN   \n",
       "Open Account                            -0.013758                  NaN   \n",
       "Public Record                           -0.001418                  NaN   \n",
       "Revolving Balance                       -0.010048                  NaN   \n",
       "Revolving Utilities                      0.010635                  NaN   \n",
       "Total Accounts                           0.013655                  NaN   \n",
       "Initial List Status                     -0.009383                  NaN   \n",
       "Total Received Interest                  0.001424                  NaN   \n",
       "Total Received Late Fee                 -0.001248                  NaN   \n",
       "Recoveries                              -0.003889                  NaN   \n",
       "Collection Recovery Fee                  0.003314                  NaN   \n",
       "Collection 12 months Medical             0.011631                  NaN   \n",
       "Last week Pay                            1.000000                  NaN   \n",
       "Accounts Delinquent                           NaN                  NaN   \n",
       "Total Collection Amount                 -0.002818                  NaN   \n",
       "Total Current Balance                    0.000425                  NaN   \n",
       "Total Revolving Credit Limit            -0.002904                  NaN   \n",
       "Grade_mean_labels                        0.004430                  NaN   \n",
       "Employment Duration_ordinal_labels       0.020496                  NaN   \n",
       "Application Type_mean_labels            -0.001216                  NaN   \n",
       "Verification Status_mean_labels         -0.006710                  NaN   \n",
       "Payment Plan_mean_labels                      NaN                  NaN   \n",
       "\n",
       "                                    Total Collection Amount  \\\n",
       "ID                                                -0.003012   \n",
       "Loan Amount                                       -0.002726   \n",
       "Funded Amount                                     -0.005163   \n",
       "Funded Amount Investor                            -0.003954   \n",
       "Term                                               0.012973   \n",
       "Batch Enrolled                                    -0.000025   \n",
       "Interest Rate                                     -0.002316   \n",
       "Sub Grade                                         -0.008475   \n",
       "Home Ownership                                    -0.003497   \n",
       "Loan Title                                         0.001058   \n",
       "Debit to Income                                   -0.004803   \n",
       "Delinquency - two years                           -0.006318   \n",
       "Inquires - six months                             -0.016017   \n",
       "Open Account                                      -0.010630   \n",
       "Public Record                                     -0.009369   \n",
       "Revolving Balance                                 -0.009945   \n",
       "Revolving Utilities                                0.003542   \n",
       "Total Accounts                                    -0.000614   \n",
       "Initial List Status                                0.001461   \n",
       "Total Received Interest                           -0.008627   \n",
       "Total Received Late Fee                           -0.011553   \n",
       "Recoveries                                        -0.005192   \n",
       "Collection Recovery Fee                           -0.006151   \n",
       "Collection 12 months Medical                      -0.007502   \n",
       "Last week Pay                                     -0.002818   \n",
       "Accounts Delinquent                                     NaN   \n",
       "Total Collection Amount                            1.000000   \n",
       "Total Current Balance                             -0.000512   \n",
       "Total Revolving Credit Limit                      -0.007067   \n",
       "Grade_mean_labels                                 -0.001064   \n",
       "Employment Duration_ordinal_labels                -0.007687   \n",
       "Application Type_mean_labels                      -0.000739   \n",
       "Verification Status_mean_labels                    0.011916   \n",
       "Payment Plan_mean_labels                                NaN   \n",
       "\n",
       "                                    Total Current Balance  \\\n",
       "ID                                              -0.006059   \n",
       "Loan Amount                                     -0.007962   \n",
       "Funded Amount                                   -0.004526   \n",
       "Funded Amount Investor                          -0.001956   \n",
       "Term                                             0.003959   \n",
       "Batch Enrolled                                  -0.012017   \n",
       "Interest Rate                                   -0.003302   \n",
       "Sub Grade                                        0.003487   \n",
       "Home Ownership                                   0.000451   \n",
       "Loan Title                                      -0.001745   \n",
       "Debit to Income                                 -0.016001   \n",
       "Delinquency - two years                         -0.007310   \n",
       "Inquires - six months                           -0.004451   \n",
       "Open Account                                    -0.004747   \n",
       "Public Record                                   -0.004195   \n",
       "Revolving Balance                               -0.016337   \n",
       "Revolving Utilities                             -0.021054   \n",
       "Total Accounts                                  -0.009318   \n",
       "Initial List Status                             -0.020567   \n",
       "Total Received Interest                         -0.001594   \n",
       "Total Received Late Fee                         -0.009771   \n",
       "Recoveries                                      -0.011689   \n",
       "Collection Recovery Fee                         -0.010161   \n",
       "Collection 12 months Medical                    -0.007621   \n",
       "Last week Pay                                    0.000425   \n",
       "Accounts Delinquent                                   NaN   \n",
       "Total Collection Amount                         -0.000512   \n",
       "Total Current Balance                            1.000000   \n",
       "Total Revolving Credit Limit                     0.001225   \n",
       "Grade_mean_labels                                0.025617   \n",
       "Employment Duration_ordinal_labels               0.032487   \n",
       "Application Type_mean_labels                    -0.003780   \n",
       "Verification Status_mean_labels                  0.017322   \n",
       "Payment Plan_mean_labels                              NaN   \n",
       "\n",
       "                                    Total Revolving Credit Limit  \\\n",
       "ID                                                     -0.006097   \n",
       "Loan Amount                                             0.004841   \n",
       "Funded Amount                                          -0.000853   \n",
       "Funded Amount Investor                                 -0.001511   \n",
       "Term                                                    0.013074   \n",
       "Batch Enrolled                                         -0.003388   \n",
       "Interest Rate                                           0.011917   \n",
       "Sub Grade                                              -0.004143   \n",
       "Home Ownership                                         -0.001680   \n",
       "Loan Title                                             -0.009602   \n",
       "Debit to Income                                        -0.007936   \n",
       "Delinquency - two years                                -0.006105   \n",
       "Inquires - six months                                  -0.008293   \n",
       "Open Account                                           -0.003849   \n",
       "Public Record                                          -0.006851   \n",
       "Revolving Balance                                       0.014035   \n",
       "Revolving Utilities                                    -0.006655   \n",
       "Total Accounts                                          0.028760   \n",
       "Initial List Status                                    -0.018513   \n",
       "Total Received Interest                                -0.002354   \n",
       "Total Received Late Fee                                -0.018499   \n",
       "Recoveries                                             -0.007472   \n",
       "Collection Recovery Fee                                -0.000237   \n",
       "Collection 12 months Medical                           -0.014862   \n",
       "Last week Pay                                          -0.002904   \n",
       "Accounts Delinquent                                          NaN   \n",
       "Total Collection Amount                                -0.007067   \n",
       "Total Current Balance                                   0.001225   \n",
       "Total Revolving Credit Limit                            1.000000   \n",
       "Grade_mean_labels                                       0.019909   \n",
       "Employment Duration_ordinal_labels                     -0.001468   \n",
       "Application Type_mean_labels                           -0.001545   \n",
       "Verification Status_mean_labels                         0.003262   \n",
       "Payment Plan_mean_labels                                     NaN   \n",
       "\n",
       "                                    Grade_mean_labels  \\\n",
       "ID                                          -0.001167   \n",
       "Loan Amount                                 -0.029706   \n",
       "Funded Amount                               -0.002038   \n",
       "Funded Amount Investor                       0.007972   \n",
       "Term                                         0.006394   \n",
       "Batch Enrolled                               0.006895   \n",
       "Interest Rate                                0.015772   \n",
       "Sub Grade                                    0.016868   \n",
       "Home Ownership                               0.011606   \n",
       "Loan Title                                   0.001880   \n",
       "Debit to Income                             -0.019688   \n",
       "Delinquency - two years                      0.002920   \n",
       "Inquires - six months                       -0.004900   \n",
       "Open Account                                -0.027267   \n",
       "Public Record                                0.010459   \n",
       "Revolving Balance                            0.020679   \n",
       "Revolving Utilities                         -0.031917   \n",
       "Total Accounts                              -0.010548   \n",
       "Initial List Status                         -0.049885   \n",
       "Total Received Interest                      0.009791   \n",
       "Total Received Late Fee                     -0.001251   \n",
       "Recoveries                                   0.009616   \n",
       "Collection Recovery Fee                      0.004789   \n",
       "Collection 12 months Medical                -0.004300   \n",
       "Last week Pay                                0.004430   \n",
       "Accounts Delinquent                               NaN   \n",
       "Total Collection Amount                     -0.001064   \n",
       "Total Current Balance                        0.025617   \n",
       "Total Revolving Credit Limit                 0.019909   \n",
       "Grade_mean_labels                            1.000000   \n",
       "Employment Duration_ordinal_labels           0.082594   \n",
       "Application Type_mean_labels                -0.009113   \n",
       "Verification Status_mean_labels              0.028182   \n",
       "Payment Plan_mean_labels                          NaN   \n",
       "\n",
       "                                    Employment Duration_ordinal_labels  \\\n",
       "ID                                                            0.001998   \n",
       "Loan Amount                                                  -0.025731   \n",
       "Funded Amount                                                 0.014854   \n",
       "Funded Amount Investor                                       -0.008789   \n",
       "Term                                                          0.003787   \n",
       "Batch Enrolled                                               -0.009624   \n",
       "Interest Rate                                                 0.016298   \n",
       "Sub Grade                                                     0.002397   \n",
       "Home Ownership                                               -0.028239   \n",
       "Loan Title                                                   -0.000874   \n",
       "Debit to Income                                              -0.008992   \n",
       "Delinquency - two years                                      -0.014410   \n",
       "Inquires - six months                                        -0.002953   \n",
       "Open Account                                                 -0.018898   \n",
       "Public Record                                                -0.000505   \n",
       "Revolving Balance                                            -0.011179   \n",
       "Revolving Utilities                                          -0.008703   \n",
       "Total Accounts                                                0.005301   \n",
       "Initial List Status                                          -0.091610   \n",
       "Total Received Interest                                       0.011171   \n",
       "Total Received Late Fee                                      -0.021951   \n",
       "Recoveries                                                   -0.004937   \n",
       "Collection Recovery Fee                                       0.002067   \n",
       "Collection 12 months Medical                                 -0.001564   \n",
       "Last week Pay                                                 0.020496   \n",
       "Accounts Delinquent                                                NaN   \n",
       "Total Collection Amount                                      -0.007687   \n",
       "Total Current Balance                                         0.032487   \n",
       "Total Revolving Credit Limit                                 -0.001468   \n",
       "Grade_mean_labels                                             0.082594   \n",
       "Employment Duration_ordinal_labels                            1.000000   \n",
       "Application Type_mean_labels                                 -0.002769   \n",
       "Verification Status_mean_labels                               0.022493   \n",
       "Payment Plan_mean_labels                                           NaN   \n",
       "\n",
       "                                    Application Type_mean_labels  \\\n",
       "ID                                                     -0.001689   \n",
       "Loan Amount                                            -0.007399   \n",
       "Funded Amount                                          -0.003089   \n",
       "Funded Amount Investor                                 -0.001653   \n",
       "Term                                                    0.002013   \n",
       "Batch Enrolled                                          0.002897   \n",
       "Interest Rate                                          -0.000293   \n",
       "Sub Grade                                               0.002267   \n",
       "Home Ownership                                         -0.002200   \n",
       "Loan Title                                             -0.004194   \n",
       "Debit to Income                                         0.005271   \n",
       "Delinquency - two years                                -0.002524   \n",
       "Inquires - six months                                  -0.001172   \n",
       "Open Account                                           -0.000497   \n",
       "Public Record                                           0.001153   \n",
       "Revolving Balance                                      -0.004502   \n",
       "Revolving Utilities                                    -0.001651   \n",
       "Total Accounts                                          0.002802   \n",
       "Initial List Status                                    -0.005256   \n",
       "Total Received Interest                                 0.000710   \n",
       "Total Received Late Fee                                 0.000550   \n",
       "Recoveries                                             -0.003121   \n",
       "Collection Recovery Fee                                 0.002944   \n",
       "Collection 12 months Medical                           -0.004787   \n",
       "Last week Pay                                          -0.001216   \n",
       "Accounts Delinquent                                          NaN   \n",
       "Total Collection Amount                                -0.000739   \n",
       "Total Current Balance                                  -0.003780   \n",
       "Total Revolving Credit Limit                           -0.001545   \n",
       "Grade_mean_labels                                      -0.009113   \n",
       "Employment Duration_ordinal_labels                     -0.002769   \n",
       "Application Type_mean_labels                            1.000000   \n",
       "Verification Status_mean_labels                         0.005082   \n",
       "Payment Plan_mean_labels                                     NaN   \n",
       "\n",
       "                                    Verification Status_mean_labels  \\\n",
       "ID                                                         0.009508   \n",
       "Loan Amount                                               -0.015000   \n",
       "Funded Amount                                              0.000041   \n",
       "Funded Amount Investor                                    -0.002980   \n",
       "Term                                                      -0.006346   \n",
       "Batch Enrolled                                             0.005145   \n",
       "Interest Rate                                              0.005193   \n",
       "Sub Grade                                                  0.009144   \n",
       "Home Ownership                                            -0.011671   \n",
       "Loan Title                                                 0.006574   \n",
       "Debit to Income                                           -0.009029   \n",
       "Delinquency - two years                                    0.004576   \n",
       "Inquires - six months                                      0.002691   \n",
       "Open Account                                               0.006276   \n",
       "Public Record                                              0.016468   \n",
       "Revolving Balance                                          0.013098   \n",
       "Revolving Utilities                                        0.000554   \n",
       "Total Accounts                                            -0.009433   \n",
       "Initial List Status                                       -0.026524   \n",
       "Total Received Interest                                   -0.002306   \n",
       "Total Received Late Fee                                    0.001242   \n",
       "Recoveries                                                 0.004006   \n",
       "Collection Recovery Fee                                    0.011267   \n",
       "Collection 12 months Medical                               0.011718   \n",
       "Last week Pay                                             -0.006710   \n",
       "Accounts Delinquent                                             NaN   \n",
       "Total Collection Amount                                    0.011916   \n",
       "Total Current Balance                                      0.017322   \n",
       "Total Revolving Credit Limit                               0.003262   \n",
       "Grade_mean_labels                                          0.028182   \n",
       "Employment Duration_ordinal_labels                         0.022493   \n",
       "Application Type_mean_labels                               0.005082   \n",
       "Verification Status_mean_labels                            1.000000   \n",
       "Payment Plan_mean_labels                                        NaN   \n",
       "\n",
       "                                    Payment Plan_mean_labels  \n",
       "ID                                                       NaN  \n",
       "Loan Amount                                              NaN  \n",
       "Funded Amount                                            NaN  \n",
       "Funded Amount Investor                                   NaN  \n",
       "Term                                                     NaN  \n",
       "Batch Enrolled                                           NaN  \n",
       "Interest Rate                                            NaN  \n",
       "Sub Grade                                                NaN  \n",
       "Home Ownership                                           NaN  \n",
       "Loan Title                                               NaN  \n",
       "Debit to Income                                          NaN  \n",
       "Delinquency - two years                                  NaN  \n",
       "Inquires - six months                                    NaN  \n",
       "Open Account                                             NaN  \n",
       "Public Record                                            NaN  \n",
       "Revolving Balance                                        NaN  \n",
       "Revolving Utilities                                      NaN  \n",
       "Total Accounts                                           NaN  \n",
       "Initial List Status                                      NaN  \n",
       "Total Received Interest                                  NaN  \n",
       "Total Received Late Fee                                  NaN  \n",
       "Recoveries                                               NaN  \n",
       "Collection Recovery Fee                                  NaN  \n",
       "Collection 12 months Medical                             NaN  \n",
       "Last week Pay                                            NaN  \n",
       "Accounts Delinquent                                      NaN  \n",
       "Total Collection Amount                                  NaN  \n",
       "Total Current Balance                                    NaN  \n",
       "Total Revolving Credit Limit                             NaN  \n",
       "Grade_mean_labels                                        NaN  \n",
       "Employment Duration_ordinal_labels                       NaN  \n",
       "Application Type_mean_labels                             NaN  \n",
       "Verification Status_mean_labels                          NaN  \n",
       "Payment Plan_mean_labels                                 NaN  \n",
       "\n",
       "[34 rows x 34 columns]"
      ]
     },
     "execution_count": 103,
     "metadata": {},
     "output_type": "execute_result"
    }
   ],
   "source": [
    "X_train.corr()"
   ]
  },
  {
   "cell_type": "code",
   "execution_count": 104,
   "id": "664517e3",
   "metadata": {},
   "outputs": [
    {
     "data": {
      "text/plain": [
       "<AxesSubplot:>"
      ]
     },
     "execution_count": 104,
     "metadata": {},
     "output_type": "execute_result"
    },
    {
     "data": {
      "image/png": "[encoded data removed]",
      "text/plain": [
       "<Figure size 2160x1080 with 2 Axes>"
      ]
     },
     "metadata": {
      "needs_background": "light"
     },
     "output_type": "display_data"
    }
   ],
   "source": [
    "import seaborn as sns\n",
    "corr=X_train.corr()\n",
    "top_features=corr.index\n",
    "plt.figure(figsize=(30,15))\n",
    "sns.heatmap(X_train[top_features].corr(),annot=True)\n"
   ]
  },
  {
   "cell_type": "markdown",
   "id": "1139ad61",
   "metadata": {},
   "source": [
    "### Reduction Of `Multi Collinearity`"
   ]
  },
  {
   "cell_type": "code",
   "execution_count": 105,
   "id": "19e9008f",
   "metadata": {},
   "outputs": [],
   "source": [
    "threshold=0.6"
   ]
  },
  {
   "cell_type": "code",
   "execution_count": 106,
   "id": "075adef2",
   "metadata": {},
   "outputs": [],
   "source": [
    "# find and remove correlated features\n",
    "def correlation(dataset, threshold):\n",
    "    col_corr = set()  # Set of all the names of correlated columns\n",
    "    corr_matrix = dataset.corr()\n",
    "    for i in range(len(corr_matrix.columns)):\n",
    "        for j in range(i):\n",
    "            if abs(corr_matrix.iloc[i, j]) > threshold: # we are interested in absolute coeff value\n",
    "                colname = corr_matrix.columns[i]  # getting the name of column\n",
    "                col_corr.add(colname)\n",
    "    return col_corr"
   ]
  },
  {
   "cell_type": "code",
   "execution_count": 107,
   "id": "63deafa0",
   "metadata": {},
   "outputs": [
    {
     "data": {
      "text/plain": [
       "set()"
      ]
     },
     "execution_count": 107,
     "metadata": {},
     "output_type": "execute_result"
    }
   ],
   "source": [
    "correlation(X_train,threshold)"
   ]
  },
  {
   "cell_type": "markdown",
   "id": "0656ae53",
   "metadata": {},
   "source": [
    "#### Information Gain"
   ]
  },
  {
   "cell_type": "code",
   "execution_count": 108,
   "id": "2e115cbb",
   "metadata": {},
   "outputs": [],
   "source": [
    "from sklearn.feature_selection import mutual_info_classif"
   ]
  },
  {
   "cell_type": "code",
   "execution_count": 109,
   "id": "6937059c",
   "metadata": {},
   "outputs": [],
   "source": [
    "mutual_info=mutual_info_classif(X_train,y_train)"
   ]
  },
  {
   "cell_type": "code",
   "execution_count": 110,
   "id": "ae55a914",
   "metadata": {},
   "outputs": [
    {
     "data": {
      "text/plain": [
       "Collection Recovery Fee               0.002969\n",
       "Verification Status_mean_labels       0.002865\n",
       "Employment Duration_ordinal_labels    0.002380\n",
       "Term                                  0.001963\n",
       "Revolving Balance                     0.001599\n",
       "Loan Amount                           0.001562\n",
       "Funded Amount Investor                0.001481\n",
       "Grade_mean_labels                     0.001417\n",
       "Accounts Delinquent                   0.001264\n",
       "Total Accounts                        0.001214\n",
       "Revolving Utilities                   0.001106\n",
       "Loan Title                            0.001043\n",
       "Recoveries                            0.000739\n",
       "Initial List Status                   0.000737\n",
       "Payment Plan_mean_labels              0.000680\n",
       "Batch Enrolled                        0.000642\n",
       "Total Current Balance                 0.000634\n",
       "Open Account                          0.000571\n",
       "Total Received Interest               0.000199\n",
       "Interest Rate                         0.000188\n",
       "Public Record                         0.000000\n",
       "Total Collection Amount               0.000000\n",
       "Funded Amount                         0.000000\n",
       "Application Type_mean_labels          0.000000\n",
       "Total Revolving Credit Limit          0.000000\n",
       "Last week Pay                         0.000000\n",
       "Sub Grade                             0.000000\n",
       "Collection 12 months Medical          0.000000\n",
       "Home Ownership                        0.000000\n",
       "Debit to Income                       0.000000\n",
       "Total Received Late Fee               0.000000\n",
       "Delinquency - two years               0.000000\n",
       "Inquires - six months                 0.000000\n",
       "ID                                    0.000000\n",
       "dtype: float64"
      ]
     },
     "execution_count": 110,
     "metadata": {},
     "output_type": "execute_result"
    }
   ],
   "source": [
    "mutual_data=pd.Series(mutual_info,index=X_train.columns)\n",
    "mutual_data.sort_values(ascending=False)"
   ]
  },
  {
   "cell_type": "markdown",
   "id": "91eccff2",
   "metadata": {},
   "source": [
    "From the above Information, <br>\n",
    "We will be `ignorning` the feature variable with No `Information Gain` <br>\n",
    "<br>\n",
    "'Debit to Income','Interest Rate','Grade_mean_labels','Total Revolving Credit Limit','Accounts Delinquent','Application Type_mean_labels','Total Collection Amount','ID','Last week Pay','Collection 12 months Medical','Total Received Late Fee','Public Record','Inquires - six months','Home Ownership','Batch Enrolled','Funded Amount','Payment Plan_mean_labels'\n",
    "<br>"
   ]
  },
  {
   "cell_type": "code",
   "execution_count": 111,
   "id": "7371dce4",
   "metadata": {},
   "outputs": [],
   "source": [
    "X_train = X_train.drop(columns = ['ID','Accounts Delinquent','Total Collection Amount','Grade_mean_labels','Application Type_mean_labels','Total Revolving Credit Limit','Total Accounts','Total Received Late Fee','Public Record','Open Account','Inquires - six months','Delinquency - two years','Debit to Income','Home Ownership','Sub Grade','Interest Rate','Payment Plan_mean_labels'])"
   ]
  },
  {
   "cell_type": "code",
   "execution_count": 112,
   "id": "6ef1e17c",
   "metadata": {},
   "outputs": [],
   "source": [
    "X_test = X_test.drop(columns = ['ID','Accounts Delinquent','Total Collection Amount','Grade_mean_labels','Application Type_mean_labels','Total Revolving Credit Limit','Total Accounts','Total Received Late Fee','Public Record','Open Account','Inquires - six months','Delinquency - two years','Debit to Income','Home Ownership','Sub Grade','Interest Rate','Payment Plan_mean_labels'])"
   ]
  },
  {
   "cell_type": "markdown",
   "id": "fcb1c170",
   "metadata": {},
   "source": [
    "#### Final Dimensions - After Evaluation the Criteria For `Information Gain`"
   ]
  },
  {
   "cell_type": "code",
   "execution_count": 113,
   "id": "cf4c4e91",
   "metadata": {},
   "outputs": [
    {
     "data": {
      "text/plain": [
       "(60716, 17)"
      ]
     },
     "execution_count": 113,
     "metadata": {},
     "output_type": "execute_result"
    }
   ],
   "source": [
    "X_train.shape"
   ]
  },
  {
   "cell_type": "code",
   "execution_count": 114,
   "id": "93c65ed2",
   "metadata": {},
   "outputs": [
    {
     "data": {
      "text/plain": [
       "(28913, 17)"
      ]
     },
     "execution_count": 114,
     "metadata": {},
     "output_type": "execute_result"
    }
   ],
   "source": [
    "X_test.shape"
   ]
  },
  {
   "cell_type": "markdown",
   "id": "15e1621e",
   "metadata": {},
   "source": [
    "### Checking If the Dataset is balanced or not"
   ]
  },
  {
   "cell_type": "code",
   "execution_count": 115,
   "id": "cf4a44fb",
   "metadata": {},
   "outputs": [
    {
     "data": {
      "text/plain": [
       "0    55172\n",
       "1     5544\n",
       "Name: Loan Status, dtype: int64"
      ]
     },
     "execution_count": 115,
     "metadata": {},
     "output_type": "execute_result"
    }
   ],
   "source": [
    "y_train.value_counts()"
   ]
  },
  {
   "cell_type": "code",
   "execution_count": 116,
   "id": "dda4556d",
   "metadata": {},
   "outputs": [
    {
     "data": {
      "text/plain": [
       "Text(0, 0.5, 'Frequency')"
      ]
     },
     "execution_count": 116,
     "metadata": {},
     "output_type": "execute_result"
    },
    {
     "data": {
      "image/png": "[encoded data removed]",
      "text/plain": [
       "<Figure size 432x288 with 1 Axes>"
      ]
     },
     "metadata": {
      "needs_background": "light"
     },
     "output_type": "display_data"
    }
   ],
   "source": [
    "count_classes = pd.value_counts(loan_train['Loan Status'], sort = True)\n",
    "\n",
    "count_classes.plot(kind = 'bar', rot=0)\n",
    "\n",
    "plt.title(\"Transaction Class Distribution\")\n",
    "\n",
    "#plt.xticks(range(2), LABELS)\n",
    "\n",
    "plt.xlabel(\"y_train\")\n",
    "\n",
    "plt.ylabel(\"Frequency\")"
   ]
  },
  {
   "cell_type": "code",
   "execution_count": 117,
   "id": "f7cd4575",
   "metadata": {},
   "outputs": [],
   "source": [
    "from sklearn.tree import DecisionTreeClassifier\n",
    "from sklearn.metrics import precision_score\n",
    "from sklearn.metrics import recall_score\n",
    "from sklearn.metrics import f1_score\n",
    "from sklearn.metrics import accuracy_score\n",
    "from sklearn.metrics import roc_curve, auc, roc_auc_score\n",
    "import matplotlib.pyplot as plt\n",
    "from sklearn.decomposition import PCA\n",
    "from sklearn.metrics import classification_report\n",
    "from scikitplot.metrics import plot_roc\n",
    "from scikitplot.metrics import plot_precision_recall\n",
    "from scikitplot.metrics import plot_cumulative_gain\n",
    "from scikitplot.metrics import plot_lift_curve\n",
    "from numpy import argmax\n",
    "import numpy as np\n",
    "def build_and_test(X_tr, X_te, y_tr, y_te, class_weight=None, threshold=False):\n",
    "    \n",
    "    # Build and Plot PCA\n",
    "    pca = PCA(n_components=2)\n",
    "    pca.fit(np.array(X_tr))\n",
    "    X_pca = pca.transform(np.array(X_tr))\n",
    "    plt.scatter(X_pca[:, 0], X_pca[:, 1], c=y_tr, cmap=plt.cm.prism, edgecolor='k', alpha=0.7)\n",
    "    plt.show()\n",
    "    \n",
    "    # Build and fit the model\n",
    "    if class_weight:\n",
    "        model = DecisionTreeClassifier(class_weight=class_weight)\n",
    "    else:\n",
    "        model = DecisionTreeClassifier()\n",
    "    model.fit(X_tr, y_tr)\n",
    "    \n",
    "    # Test the model\n",
    "    y_pred = model.predict(X_te)\n",
    "    print('Precision score %s' % precision_score(y_te, y_pred))\n",
    "    print('Recall score %s' % recall_score(y_te, y_pred))\n",
    "    print('F1-score score %s' % f1_score(y_te, y_pred))\n",
    "    print('Accuracy score %s' % accuracy_score(y_te, y_pred))\n",
    "    \n",
    "    y_score = model.predict_proba(X_te)\n",
    "    fpr0, tpr0, thresholds = roc_curve(y_te, y_score[:, 1])\n",
    "    roc_auc0 = auc(fpr0, tpr0)\n",
    "    \n",
    "    # Calculate the best threshold\n",
    "    best_threshold = None\n",
    "    if threshold:\n",
    "        J = tpr0 - fpr0\n",
    "        ix = argmax(J) # take the value which maximizes the J variable\n",
    "        best_threshold = thresholds[ix]\n",
    "        # adjust score according to threshold.\n",
    "        y_score = np.array([[1, y[1]] if y[0] >= best_threshold else [0, y[1]] for y in y_score])\n",
    "        \n",
    "    \n",
    "\n",
    "    \n",
    "    # Print a classification report\n",
    "    print(classification_report(y_te,y_pred))\n",
    "    return roc_auc0,fpr0,tpr0, best_threshold"
   ]
  },
  {
   "cell_type": "code",
   "execution_count": 118,
   "id": "72e4b650",
   "metadata": {},
   "outputs": [
    {
     "data": {
      "image/png": "[encoded data removed]",
      "text/plain": [
       "<Figure size 432x288 with 1 Axes>"
      ]
     },
     "metadata": {
      "needs_background": "light"
     },
     "output_type": "display_data"
    },
    {
     "name": "stdout",
     "output_type": "stream",
     "text": [
      "Precision score 0.0\n",
      "Recall score 0.0\n",
      "F1-score score 0.0\n",
      "Accuracy score 0.8661501746619168\n",
      "              precision    recall  f1-score   support\n",
      "\n",
      "           0       1.00      0.87      0.93     28913\n",
      "           1       0.00      0.00      0.00         0\n",
      "\n",
      "    accuracy                           0.87     28913\n",
      "   macro avg       0.50      0.43      0.46     28913\n",
      "weighted avg       1.00      0.87      0.93     28913\n",
      "\n"
     ]
    }
   ],
   "source": [
    "roc_auc_imb,fpr_imb,tpr_imb, _ = build_and_test(X_train, X_test, y_train, y_test)"
   ]
  },
  {
   "cell_type": "code",
   "execution_count": 119,
   "id": "4b926f82",
   "metadata": {},
   "outputs": [],
   "source": [
    "from collections import Counter"
   ]
  },
  {
   "cell_type": "markdown",
   "id": "9e757d18",
   "metadata": {},
   "source": [
    "#### SMOTETomek"
   ]
  },
  {
   "cell_type": "markdown",
   "id": "a03c876d",
   "metadata": {},
   "source": [
    "class imblearn.combine.SMOTETomek(*, sampling_strategy='auto', random_state=None, smote=None, tomek=None, n_jobs=None)[source]\n",
    "Over-sampling using SMOTE and cleaning using Tomek links.\n",
    "\n",
    "Combine over- and under-sampling using SMOTE and Tomek links.\n",
    "\n",
    "Read more in the User Guide."
   ]
  },
  {
   "cell_type": "code",
   "execution_count": 150,
   "id": "6f015e8d",
   "metadata": {},
   "outputs": [],
   "source": [
    "from imblearn.combine import SMOTETomek"
   ]
  },
  {
   "cell_type": "code",
   "execution_count": 151,
   "id": "87377b36",
   "metadata": {},
   "outputs": [
    {
     "data": {
      "text/plain": [
       "Counter({0: 55172, 1: 5544})"
      ]
     },
     "execution_count": 151,
     "metadata": {},
     "output_type": "execute_result"
    }
   ],
   "source": [
    "from collections import Counter\n",
    "Counter(y_train)"
   ]
  },
  {
   "cell_type": "code",
   "execution_count": 152,
   "id": "36d50939",
   "metadata": {},
   "outputs": [
    {
     "name": "stdout",
     "output_type": "stream",
     "text": [
      "The number of classes before fit Counter({0: 55172, 1: 5544})\n",
      "The number of classes after fit Counter({0: 55125, 1: 41332})\n"
     ]
    }
   ],
   "source": [
    "os=SMOTETomek(0.75)\n",
    "X_train_ns,y_train_ns=os.fit_resample(X_train,y_train)\n",
    "print(\"The number of classes before fit {}\".format(Counter(y_train)))\n",
    "print(\"The number of classes after fit {}\".format(Counter(y_train_ns)))"
   ]
  },
  {
   "cell_type": "code",
   "execution_count": 153,
   "id": "cdc0e786",
   "metadata": {},
   "outputs": [
    {
     "data": {
      "image/png": "[encoded data removed]",
      "text/plain": [
       "<Figure size 432x288 with 1 Axes>"
      ]
     },
     "metadata": {
      "needs_background": "light"
     },
     "output_type": "display_data"
    },
    {
     "name": "stdout",
     "output_type": "stream",
     "text": [
      "Precision score 0.0\n",
      "Recall score 0.0\n",
      "F1-score score 0.0\n",
      "Accuracy score 0.802580154255871\n",
      "              precision    recall  f1-score   support\n",
      "\n",
      "           0       1.00      0.80      0.89     28913\n",
      "           1       0.00      0.00      0.00         0\n",
      "\n",
      "    accuracy                           0.80     28913\n",
      "   macro avg       0.50      0.40      0.45     28913\n",
      "weighted avg       1.00      0.80      0.89     28913\n",
      "\n"
     ]
    }
   ],
   "source": [
    "roc_auc_ros,fpr_ros,tpr_ros, _ = build_and_test(X_train_ns, X_test, y_train_ns, y_test)"
   ]
  },
  {
   "cell_type": "code",
   "execution_count": 154,
   "id": "1e314d87",
   "metadata": {},
   "outputs": [
    {
     "data": {
      "text/html": [
       "<style>#sk-container-id-3 {color: black;background-color: white;}#sk-container-id-3 pre{padding: 0;}#sk-container-id-3 div.sk-toggleable {background-color: white;}#sk-container-id-3 label.sk-toggleable__label {cursor: pointer;display: block;width: 100%;margin-bottom: 0;padding: 0.3em;box-sizing: border-box;text-align: center;}#sk-container-id-3 label.sk-toggleable__label-arrow:before {content: \"▸\";float: left;margin-right: 0.25em;color: #696969;}#sk-container-id-3 label.sk-toggleable__label-arrow:hover:before {color: black;}#sk-container-id-3 div.sk-estimator:hover label.sk-toggleable__label-arrow:before {color: black;}#sk-container-id-3 div.sk-toggleable__content {max-height: 0;max-width: 0;overflow: hidden;text-align: left;background-color: #f0f8ff;}#sk-container-id-3 div.sk-toggleable__content pre {margin: 0.2em;color: black;border-radius: 0.25em;background-color: #f0f8ff;}#sk-container-id-3 input.sk-toggleable__control:checked~div.sk-toggleable__content {max-height: 200px;max-width: 100%;overflow: auto;}#sk-container-id-3 input.sk-toggleable__control:checked~label.sk-toggleable__label-arrow:before {content: \"▾\";}#sk-container-id-3 div.sk-estimator input.sk-toggleable__control:checked~label.sk-toggleable__label {background-color: #d4ebff;}#sk-container-id-3 div.sk-label input.sk-toggleable__control:checked~label.sk-toggleable__label {background-color: #d4ebff;}#sk-container-id-3 input.sk-hidden--visually {border: 0;clip: rect(1px 1px 1px 1px);clip: rect(1px, 1px, 1px, 1px);height: 1px;margin: -1px;overflow: hidden;padding: 0;position: absolute;width: 1px;}#sk-container-id-3 div.sk-estimator {font-family: monospace;background-color: #f0f8ff;border: 1px dotted black;border-radius: 0.25em;box-sizing: border-box;margin-bottom: 0.5em;}#sk-container-id-3 div.sk-estimator:hover {background-color: #d4ebff;}#sk-container-id-3 div.sk-parallel-item::after {content: \"\";width: 100%;border-bottom: 1px solid gray;flex-grow: 1;}#sk-container-id-3 div.sk-label:hover label.sk-toggleable__label {background-color: #d4ebff;}#sk-container-id-3 div.sk-serial::before {content: \"\";position: absolute;border-left: 1px solid gray;box-sizing: border-box;top: 0;bottom: 0;left: 50%;z-index: 0;}#sk-container-id-3 div.sk-serial {display: flex;flex-direction: column;align-items: center;background-color: white;padding-right: 0.2em;padding-left: 0.2em;position: relative;}#sk-container-id-3 div.sk-item {position: relative;z-index: 1;}#sk-container-id-3 div.sk-parallel {display: flex;align-items: stretch;justify-content: center;background-color: white;position: relative;}#sk-container-id-3 div.sk-item::before, #sk-container-id-3 div.sk-parallel-item::before {content: \"\";position: absolute;border-left: 1px solid gray;box-sizing: border-box;top: 0;bottom: 0;left: 50%;z-index: -1;}#sk-container-id-3 div.sk-parallel-item {display: flex;flex-direction: column;z-index: 1;position: relative;background-color: white;}#sk-container-id-3 div.sk-parallel-item:first-child::after {align-self: flex-end;width: 50%;}#sk-container-id-3 div.sk-parallel-item:last-child::after {align-self: flex-start;width: 50%;}#sk-container-id-3 div.sk-parallel-item:only-child::after {width: 0;}#sk-container-id-3 div.sk-dashed-wrapped {border: 1px dashed gray;margin: 0 0.4em 0.5em 0.4em;box-sizing: border-box;padding-bottom: 0.4em;background-color: white;}#sk-container-id-3 div.sk-label label {font-family: monospace;font-weight: bold;display: inline-block;line-height: 1.2em;}#sk-container-id-3 div.sk-label-container {text-align: center;}#sk-container-id-3 div.sk-container {/* jupyter's `normalize.less` sets `[hidden] { display: none; }` but bootstrap.min.css set `[hidden] { display: none !important; }` so we also need the `!important` here to be able to override the default hidden behavior on the sphinx rendered scikit-learn.org. See: https://github.com/scikit-learn/scikit-learn/issues/21755 */display: inline-block !important;position: relative;}#sk-container-id-3 div.sk-text-repr-fallback {display: none;}</style><div id=\"sk-container-id-3\" class=\"sk-top-container\"><div class=\"sk-text-repr-fallback\"><pre>RandomForestClassifier()</pre><b>In a Jupyter environment, please rerun this cell to show the HTML representation or trust the notebook. <br />On GitHub, the HTML representation is unable to render, please try loading this page with nbviewer.org.</b></div><div class=\"sk-container\" hidden><div class=\"sk-item\"><div class=\"sk-estimator sk-toggleable\"><input class=\"sk-toggleable__control sk-hidden--visually\" id=\"sk-estimator-id-5\" type=\"checkbox\" checked><label for=\"sk-estimator-id-5\" class=\"sk-toggleable__label sk-toggleable__label-arrow\">RandomForestClassifier</label><div class=\"sk-toggleable__content\"><pre>RandomForestClassifier()</pre></div></div></div></div></div>"
      ],
      "text/plain": [
       "RandomForestClassifier()"
      ]
     },
     "execution_count": 154,
     "metadata": {},
     "output_type": "execute_result"
    }
   ],
   "source": [
    "from sklearn.ensemble import RandomForestClassifier\n",
    "classifier=RandomForestClassifier()\n",
    "classifier.fit(X_train_ns,y_train_ns)"
   ]
  },
  {
   "cell_type": "code",
   "execution_count": 155,
   "id": "3f772b1f",
   "metadata": {},
   "outputs": [
    {
     "name": "stdout",
     "output_type": "stream",
     "text": [
      "[[27835  1078]\n",
      " [    0     0]]\n",
      "0.9627157334071179\n",
      "              precision    recall  f1-score   support\n",
      "\n",
      "           0       1.00      0.96      0.98     28913\n",
      "           1       0.00      0.00      0.00         0\n",
      "\n",
      "    accuracy                           0.96     28913\n",
      "   macro avg       0.50      0.48      0.49     28913\n",
      "weighted avg       1.00      0.96      0.98     28913\n",
      "\n"
     ]
    }
   ],
   "source": [
    "from sklearn.metrics import confusion_matrix,classification_report,accuracy_score\n",
    "y_pred=classifier.predict(X_test)\n",
    "print(confusion_matrix(y_test,y_pred))\n",
    "print(accuracy_score(y_test,y_pred))\n",
    "print(classification_report(y_test,y_pred))"
   ]
  },
  {
   "cell_type": "markdown",
   "id": "bd2619ba",
   "metadata": {},
   "source": [
    "## PIPELINE CREATION TO CHECK WHICH MODEL WORKS BETTER"
   ]
  },
  {
   "cell_type": "code",
   "execution_count": 156,
   "id": "c9669041",
   "metadata": {},
   "outputs": [],
   "source": [
    "## Pipelines Creation\n",
    "## 1. Data Preprocessing by using Standard Scaler\n",
    "## 2. Reduce Dimension using PCA\n",
    "## 3. Apply  Classifier"
   ]
  },
  {
   "cell_type": "code",
   "execution_count": 157,
   "id": "0c82c584",
   "metadata": {},
   "outputs": [],
   "source": [
    "from sklearn.datasets import load_iris\n",
    "from sklearn.model_selection import train_test_split\n",
    "from sklearn.preprocessing import StandardScaler\n",
    "from sklearn.decomposition import PCA\n",
    "from sklearn.pipeline import Pipeline\n",
    "from sklearn.linear_model import LogisticRegression\n",
    "from sklearn.tree import DecisionTreeClassifier\n",
    "from sklearn.ensemble import RandomForestClassifier\n",
    "from sklearn.ensemble import GradientBoostingClassifier\n",
    "from xgboost import XGBClassifier"
   ]
  },
  {
   "cell_type": "code",
   "execution_count": 158,
   "id": "a418cdf6",
   "metadata": {},
   "outputs": [],
   "source": [
    "pipeline_lr=Pipeline([('scalar1',RobustScaler()),\n",
    "                     ('pca1',PCA(n_components=2)),\n",
    "                     ('lr_classifier',LogisticRegression(random_state=0))])"
   ]
  },
  {
   "cell_type": "code",
   "execution_count": 159,
   "id": "1373e074",
   "metadata": {},
   "outputs": [],
   "source": [
    "pipeline_dt=Pipeline([('scalar2',RobustScaler()),\n",
    "                     ('pca2',PCA(n_components=2)),\n",
    "                     ('dt_classifier',DecisionTreeClassifier())])"
   ]
  },
  {
   "cell_type": "code",
   "execution_count": 160,
   "id": "4e213793",
   "metadata": {},
   "outputs": [],
   "source": [
    "pipeline_randomforest=Pipeline([('scalar3',RobustScaler()),\n",
    "                     ('pca3',PCA(n_components=2)),\n",
    "                     ('rf_classifier',RandomForestClassifier())])"
   ]
  },
  {
   "cell_type": "code",
   "execution_count": 161,
   "id": "090b26c3",
   "metadata": {},
   "outputs": [],
   "source": [
    "pipeline_gradient_boost=Pipeline([('scalar4',RobustScaler()),\n",
    "                     ('pca4',PCA(n_components=2)),\n",
    "                     ('gb_classifier',GradientBoostingClassifier())])"
   ]
  },
  {
   "cell_type": "code",
   "execution_count": 162,
   "id": "478d24a1",
   "metadata": {},
   "outputs": [],
   "source": [
    "pipeline_XGboost=Pipeline([('scalar5',RobustScaler()),\n",
    "                          ('pca5',PCA(n_components=2)),\n",
    "                          ('xgb_classifier',XGBClassifier())])"
   ]
  },
  {
   "cell_type": "code",
   "execution_count": 163,
   "id": "7e9e6648",
   "metadata": {},
   "outputs": [],
   "source": [
    "## LEts make the list of pipelines\n",
    "pipelines = [pipeline_lr, pipeline_dt, pipeline_randomforest,pipeline_gradient_boost,pipeline_XGboost]"
   ]
  },
  {
   "cell_type": "code",
   "execution_count": 164,
   "id": "cb6d54a5",
   "metadata": {},
   "outputs": [],
   "source": [
    "best_accuracy=0.0\n",
    "best_classifier=0\n",
    "best_pipeline=\"\""
   ]
  },
  {
   "cell_type": "code",
   "execution_count": 165,
   "id": "ba0d389c",
   "metadata": {},
   "outputs": [],
   "source": [
    "# Dictionary of pipelines and classifier types for ease of reference\n",
    "pipe_dict = {0: 'Logistic Regression', 1: 'Decision Tree', 2: 'RandomForest', 3: 'Gradient Boost', 4: 'Extreme Gradient Boost'}\n",
    "\n",
    "# Fit the pipelines\n",
    "for pipe in pipelines:\n",
    "\tpipe.fit(X_train_ns, y_train_ns)"
   ]
  },
  {
   "cell_type": "code",
   "execution_count": 166,
   "id": "665c8671",
   "metadata": {},
   "outputs": [
    {
     "name": "stdout",
     "output_type": "stream",
     "text": [
      "Logistic Regression Test Accuracy: 1.0\n",
      "Decision Tree Test Accuracy: 0.4966278144779165\n",
      "RandomForest Test Accuracy: 0.5704700307820012\n",
      "Gradient Boost Test Accuracy: 0.9967488672915298\n",
      "Extreme Gradient Boost Test Accuracy: 0.934769826721544\n"
     ]
    }
   ],
   "source": [
    "for i,model in enumerate(pipelines):\n",
    "    print(\"{} Test Accuracy: {}\".format(pipe_dict[i],model.score(X_test,y_test)))"
   ]
  },
  {
   "cell_type": "code",
   "execution_count": 167,
   "id": "ad8c1dd9",
   "metadata": {},
   "outputs": [
    {
     "name": "stdout",
     "output_type": "stream",
     "text": [
      "Classifier with best accuracy:Logistic Regression\n"
     ]
    }
   ],
   "source": [
    "for i,model in enumerate(pipelines):\n",
    "    if model.score(X_test,y_test)>best_accuracy:\n",
    "        best_accuracy=model.score(X_test,y_test)\n",
    "        best_pipeline=model\n",
    "        best_classifier=i\n",
    "print('Classifier with best accuracy:{}'.format(pipe_dict[best_classifier]))"
   ]
  },
  {
   "cell_type": "code",
   "execution_count": 168,
   "id": "04a831d6",
   "metadata": {},
   "outputs": [
    {
     "data": {
      "text/plain": [
       "0    55125\n",
       "1    41332\n",
       "Name: Loan Status, dtype: int64"
      ]
     },
     "execution_count": 168,
     "metadata": {},
     "output_type": "execute_result"
    }
   ],
   "source": [
    "y_train_ns.value_counts()"
   ]
  },
  {
   "cell_type": "code",
   "execution_count": 169,
   "id": "665a38b7",
   "metadata": {},
   "outputs": [],
   "source": [
    "from sklearn.ensemble import RandomForestClassifier\n",
    "rf_classifier=RandomForestClassifier(n_estimators=10).fit(X_train_ns,y_train_ns)\n",
    "prediction=rf_classifier.predict(X_test)"
   ]
  },
  {
   "cell_type": "code",
   "execution_count": 170,
   "id": "2254bb75",
   "metadata": {},
   "outputs": [
    {
     "data": {
      "text/plain": [
       "array([0, 0, 0, ..., 0, 0, 0], dtype=int64)"
      ]
     },
     "execution_count": 170,
     "metadata": {},
     "output_type": "execute_result"
    }
   ],
   "source": [
    "prediction"
   ]
  },
  {
   "cell_type": "code",
   "execution_count": 171,
   "id": "537d8dbb",
   "metadata": {},
   "outputs": [
    {
     "name": "stdout",
     "output_type": "stream",
     "text": [
      "[[28016   897]\n",
      " [    0     0]]\n",
      "0.9689758931968319\n",
      "              precision    recall  f1-score   support\n",
      "\n",
      "           0       1.00      0.97      0.98     28913\n",
      "           1       0.00      0.00      0.00         0\n",
      "\n",
      "    accuracy                           0.97     28913\n",
      "   macro avg       0.50      0.48      0.49     28913\n",
      "weighted avg       1.00      0.97      0.98     28913\n",
      "\n"
     ]
    }
   ],
   "source": [
    "from sklearn.metrics import confusion_matrix,classification_report,accuracy_score\n",
    "print(confusion_matrix(y_test,prediction))\n",
    "print(accuracy_score(y_test,prediction))\n",
    "print(classification_report(y_test,prediction))"
   ]
  },
  {
   "cell_type": "markdown",
   "id": "f67cb694",
   "metadata": {},
   "source": [
    "### Manual Hyperparameter Tuning"
   ]
  },
  {
   "cell_type": "code",
   "execution_count": 172,
   "id": "673a6c9a",
   "metadata": {},
   "outputs": [
    {
     "name": "stdout",
     "output_type": "stream",
     "text": [
      "[[28212   701]\n",
      " [    0     0]]\n",
      "0.9757548507591741\n",
      "              precision    recall  f1-score   support\n",
      "\n",
      "           0       1.00      0.98      0.99     28913\n",
      "           1       0.00      0.00      0.00         0\n",
      "\n",
      "    accuracy                           0.98     28913\n",
      "   macro avg       0.50      0.49      0.49     28913\n",
      "weighted avg       1.00      0.98      0.99     28913\n",
      "\n"
     ]
    }
   ],
   "source": [
    "### Manual Hyperparameter Tuning\n",
    "model=RandomForestClassifier(n_estimators=300,criterion='entropy',\n",
    "                             max_features='sqrt',min_samples_leaf=10,random_state=100).fit(X_train_ns,y_train_ns)\n",
    "predictions=model.predict(X_test)\n",
    "print(confusion_matrix(y_test,predictions))\n",
    "print(accuracy_score(y_test,predictions))\n",
    "print(classification_report(y_test,predictions))"
   ]
  },
  {
   "cell_type": "markdown",
   "id": "64e25911",
   "metadata": {},
   "source": [
    "#### Validation Curve"
   ]
  },
  {
   "cell_type": "markdown",
   "id": "9774d391",
   "metadata": {},
   "source": [
    "##### n_estimator "
   ]
  },
  {
   "cell_type": "code",
   "execution_count": 173,
   "id": "bfd81314",
   "metadata": {},
   "outputs": [
    {
     "ename": "ModuleNotFoundError",
     "evalue": "No module named 'yellowbrick'",
     "output_type": "error",
     "traceback": [
      "\u001b[1;31m---------------------------------------------------------------------------\u001b[0m",
      "\u001b[1;31mModuleNotFoundError\u001b[0m                       Traceback (most recent call last)",
      "\u001b[1;32m~\\AppData\\Local\\Temp/ipykernel_20348/1563562017.py\u001b[0m in \u001b[0;36m<module>\u001b[1;34m\u001b[0m\n\u001b[1;32m----> 1\u001b[1;33m \u001b[1;32mfrom\u001b[0m \u001b[0myellowbrick\u001b[0m\u001b[1;33m.\u001b[0m\u001b[0mmodel_selection\u001b[0m \u001b[1;32mimport\u001b[0m \u001b[0mvalidation_curve\u001b[0m\u001b[1;33m\u001b[0m\u001b[1;33m\u001b[0m\u001b[0m\n\u001b[0m\u001b[0;32m      2\u001b[0m \u001b[0mprint\u001b[0m\u001b[1;33m(\u001b[0m\u001b[0mvalidation_curve\u001b[0m\u001b[1;33m(\u001b[0m\u001b[0mmodel\u001b[0m\u001b[1;33m,\u001b[0m \u001b[0mX_train_ns\u001b[0m\u001b[1;33m,\u001b[0m \u001b[0my_train_ns\u001b[0m\u001b[1;33m,\u001b[0m \u001b[0mparam_name\u001b[0m\u001b[1;33m=\u001b[0m\u001b[1;34m\"n_estimators\"\u001b[0m\u001b[1;33m,\u001b[0m \u001b[0mn_jobs\u001b[0m\u001b[1;33m=\u001b[0m\u001b[1;33m-\u001b[0m\u001b[1;36m1\u001b[0m\u001b[1;33m,\u001b[0m\u001b[0mparam_range\u001b[0m\u001b[1;33m=\u001b[0m\u001b[0mnp\u001b[0m\u001b[1;33m.\u001b[0m\u001b[0marange\u001b[0m\u001b[1;33m(\u001b[0m\u001b[1;36m1\u001b[0m\u001b[1;33m,\u001b[0m \u001b[1;36m11\u001b[0m\u001b[1;33m)\u001b[0m\u001b[1;33m,\u001b[0m \u001b[0mcv\u001b[0m\u001b[1;33m=\u001b[0m\u001b[1;36m10\u001b[0m\u001b[1;33m,\u001b[0m \u001b[0mscoring\u001b[0m\u001b[1;33m=\u001b[0m\u001b[1;34m\"accuracy\"\u001b[0m\u001b[1;33m)\u001b[0m\u001b[1;33m)\u001b[0m\u001b[1;33m\u001b[0m\u001b[1;33m\u001b[0m\u001b[0m\n",
      "\u001b[1;31mModuleNotFoundError\u001b[0m: No module named 'yellowbrick'"
     ]
    }
   ],
   "source": [
    "from yellowbrick.model_selection import validation_curve \n",
    "print(validation_curve(model, X_train_ns, y_train_ns, param_name=\"n_estimators\", n_jobs=-1,param_range=np.arange(1, 11), cv=10, scoring=\"accuracy\"))"
   ]
  },
  {
   "cell_type": "code",
   "execution_count": 174,
   "id": "ffeff6df",
   "metadata": {},
   "outputs": [],
   "source": [
    "### Randomized Search Grid View "
   ]
  },
  {
   "cell_type": "code",
   "execution_count": 175,
   "id": "5655b09b",
   "metadata": {},
   "outputs": [
    {
     "name": "stdout",
     "output_type": "stream",
     "text": [
      "{'n_estimators': [300, 400, 500, 600, 700], 'max_features': ['auto', 'sqrt', 'log2'], 'max_depth': [5, 8, 15, 25, 30], 'min_samples_split': [2, 5, 10, 14], 'min_samples_leaf': [1, 2, 4, 6, 8], 'criterion': ['entropy', 'gini']}\n"
     ]
    }
   ],
   "source": [
    "import numpy as np\n",
    "from sklearn.model_selection import RandomizedSearchCV\n",
    "# Number of trees in random forest\n",
    "n_estimators = [300, 400, 500, 600, 700]\n",
    "# Number of features to consider at every split\n",
    "max_features = ['auto', 'sqrt','log2']\n",
    "# Maximum number of levels in tree\n",
    "max_depth = [5, 8, 15, 25, 30]\n",
    "# Minimum number of samples required to split a node\n",
    "min_samples_split = [2, 5, 10, 14]\n",
    "# Minimum number of samples required at each leaf node\n",
    "min_samples_leaf = [1, 2, 4, 6, 8]\n",
    "# Create the random grid\n",
    "random_grid = {'n_estimators': n_estimators,\n",
    "               'max_features': max_features,\n",
    "               'max_depth': max_depth,\n",
    "               'min_samples_split': min_samples_split,\n",
    "               'min_samples_leaf': min_samples_leaf,\n",
    "              'criterion':['entropy','gini']}\n",
    "print(random_grid)"
   ]
  },
  {
   "cell_type": "code",
   "execution_count": 176,
   "id": "01bcb1ad",
   "metadata": {},
   "outputs": [
    {
     "name": "stdout",
     "output_type": "stream",
     "text": [
      "Fitting 2 folds for each of 1 candidates, totalling 2 fits\n"
     ]
    },
    {
     "data": {
      "text/html": [
       "<style>#sk-container-id-4 {color: black;background-color: white;}#sk-container-id-4 pre{padding: 0;}#sk-container-id-4 div.sk-toggleable {background-color: white;}#sk-container-id-4 label.sk-toggleable__label {cursor: pointer;display: block;width: 100%;margin-bottom: 0;padding: 0.3em;box-sizing: border-box;text-align: center;}#sk-container-id-4 label.sk-toggleable__label-arrow:before {content: \"▸\";float: left;margin-right: 0.25em;color: #696969;}#sk-container-id-4 label.sk-toggleable__label-arrow:hover:before {color: black;}#sk-container-id-4 div.sk-estimator:hover label.sk-toggleable__label-arrow:before {color: black;}#sk-container-id-4 div.sk-toggleable__content {max-height: 0;max-width: 0;overflow: hidden;text-align: left;background-color: #f0f8ff;}#sk-container-id-4 div.sk-toggleable__content pre {margin: 0.2em;color: black;border-radius: 0.25em;background-color: #f0f8ff;}#sk-container-id-4 input.sk-toggleable__control:checked~div.sk-toggleable__content {max-height: 200px;max-width: 100%;overflow: auto;}#sk-container-id-4 input.sk-toggleable__control:checked~label.sk-toggleable__label-arrow:before {content: \"▾\";}#sk-container-id-4 div.sk-estimator input.sk-toggleable__control:checked~label.sk-toggleable__label {background-color: #d4ebff;}#sk-container-id-4 div.sk-label input.sk-toggleable__control:checked~label.sk-toggleable__label {background-color: #d4ebff;}#sk-container-id-4 input.sk-hidden--visually {border: 0;clip: rect(1px 1px 1px 1px);clip: rect(1px, 1px, 1px, 1px);height: 1px;margin: -1px;overflow: hidden;padding: 0;position: absolute;width: 1px;}#sk-container-id-4 div.sk-estimator {font-family: monospace;background-color: #f0f8ff;border: 1px dotted black;border-radius: 0.25em;box-sizing: border-box;margin-bottom: 0.5em;}#sk-container-id-4 div.sk-estimator:hover {background-color: #d4ebff;}#sk-container-id-4 div.sk-parallel-item::after {content: \"\";width: 100%;border-bottom: 1px solid gray;flex-grow: 1;}#sk-container-id-4 div.sk-label:hover label.sk-toggleable__label {background-color: #d4ebff;}#sk-container-id-4 div.sk-serial::before {content: \"\";position: absolute;border-left: 1px solid gray;box-sizing: border-box;top: 0;bottom: 0;left: 50%;z-index: 0;}#sk-container-id-4 div.sk-serial {display: flex;flex-direction: column;align-items: center;background-color: white;padding-right: 0.2em;padding-left: 0.2em;position: relative;}#sk-container-id-4 div.sk-item {position: relative;z-index: 1;}#sk-container-id-4 div.sk-parallel {display: flex;align-items: stretch;justify-content: center;background-color: white;position: relative;}#sk-container-id-4 div.sk-item::before, #sk-container-id-4 div.sk-parallel-item::before {content: \"\";position: absolute;border-left: 1px solid gray;box-sizing: border-box;top: 0;bottom: 0;left: 50%;z-index: -1;}#sk-container-id-4 div.sk-parallel-item {display: flex;flex-direction: column;z-index: 1;position: relative;background-color: white;}#sk-container-id-4 div.sk-parallel-item:first-child::after {align-self: flex-end;width: 50%;}#sk-container-id-4 div.sk-parallel-item:last-child::after {align-self: flex-start;width: 50%;}#sk-container-id-4 div.sk-parallel-item:only-child::after {width: 0;}#sk-container-id-4 div.sk-dashed-wrapped {border: 1px dashed gray;margin: 0 0.4em 0.5em 0.4em;box-sizing: border-box;padding-bottom: 0.4em;background-color: white;}#sk-container-id-4 div.sk-label label {font-family: monospace;font-weight: bold;display: inline-block;line-height: 1.2em;}#sk-container-id-4 div.sk-label-container {text-align: center;}#sk-container-id-4 div.sk-container {/* jupyter's `normalize.less` sets `[hidden] { display: none; }` but bootstrap.min.css set `[hidden] { display: none !important; }` so we also need the `!important` here to be able to override the default hidden behavior on the sphinx rendered scikit-learn.org. See: https://github.com/scikit-learn/scikit-learn/issues/21755 */display: inline-block !important;position: relative;}#sk-container-id-4 div.sk-text-repr-fallback {display: none;}</style><div id=\"sk-container-id-4\" class=\"sk-top-container\"><div class=\"sk-text-repr-fallback\"><pre>RandomizedSearchCV(cv=2, estimator=RandomForestClassifier(), n_iter=1,\n",
       "                   n_jobs=-1,\n",
       "                   param_distributions={&#x27;criterion&#x27;: [&#x27;entropy&#x27;, &#x27;gini&#x27;],\n",
       "                                        &#x27;max_depth&#x27;: [5, 8, 15, 25, 30],\n",
       "                                        &#x27;max_features&#x27;: [&#x27;auto&#x27;, &#x27;sqrt&#x27;,\n",
       "                                                         &#x27;log2&#x27;],\n",
       "                                        &#x27;min_samples_leaf&#x27;: [1, 2, 4, 6, 8],\n",
       "                                        &#x27;min_samples_split&#x27;: [2, 5, 10, 14],\n",
       "                                        &#x27;n_estimators&#x27;: [300, 400, 500, 600,\n",
       "                                                         700]},\n",
       "                   random_state=100, verbose=2)</pre><b>In a Jupyter environment, please rerun this cell to show the HTML representation or trust the notebook. <br />On GitHub, the HTML representation is unable to render, please try loading this page with nbviewer.org.</b></div><div class=\"sk-container\" hidden><div class=\"sk-item sk-dashed-wrapped\"><div class=\"sk-label-container\"><div class=\"sk-label sk-toggleable\"><input class=\"sk-toggleable__control sk-hidden--visually\" id=\"sk-estimator-id-6\" type=\"checkbox\" ><label for=\"sk-estimator-id-6\" class=\"sk-toggleable__label sk-toggleable__label-arrow\">RandomizedSearchCV</label><div class=\"sk-toggleable__content\"><pre>RandomizedSearchCV(cv=2, estimator=RandomForestClassifier(), n_iter=1,\n",
       "                   n_jobs=-1,\n",
       "                   param_distributions={&#x27;criterion&#x27;: [&#x27;entropy&#x27;, &#x27;gini&#x27;],\n",
       "                                        &#x27;max_depth&#x27;: [5, 8, 15, 25, 30],\n",
       "                                        &#x27;max_features&#x27;: [&#x27;auto&#x27;, &#x27;sqrt&#x27;,\n",
       "                                                         &#x27;log2&#x27;],\n",
       "                                        &#x27;min_samples_leaf&#x27;: [1, 2, 4, 6, 8],\n",
       "                                        &#x27;min_samples_split&#x27;: [2, 5, 10, 14],\n",
       "                                        &#x27;n_estimators&#x27;: [300, 400, 500, 600,\n",
       "                                                         700]},\n",
       "                   random_state=100, verbose=2)</pre></div></div></div><div class=\"sk-parallel\"><div class=\"sk-parallel-item\"><div class=\"sk-item\"><div class=\"sk-label-container\"><div class=\"sk-label sk-toggleable\"><input class=\"sk-toggleable__control sk-hidden--visually\" id=\"sk-estimator-id-7\" type=\"checkbox\" ><label for=\"sk-estimator-id-7\" class=\"sk-toggleable__label sk-toggleable__label-arrow\">estimator: RandomForestClassifier</label><div class=\"sk-toggleable__content\"><pre>RandomForestClassifier()</pre></div></div></div><div class=\"sk-serial\"><div class=\"sk-item\"><div class=\"sk-estimator sk-toggleable\"><input class=\"sk-toggleable__control sk-hidden--visually\" id=\"sk-estimator-id-8\" type=\"checkbox\" ><label for=\"sk-estimator-id-8\" class=\"sk-toggleable__label sk-toggleable__label-arrow\">RandomForestClassifier</label><div class=\"sk-toggleable__content\"><pre>RandomForestClassifier()</pre></div></div></div></div></div></div></div></div></div></div>"
      ],
      "text/plain": [
       "RandomizedSearchCV(cv=2, estimator=RandomForestClassifier(), n_iter=1,\n",
       "                   n_jobs=-1,\n",
       "                   param_distributions={'criterion': ['entropy', 'gini'],\n",
       "                                        'max_depth': [5, 8, 15, 25, 30],\n",
       "                                        'max_features': ['auto', 'sqrt',\n",
       "                                                         'log2'],\n",
       "                                        'min_samples_leaf': [1, 2, 4, 6, 8],\n",
       "                                        'min_samples_split': [2, 5, 10, 14],\n",
       "                                        'n_estimators': [300, 400, 500, 600,\n",
       "                                                         700]},\n",
       "                   random_state=100, verbose=2)"
      ]
     },
     "execution_count": 176,
     "metadata": {},
     "output_type": "execute_result"
    }
   ],
   "source": [
    "rf=RandomForestClassifier()\n",
    "rf_randomcv=RandomizedSearchCV(estimator=rf,param_distributions=random_grid,n_iter=1,cv=2,verbose=2,\n",
    "                               random_state=100,n_jobs=-1)\n",
    "### fit the randomized model\n",
    "rf_randomcv.fit(X_train_ns,y_train_ns)"
   ]
  },
  {
   "cell_type": "code",
   "execution_count": 177,
   "id": "adc5bb37",
   "metadata": {},
   "outputs": [
    {
     "data": {
      "text/plain": [
       "{'n_estimators': 700,\n",
       " 'min_samples_split': 2,\n",
       " 'min_samples_leaf': 4,\n",
       " 'max_features': 'auto',\n",
       " 'max_depth': 5,\n",
       " 'criterion': 'gini'}"
      ]
     },
     "execution_count": 177,
     "metadata": {},
     "output_type": "execute_result"
    }
   ],
   "source": [
    "rf_randomcv.best_params_"
   ]
  },
  {
   "cell_type": "code",
   "execution_count": 178,
   "id": "e0c232ae",
   "metadata": {},
   "outputs": [
    {
     "data": {
      "text/html": [
       "<style>#sk-container-id-5 {color: black;background-color: white;}#sk-container-id-5 pre{padding: 0;}#sk-container-id-5 div.sk-toggleable {background-color: white;}#sk-container-id-5 label.sk-toggleable__label {cursor: pointer;display: block;width: 100%;margin-bottom: 0;padding: 0.3em;box-sizing: border-box;text-align: center;}#sk-container-id-5 label.sk-toggleable__label-arrow:before {content: \"▸\";float: left;margin-right: 0.25em;color: #696969;}#sk-container-id-5 label.sk-toggleable__label-arrow:hover:before {color: black;}#sk-container-id-5 div.sk-estimator:hover label.sk-toggleable__label-arrow:before {color: black;}#sk-container-id-5 div.sk-toggleable__content {max-height: 0;max-width: 0;overflow: hidden;text-align: left;background-color: #f0f8ff;}#sk-container-id-5 div.sk-toggleable__content pre {margin: 0.2em;color: black;border-radius: 0.25em;background-color: #f0f8ff;}#sk-container-id-5 input.sk-toggleable__control:checked~div.sk-toggleable__content {max-height: 200px;max-width: 100%;overflow: auto;}#sk-container-id-5 input.sk-toggleable__control:checked~label.sk-toggleable__label-arrow:before {content: \"▾\";}#sk-container-id-5 div.sk-estimator input.sk-toggleable__control:checked~label.sk-toggleable__label {background-color: #d4ebff;}#sk-container-id-5 div.sk-label input.sk-toggleable__control:checked~label.sk-toggleable__label {background-color: #d4ebff;}#sk-container-id-5 input.sk-hidden--visually {border: 0;clip: rect(1px 1px 1px 1px);clip: rect(1px, 1px, 1px, 1px);height: 1px;margin: -1px;overflow: hidden;padding: 0;position: absolute;width: 1px;}#sk-container-id-5 div.sk-estimator {font-family: monospace;background-color: #f0f8ff;border: 1px dotted black;border-radius: 0.25em;box-sizing: border-box;margin-bottom: 0.5em;}#sk-container-id-5 div.sk-estimator:hover {background-color: #d4ebff;}#sk-container-id-5 div.sk-parallel-item::after {content: \"\";width: 100%;border-bottom: 1px solid gray;flex-grow: 1;}#sk-container-id-5 div.sk-label:hover label.sk-toggleable__label {background-color: #d4ebff;}#sk-container-id-5 div.sk-serial::before {content: \"\";position: absolute;border-left: 1px solid gray;box-sizing: border-box;top: 0;bottom: 0;left: 50%;z-index: 0;}#sk-container-id-5 div.sk-serial {display: flex;flex-direction: column;align-items: center;background-color: white;padding-right: 0.2em;padding-left: 0.2em;position: relative;}#sk-container-id-5 div.sk-item {position: relative;z-index: 1;}#sk-container-id-5 div.sk-parallel {display: flex;align-items: stretch;justify-content: center;background-color: white;position: relative;}#sk-container-id-5 div.sk-item::before, #sk-container-id-5 div.sk-parallel-item::before {content: \"\";position: absolute;border-left: 1px solid gray;box-sizing: border-box;top: 0;bottom: 0;left: 50%;z-index: -1;}#sk-container-id-5 div.sk-parallel-item {display: flex;flex-direction: column;z-index: 1;position: relative;background-color: white;}#sk-container-id-5 div.sk-parallel-item:first-child::after {align-self: flex-end;width: 50%;}#sk-container-id-5 div.sk-parallel-item:last-child::after {align-self: flex-start;width: 50%;}#sk-container-id-5 div.sk-parallel-item:only-child::after {width: 0;}#sk-container-id-5 div.sk-dashed-wrapped {border: 1px dashed gray;margin: 0 0.4em 0.5em 0.4em;box-sizing: border-box;padding-bottom: 0.4em;background-color: white;}#sk-container-id-5 div.sk-label label {font-family: monospace;font-weight: bold;display: inline-block;line-height: 1.2em;}#sk-container-id-5 div.sk-label-container {text-align: center;}#sk-container-id-5 div.sk-container {/* jupyter's `normalize.less` sets `[hidden] { display: none; }` but bootstrap.min.css set `[hidden] { display: none !important; }` so we also need the `!important` here to be able to override the default hidden behavior on the sphinx rendered scikit-learn.org. See: https://github.com/scikit-learn/scikit-learn/issues/21755 */display: inline-block !important;position: relative;}#sk-container-id-5 div.sk-text-repr-fallback {display: none;}</style><div id=\"sk-container-id-5\" class=\"sk-top-container\"><div class=\"sk-text-repr-fallback\"><pre>RandomizedSearchCV(cv=2, estimator=RandomForestClassifier(), n_iter=1,\n",
       "                   n_jobs=-1,\n",
       "                   param_distributions={&#x27;criterion&#x27;: [&#x27;entropy&#x27;, &#x27;gini&#x27;],\n",
       "                                        &#x27;max_depth&#x27;: [5, 8, 15, 25, 30],\n",
       "                                        &#x27;max_features&#x27;: [&#x27;auto&#x27;, &#x27;sqrt&#x27;,\n",
       "                                                         &#x27;log2&#x27;],\n",
       "                                        &#x27;min_samples_leaf&#x27;: [1, 2, 4, 6, 8],\n",
       "                                        &#x27;min_samples_split&#x27;: [2, 5, 10, 14],\n",
       "                                        &#x27;n_estimators&#x27;: [300, 400, 500, 600,\n",
       "                                                         700]},\n",
       "                   random_state=100, verbose=2)</pre><b>In a Jupyter environment, please rerun this cell to show the HTML representation or trust the notebook. <br />On GitHub, the HTML representation is unable to render, please try loading this page with nbviewer.org.</b></div><div class=\"sk-container\" hidden><div class=\"sk-item sk-dashed-wrapped\"><div class=\"sk-label-container\"><div class=\"sk-label sk-toggleable\"><input class=\"sk-toggleable__control sk-hidden--visually\" id=\"sk-estimator-id-9\" type=\"checkbox\" ><label for=\"sk-estimator-id-9\" class=\"sk-toggleable__label sk-toggleable__label-arrow\">RandomizedSearchCV</label><div class=\"sk-toggleable__content\"><pre>RandomizedSearchCV(cv=2, estimator=RandomForestClassifier(), n_iter=1,\n",
       "                   n_jobs=-1,\n",
       "                   param_distributions={&#x27;criterion&#x27;: [&#x27;entropy&#x27;, &#x27;gini&#x27;],\n",
       "                                        &#x27;max_depth&#x27;: [5, 8, 15, 25, 30],\n",
       "                                        &#x27;max_features&#x27;: [&#x27;auto&#x27;, &#x27;sqrt&#x27;,\n",
       "                                                         &#x27;log2&#x27;],\n",
       "                                        &#x27;min_samples_leaf&#x27;: [1, 2, 4, 6, 8],\n",
       "                                        &#x27;min_samples_split&#x27;: [2, 5, 10, 14],\n",
       "                                        &#x27;n_estimators&#x27;: [300, 400, 500, 600,\n",
       "                                                         700]},\n",
       "                   random_state=100, verbose=2)</pre></div></div></div><div class=\"sk-parallel\"><div class=\"sk-parallel-item\"><div class=\"sk-item\"><div class=\"sk-label-container\"><div class=\"sk-label sk-toggleable\"><input class=\"sk-toggleable__control sk-hidden--visually\" id=\"sk-estimator-id-10\" type=\"checkbox\" ><label for=\"sk-estimator-id-10\" class=\"sk-toggleable__label sk-toggleable__label-arrow\">estimator: RandomForestClassifier</label><div class=\"sk-toggleable__content\"><pre>RandomForestClassifier()</pre></div></div></div><div class=\"sk-serial\"><div class=\"sk-item\"><div class=\"sk-estimator sk-toggleable\"><input class=\"sk-toggleable__control sk-hidden--visually\" id=\"sk-estimator-id-11\" type=\"checkbox\" ><label for=\"sk-estimator-id-11\" class=\"sk-toggleable__label sk-toggleable__label-arrow\">RandomForestClassifier</label><div class=\"sk-toggleable__content\"><pre>RandomForestClassifier()</pre></div></div></div></div></div></div></div></div></div></div>"
      ],
      "text/plain": [
       "RandomizedSearchCV(cv=2, estimator=RandomForestClassifier(), n_iter=1,\n",
       "                   n_jobs=-1,\n",
       "                   param_distributions={'criterion': ['entropy', 'gini'],\n",
       "                                        'max_depth': [5, 8, 15, 25, 30],\n",
       "                                        'max_features': ['auto', 'sqrt',\n",
       "                                                         'log2'],\n",
       "                                        'min_samples_leaf': [1, 2, 4, 6, 8],\n",
       "                                        'min_samples_split': [2, 5, 10, 14],\n",
       "                                        'n_estimators': [300, 400, 500, 600,\n",
       "                                                         700]},\n",
       "                   random_state=100, verbose=2)"
      ]
     },
     "execution_count": 178,
     "metadata": {},
     "output_type": "execute_result"
    }
   ],
   "source": [
    "rf_randomcv"
   ]
  },
  {
   "cell_type": "code",
   "execution_count": 179,
   "id": "199e378b",
   "metadata": {},
   "outputs": [],
   "source": [
    "best_random_grid=rf_randomcv.best_estimator_"
   ]
  },
  {
   "cell_type": "code",
   "execution_count": 180,
   "id": "1a4aa459",
   "metadata": {},
   "outputs": [
    {
     "name": "stdout",
     "output_type": "stream",
     "text": [
      "[[28849    64]\n",
      " [    0     0]]\n",
      "Accuracy Score 0.9977864628367862\n",
      "Classification report:               precision    recall  f1-score   support\n",
      "\n",
      "           0       1.00      1.00      1.00     28913\n",
      "           1       0.00      0.00      0.00         0\n",
      "\n",
      "    accuracy                           1.00     28913\n",
      "   macro avg       0.50      0.50      0.50     28913\n",
      "weighted avg       1.00      1.00      1.00     28913\n",
      "\n"
     ]
    }
   ],
   "source": [
    "from sklearn.metrics import accuracy_score\n",
    "y_pred=best_random_grid.predict(X_test)\n",
    "print(confusion_matrix(y_test,y_pred))\n",
    "print(\"Accuracy Score {}\".format(accuracy_score(y_test,y_pred)))\n",
    "print(\"Classification report: {}\".format(classification_report(y_test,y_pred)))"
   ]
  },
  {
   "cell_type": "code",
   "execution_count": 181,
   "id": "676991f8",
   "metadata": {},
   "outputs": [],
   "source": [
    "# Converting y_pred to a dataframe which is an array\n",
    "y_pred_2 = pd.DataFrame(y_pred)"
   ]
  },
  {
   "cell_type": "code",
   "execution_count": 182,
   "id": "d9e8b7ed",
   "metadata": {},
   "outputs": [
    {
     "data": {
      "text/plain": [
       "0    28849\n",
       "1       64\n",
       "dtype: int64"
      ]
     },
     "execution_count": 182,
     "metadata": {},
     "output_type": "execute_result"
    }
   ],
   "source": [
    "y_pred_2.value_counts()"
   ]
  },
  {
   "cell_type": "code",
   "execution_count": 184,
   "id": "c20e3be8",
   "metadata": {},
   "outputs": [],
   "source": [
    "y_pred_2.to_csv('stolen_submission.csv', index=False)"
   ]
  },
  {
   "cell_type": "markdown",
   "id": "f1d761a6",
   "metadata": {},
   "source": [
    "### Dimensions"
   ]
  },
  {
   "cell_type": "code",
   "execution_count": 185,
   "id": "68da6c80",
   "metadata": {},
   "outputs": [
    {
     "data": {
      "text/plain": [
       "(96457, 17)"
      ]
     },
     "execution_count": 185,
     "metadata": {},
     "output_type": "execute_result"
    }
   ],
   "source": [
    "X_train_ns.shape"
   ]
  },
  {
   "cell_type": "code",
   "execution_count": 186,
   "id": "ad602c79",
   "metadata": {},
   "outputs": [
    {
     "data": {
      "text/plain": [
       "(96457,)"
      ]
     },
     "execution_count": 186,
     "metadata": {},
     "output_type": "execute_result"
    }
   ],
   "source": [
    "y_train_ns.shape"
   ]
  },
  {
   "cell_type": "code",
   "execution_count": 187,
   "id": "13eb68e0",
   "metadata": {},
   "outputs": [
    {
     "data": {
      "text/plain": [
       "(28913, 17)"
      ]
     },
     "execution_count": 187,
     "metadata": {},
     "output_type": "execute_result"
    }
   ],
   "source": [
    "X_test.shape"
   ]
  },
  {
   "cell_type": "code",
   "execution_count": 188,
   "id": "ca78ede9",
   "metadata": {},
   "outputs": [
    {
     "data": {
      "text/plain": [
       "(28913,)"
      ]
     },
     "execution_count": 188,
     "metadata": {},
     "output_type": "execute_result"
    }
   ],
   "source": [
    "y_test.shape"
   ]
  },
  {
   "cell_type": "markdown",
   "id": "7b8ebe01",
   "metadata": {},
   "source": [
    "#### Checking With ANN Model as Well "
   ]
  },
  {
   "cell_type": "code",
   "execution_count": 189,
   "id": "f9a84470",
   "metadata": {},
   "outputs": [],
   "source": [
    "import pandas as pd\n",
    "import numpy as np \n",
    "import itertools\n",
    "from sklearn import metrics\n",
    "from sklearn.metrics import confusion_matrix\n",
    "from tensorflow.keras.preprocessing.image import ImageDataGenerator, img_to_array, load_img \n",
    "from tensorflow.keras.models import Sequential\n",
    "from tensorflow.keras.layers import Conv2D,Flatten,Dropout,Dense\n",
    "from tensorflow.keras.optimizers import Adam\n",
    "from tensorflow import keras\n",
    "from tensorflow.keras import layers"
   ]
  },
  {
   "cell_type": "code",
   "execution_count": 190,
   "id": "c3b95e38",
   "metadata": {},
   "outputs": [],
   "source": [
    "import tensorflow as tf\n",
    "from tensorflow import keras\n",
    "import numpy as np"
   ]
  },
  {
   "cell_type": "code",
   "execution_count": 191,
   "id": "88cf1942",
   "metadata": {},
   "outputs": [],
   "source": [
    "import keras\n",
    "from keras.models import Sequential\n",
    "from keras.layers import Dense\n",
    "from keras.layers import LeakyReLU,PReLU,ELU\n",
    "from keras.layers import Dropout"
   ]
  },
  {
   "cell_type": "code",
   "execution_count": 192,
   "id": "69144cd4",
   "metadata": {},
   "outputs": [],
   "source": [
    "# initialising sequential model and adding layers to it\n",
    "# Adding the input layer and the first hidden layer\n",
    "# Initialising the ANN\n",
    "model = Sequential()\n",
    "model.add(Dense(1000, input_dim=17, activation='relu'))\n",
    "model.add(Dense(500, activation='relu'))\n",
    "model.add(Dense(500, activation='LeakyReLU'))\n",
    "# Adding the output layer\n",
    "model.add(Dense(1, activation='sigmoid'))   # this is output layer - should have as many neurons as there are outputs to the classification problem.\n"
   ]
  },
  {
   "cell_type": "code",
   "execution_count": 193,
   "id": "2b0cfc5a",
   "metadata": {},
   "outputs": [],
   "source": [
    "# Compiling the ANN\n",
    "model.compile(optimizer = 'adam', loss = 'binary_crossentropy', metrics = ['accuracy'])\n"
   ]
  },
  {
   "cell_type": "code",
   "execution_count": 194,
   "id": "b037aea3",
   "metadata": {},
   "outputs": [
    {
     "name": "stdout",
     "output_type": "stream",
     "text": [
      "Model: \"sequential\"\n",
      "_________________________________________________________________\n",
      " Layer (type)                Output Shape              Param #   \n",
      "=================================================================\n",
      " dense (Dense)               (None, 1000)              18000     \n",
      "                                                                 \n",
      " dense_1 (Dense)             (None, 500)               500500    \n",
      "                                                                 \n",
      " dense_2 (Dense)             (None, 500)               250500    \n",
      "                                                                 \n",
      " dense_3 (Dense)             (None, 1)                 501       \n",
      "                                                                 \n",
      "=================================================================\n",
      "Total params: 769,501\n",
      "Trainable params: 769,501\n",
      "Non-trainable params: 0\n",
      "_________________________________________________________________\n"
     ]
    }
   ],
   "source": [
    "model.summary()"
   ]
  },
  {
   "cell_type": "code",
   "execution_count": 195,
   "id": "9eba4fd6",
   "metadata": {},
   "outputs": [
    {
     "name": "stdout",
     "output_type": "stream",
     "text": [
      "Epoch 1/250\n",
      "772/772 [==============================] - 9s 10ms/step - loss: 0.6210 - accuracy: 0.7132 - val_loss: 1.2299 - val_accuracy: 2.5917e-04\n",
      "Epoch 2/250\n",
      "772/772 [==============================] - 7s 9ms/step - loss: 0.5687 - accuracy: 0.7189 - val_loss: 1.0902 - val_accuracy: 0.1762\n",
      "Epoch 3/250\n",
      "772/772 [==============================] - 7s 9ms/step - loss: 0.5289 - accuracy: 0.7456 - val_loss: 0.8771 - val_accuracy: 0.3975\n",
      "Epoch 4/250\n",
      "772/772 [==============================] - 8s 10ms/step - loss: 0.4734 - accuracy: 0.7820 - val_loss: 0.7275 - val_accuracy: 0.5792\n",
      "Epoch 5/250\n",
      "772/772 [==============================] - 10s 13ms/step - loss: 0.4056 - accuracy: 0.8205 - val_loss: 0.6765 - val_accuracy: 0.6362\n",
      "Epoch 6/250\n",
      "772/772 [==============================] - 10s 12ms/step - loss: 0.3383 - accuracy: 0.8566 - val_loss: 0.5022 - val_accuracy: 0.7439\n",
      "Epoch 7/250\n",
      "772/772 [==============================] - 9s 11ms/step - loss: 0.2788 - accuracy: 0.8842 - val_loss: 0.4530 - val_accuracy: 0.7725\n",
      "Epoch 8/250\n",
      "772/772 [==============================] - 9s 11ms/step - loss: 0.2296 - accuracy: 0.9073 - val_loss: 0.5502 - val_accuracy: 0.7365\n",
      "Epoch 9/250\n",
      "772/772 [==============================] - 9s 11ms/step - loss: 0.1906 - accuracy: 0.9240 - val_loss: 0.3854 - val_accuracy: 0.8123\n",
      "Epoch 10/250\n",
      "772/772 [==============================] - 9s 12ms/step - loss: 0.1613 - accuracy: 0.9365 - val_loss: 0.3411 - val_accuracy: 0.8356\n",
      "Epoch 11/250\n",
      "772/772 [==============================] - 9s 12ms/step - loss: 0.1365 - accuracy: 0.9462 - val_loss: 0.2794 - val_accuracy: 0.8642\n",
      "Epoch 12/250\n",
      "772/772 [==============================] - 9s 12ms/step - loss: 0.1234 - accuracy: 0.9509 - val_loss: 0.2812 - val_accuracy: 0.8646\n",
      "Epoch 13/250\n",
      "772/772 [==============================] - 9s 12ms/step - loss: 0.1113 - accuracy: 0.9563 - val_loss: 0.2275 - val_accuracy: 0.8878\n",
      "Epoch 14/250\n",
      "772/772 [==============================] - 8s 11ms/step - loss: 0.0988 - accuracy: 0.9609 - val_loss: 0.2587 - val_accuracy: 0.8789\n",
      "Epoch 15/250\n",
      "772/772 [==============================] - 8s 10ms/step - loss: 0.0917 - accuracy: 0.9643 - val_loss: 0.1537 - val_accuracy: 0.9191\n",
      "Epoch 16/250\n",
      "772/772 [==============================] - 10s 13ms/step - loss: 0.0864 - accuracy: 0.9655 - val_loss: 0.2023 - val_accuracy: 0.9012\n",
      "Epoch 17/250\n",
      "772/772 [==============================] - 9s 11ms/step - loss: 0.0808 - accuracy: 0.9684 - val_loss: 0.1525 - val_accuracy: 0.9186\n",
      "Epoch 18/250\n",
      "772/772 [==============================] - 8s 11ms/step - loss: 0.0769 - accuracy: 0.9695 - val_loss: 0.1660 - val_accuracy: 0.9171\n",
      "Epoch 19/250\n",
      "772/772 [==============================] - 8s 11ms/step - loss: 0.0743 - accuracy: 0.9701 - val_loss: 0.1579 - val_accuracy: 0.9200\n",
      "Epoch 20/250\n",
      "772/772 [==============================] - 8s 11ms/step - loss: 0.0725 - accuracy: 0.9717 - val_loss: 0.1812 - val_accuracy: 0.9162\n",
      "Epoch 21/250\n",
      "772/772 [==============================] - 8s 10ms/step - loss: 0.0667 - accuracy: 0.9745 - val_loss: 0.1625 - val_accuracy: 0.9236\n",
      "Epoch 22/250\n",
      "772/772 [==============================] - 9s 12ms/step - loss: 0.0647 - accuracy: 0.9736 - val_loss: 0.1771 - val_accuracy: 0.9150\n",
      "Epoch 23/250\n",
      "772/772 [==============================] - 9s 11ms/step - loss: 0.0616 - accuracy: 0.9751 - val_loss: 0.1296 - val_accuracy: 0.9303\n",
      "Epoch 24/250\n",
      "772/772 [==============================] - 8s 10ms/step - loss: 0.0586 - accuracy: 0.9765 - val_loss: 0.1630 - val_accuracy: 0.9229\n",
      "Epoch 25/250\n",
      "772/772 [==============================] - 8s 10ms/step - loss: 0.0603 - accuracy: 0.9761 - val_loss: 0.1830 - val_accuracy: 0.9170\n",
      "Epoch 26/250\n",
      "772/772 [==============================] - 9s 11ms/step - loss: 0.0576 - accuracy: 0.9767 - val_loss: 0.1779 - val_accuracy: 0.9134\n",
      "Epoch 27/250\n",
      "772/772 [==============================] - 9s 12ms/step - loss: 0.0574 - accuracy: 0.9770 - val_loss: 0.1286 - val_accuracy: 0.9291\n",
      "Epoch 28/250\n",
      "772/772 [==============================] - 8s 10ms/step - loss: 0.0570 - accuracy: 0.9780 - val_loss: 0.1688 - val_accuracy: 0.9122\n",
      "Epoch 29/250\n",
      "772/772 [==============================] - 8s 11ms/step - loss: 0.0538 - accuracy: 0.9786 - val_loss: 0.1386 - val_accuracy: 0.9294\n",
      "Epoch 30/250\n",
      "772/772 [==============================] - 8s 11ms/step - loss: 0.0555 - accuracy: 0.9793 - val_loss: 0.1738 - val_accuracy: 0.9184\n",
      "Epoch 31/250\n",
      "772/772 [==============================] - 8s 11ms/step - loss: 0.0507 - accuracy: 0.9793 - val_loss: 0.1137 - val_accuracy: 0.9368\n",
      "Epoch 32/250\n",
      "772/772 [==============================] - 9s 11ms/step - loss: 0.0536 - accuracy: 0.9790 - val_loss: 0.1668 - val_accuracy: 0.9254\n",
      "Epoch 33/250\n",
      "772/772 [==============================] - 8s 11ms/step - loss: 0.0479 - accuracy: 0.9807 - val_loss: 0.1685 - val_accuracy: 0.9214\n",
      "Epoch 34/250\n",
      "772/772 [==============================] - 8s 11ms/step - loss: 0.0529 - accuracy: 0.9786 - val_loss: 0.2270 - val_accuracy: 0.9039\n",
      "Epoch 35/250\n",
      "772/772 [==============================] - 9s 11ms/step - loss: 0.0454 - accuracy: 0.9812 - val_loss: 0.1629 - val_accuracy: 0.9242\n",
      "Epoch 36/250\n",
      "772/772 [==============================] - 8s 11ms/step - loss: 0.0499 - accuracy: 0.9802 - val_loss: 0.1372 - val_accuracy: 0.9309\n",
      "Epoch 37/250\n",
      "772/772 [==============================] - 8s 11ms/step - loss: 0.0443 - accuracy: 0.9819 - val_loss: 0.1731 - val_accuracy: 0.9206\n",
      "Epoch 38/250\n",
      "772/772 [==============================] - 8s 11ms/step - loss: 0.0500 - accuracy: 0.9804 - val_loss: 0.1177 - val_accuracy: 0.9369\n",
      "Epoch 39/250\n",
      "772/772 [==============================] - 8s 11ms/step - loss: 0.0513 - accuracy: 0.9812 - val_loss: 0.1912 - val_accuracy: 0.9167\n",
      "Epoch 40/250\n",
      "772/772 [==============================] - 8s 11ms/step - loss: 0.0454 - accuracy: 0.9818 - val_loss: 0.1477 - val_accuracy: 0.9249\n",
      "Epoch 41/250\n",
      "772/772 [==============================] - 8s 11ms/step - loss: 0.0445 - accuracy: 0.9818 - val_loss: 0.1495 - val_accuracy: 0.9261\n",
      "Epoch 42/250\n",
      "772/772 [==============================] - 9s 11ms/step - loss: 0.0459 - accuracy: 0.9809 - val_loss: 0.1310 - val_accuracy: 0.9331\n",
      "Epoch 43/250\n",
      "772/772 [==============================] - 9s 11ms/step - loss: 0.0417 - accuracy: 0.9828 - val_loss: 0.1197 - val_accuracy: 0.9396\n",
      "Epoch 44/250\n",
      "772/772 [==============================] - 9s 11ms/step - loss: 0.0441 - accuracy: 0.9820 - val_loss: 0.1925 - val_accuracy: 0.9158\n",
      "Epoch 45/250\n",
      "772/772 [==============================] - 9s 12ms/step - loss: 0.0398 - accuracy: 0.9834 - val_loss: 0.1363 - val_accuracy: 0.9320\n",
      "Epoch 46/250\n",
      "772/772 [==============================] - 11s 14ms/step - loss: 0.0446 - accuracy: 0.9817 - val_loss: 0.1034 - val_accuracy: 0.9401\n",
      "Epoch 47/250\n",
      "772/772 [==============================] - 9s 11ms/step - loss: 0.0432 - accuracy: 0.9827 - val_loss: 0.1537 - val_accuracy: 0.9256\n",
      "Epoch 48/250\n",
      "772/772 [==============================] - 8s 11ms/step - loss: 0.0401 - accuracy: 0.9831 - val_loss: 0.1165 - val_accuracy: 0.9387\n",
      "Epoch 49/250\n",
      "772/772 [==============================] - 8s 11ms/step - loss: 0.0421 - accuracy: 0.9827 - val_loss: 0.1320 - val_accuracy: 0.9339\n",
      "Epoch 50/250\n",
      "772/772 [==============================] - 8s 11ms/step - loss: 0.0406 - accuracy: 0.9829 - val_loss: 0.1181 - val_accuracy: 0.9375\n",
      "Epoch 51/250\n",
      "772/772 [==============================] - 9s 11ms/step - loss: 0.0411 - accuracy: 0.9830 - val_loss: 0.1199 - val_accuracy: 0.9393\n",
      "Epoch 52/250\n",
      "772/772 [==============================] - 9s 11ms/step - loss: 0.0401 - accuracy: 0.9831 - val_loss: 0.1813 - val_accuracy: 0.9163\n",
      "Epoch 53/250\n",
      "772/772 [==============================] - 8s 11ms/step - loss: 0.0413 - accuracy: 0.9830 - val_loss: 0.1657 - val_accuracy: 0.9261\n",
      "Epoch 54/250\n",
      "772/772 [==============================] - 9s 11ms/step - loss: 0.0397 - accuracy: 0.9838 - val_loss: 0.1162 - val_accuracy: 0.9373\n",
      "Epoch 55/250\n",
      "772/772 [==============================] - 8s 11ms/step - loss: 0.0394 - accuracy: 0.9844 - val_loss: 0.1467 - val_accuracy: 0.9284\n",
      "Epoch 56/250\n",
      "772/772 [==============================] - 8s 11ms/step - loss: 0.0396 - accuracy: 0.9834 - val_loss: 0.1389 - val_accuracy: 0.9323\n",
      "Epoch 57/250\n"
     ]
    },
    {
     "name": "stdout",
     "output_type": "stream",
     "text": [
      "772/772 [==============================] - 8s 11ms/step - loss: 0.0406 - accuracy: 0.9834 - val_loss: 0.1467 - val_accuracy: 0.9286\n",
      "Epoch 58/250\n",
      "772/772 [==============================] - 13s 17ms/step - loss: 0.0357 - accuracy: 0.9853 - val_loss: 0.1348 - val_accuracy: 0.9322\n",
      "Epoch 59/250\n",
      "772/772 [==============================] - 13s 17ms/step - loss: 0.0393 - accuracy: 0.9838 - val_loss: 0.1115 - val_accuracy: 0.9401\n",
      "Epoch 60/250\n",
      "772/772 [==============================] - 11s 14ms/step - loss: 0.0368 - accuracy: 0.9847 - val_loss: 0.1175 - val_accuracy: 0.9381\n",
      "Epoch 61/250\n",
      "772/772 [==============================] - 11s 15ms/step - loss: 0.0386 - accuracy: 0.9841 - val_loss: 0.1250 - val_accuracy: 0.9355\n",
      "Epoch 62/250\n",
      "772/772 [==============================] - 11s 14ms/step - loss: 0.0376 - accuracy: 0.9843 - val_loss: 0.1393 - val_accuracy: 0.9342\n",
      "Epoch 63/250\n",
      "772/772 [==============================] - 11s 14ms/step - loss: 0.0396 - accuracy: 0.9837 - val_loss: 0.1300 - val_accuracy: 0.9370\n",
      "Epoch 64/250\n",
      "772/772 [==============================] - 10s 13ms/step - loss: 0.0373 - accuracy: 0.9843 - val_loss: 0.1604 - val_accuracy: 0.9261\n",
      "Epoch 65/250\n",
      "772/772 [==============================] - 14s 18ms/step - loss: 0.0356 - accuracy: 0.9850 - val_loss: 0.1200 - val_accuracy: 0.9376\n",
      "Epoch 66/250\n",
      "772/772 [==============================] - 13s 17ms/step - loss: 0.0367 - accuracy: 0.9844 - val_loss: 0.1659 - val_accuracy: 0.9246\n",
      "Epoch 67/250\n",
      "772/772 [==============================] - 13s 17ms/step - loss: 0.0375 - accuracy: 0.9844 - val_loss: 0.1143 - val_accuracy: 0.9359\n",
      "Epoch 68/250\n",
      "772/772 [==============================] - 12s 16ms/step - loss: 0.0359 - accuracy: 0.9849 - val_loss: 0.1770 - val_accuracy: 0.9202\n",
      "Epoch 69/250\n",
      "772/772 [==============================] - 13s 16ms/step - loss: 0.0355 - accuracy: 0.9849 - val_loss: 0.1440 - val_accuracy: 0.9341\n",
      "Epoch 70/250\n",
      "772/772 [==============================] - 12s 15ms/step - loss: 0.0359 - accuracy: 0.9846 - val_loss: 0.1304 - val_accuracy: 0.9356\n",
      "Epoch 71/250\n",
      "772/772 [==============================] - 13s 17ms/step - loss: 0.0364 - accuracy: 0.9845 - val_loss: 0.1209 - val_accuracy: 0.9384\n",
      "Epoch 72/250\n",
      "772/772 [==============================] - 17s 22ms/step - loss: 0.0374 - accuracy: 0.9844 - val_loss: 0.1317 - val_accuracy: 0.9399\n",
      "Epoch 73/250\n",
      "772/772 [==============================] - 16s 21ms/step - loss: 0.0350 - accuracy: 0.9852 - val_loss: 0.1661 - val_accuracy: 0.9262\n",
      "Epoch 74/250\n",
      "772/772 [==============================] - 17s 22ms/step - loss: 0.0374 - accuracy: 0.9849 - val_loss: 0.1226 - val_accuracy: 0.9376\n",
      "Epoch 75/250\n",
      "772/772 [==============================] - 18s 23ms/step - loss: 0.0349 - accuracy: 0.9852 - val_loss: 0.1896 - val_accuracy: 0.9216\n",
      "Epoch 76/250\n",
      "772/772 [==============================] - 17s 22ms/step - loss: 0.0361 - accuracy: 0.9850 - val_loss: 0.1595 - val_accuracy: 0.9285\n",
      "Epoch 77/250\n",
      "772/772 [==============================] - 17s 22ms/step - loss: 0.0335 - accuracy: 0.9857 - val_loss: 0.1718 - val_accuracy: 0.9276\n",
      "Epoch 78/250\n",
      "772/772 [==============================] - 17s 22ms/step - loss: 0.0362 - accuracy: 0.9849 - val_loss: 0.1040 - val_accuracy: 0.9435\n",
      "Epoch 79/250\n",
      "772/772 [==============================] - 17s 23ms/step - loss: 0.0342 - accuracy: 0.9857 - val_loss: 0.1232 - val_accuracy: 0.9366\n",
      "Epoch 80/250\n",
      "772/772 [==============================] - 17s 22ms/step - loss: 0.0330 - accuracy: 0.9858 - val_loss: 0.1236 - val_accuracy: 0.9394\n",
      "Epoch 81/250\n",
      "772/772 [==============================] - 18s 23ms/step - loss: 0.0362 - accuracy: 0.9848 - val_loss: 0.1570 - val_accuracy: 0.9321\n",
      "Epoch 82/250\n",
      "772/772 [==============================] - 18s 24ms/step - loss: 0.0354 - accuracy: 0.9851 - val_loss: 0.1368 - val_accuracy: 0.9330\n",
      "Epoch 83/250\n",
      "772/772 [==============================] - 18s 23ms/step - loss: 0.0381 - accuracy: 0.9853 - val_loss: 0.1031 - val_accuracy: 0.9440\n",
      "Epoch 84/250\n",
      "772/772 [==============================] - 17s 22ms/step - loss: 0.0341 - accuracy: 0.9857 - val_loss: 0.1051 - val_accuracy: 0.9428\n",
      "Epoch 85/250\n",
      "772/772 [==============================] - 18s 23ms/step - loss: 0.0335 - accuracy: 0.9856 - val_loss: 0.1445 - val_accuracy: 0.9310\n",
      "Epoch 86/250\n",
      "772/772 [==============================] - 18s 23ms/step - loss: 0.0362 - accuracy: 0.9848 - val_loss: 0.0996 - val_accuracy: 0.9437\n",
      "Epoch 87/250\n",
      "772/772 [==============================] - 15s 20ms/step - loss: 0.0328 - accuracy: 0.9859 - val_loss: 0.1380 - val_accuracy: 0.9343\n",
      "Epoch 88/250\n",
      "772/772 [==============================] - 14s 18ms/step - loss: 0.0357 - accuracy: 0.9848 - val_loss: 0.1066 - val_accuracy: 0.9427\n",
      "Epoch 89/250\n",
      "772/772 [==============================] - 17s 22ms/step - loss: 0.0321 - accuracy: 0.9860 - val_loss: 0.1283 - val_accuracy: 0.9346\n",
      "Epoch 90/250\n",
      "772/772 [==============================] - 17s 21ms/step - loss: 0.0336 - accuracy: 0.9857 - val_loss: 0.1229 - val_accuracy: 0.9364\n",
      "Epoch 91/250\n",
      "772/772 [==============================] - 17s 22ms/step - loss: 0.0328 - accuracy: 0.9860 - val_loss: 0.1096 - val_accuracy: 0.9410\n",
      "Epoch 92/250\n",
      "772/772 [==============================] - 16s 21ms/step - loss: 0.0330 - accuracy: 0.9857 - val_loss: 0.1232 - val_accuracy: 0.9378\n",
      "Epoch 93/250\n",
      "772/772 [==============================] - 17s 22ms/step - loss: 0.0339 - accuracy: 0.9855 - val_loss: 0.1502 - val_accuracy: 0.9308\n",
      "Epoch 94/250\n",
      "772/772 [==============================] - 16s 21ms/step - loss: 0.0331 - accuracy: 0.9862 - val_loss: 0.0956 - val_accuracy: 0.9457\n",
      "Epoch 95/250\n",
      "772/772 [==============================] - 17s 22ms/step - loss: 0.0324 - accuracy: 0.9860 - val_loss: 0.1293 - val_accuracy: 0.9354\n",
      "Epoch 96/250\n",
      "772/772 [==============================] - 17s 22ms/step - loss: 0.0321 - accuracy: 0.9860 - val_loss: 0.1532 - val_accuracy: 0.9313\n",
      "Epoch 97/250\n",
      "772/772 [==============================] - 13s 17ms/step - loss: 0.0349 - accuracy: 0.9853 - val_loss: 0.1293 - val_accuracy: 0.9355\n",
      "Epoch 98/250\n",
      "772/772 [==============================] - 12s 16ms/step - loss: 0.0314 - accuracy: 0.9864 - val_loss: 0.1259 - val_accuracy: 0.9374\n",
      "Epoch 99/250\n",
      "772/772 [==============================] - 13s 17ms/step - loss: 0.0318 - accuracy: 0.9861 - val_loss: 0.2002 - val_accuracy: 0.9194\n",
      "Epoch 100/250\n",
      "772/772 [==============================] - 12s 16ms/step - loss: 0.0346 - accuracy: 0.9854 - val_loss: 0.0986 - val_accuracy: 0.9454\n",
      "Epoch 101/250\n",
      "772/772 [==============================] - 12s 16ms/step - loss: 0.0308 - accuracy: 0.9868 - val_loss: 0.1425 - val_accuracy: 0.9351\n",
      "Epoch 102/250\n",
      "772/772 [==============================] - 13s 17ms/step - loss: 0.0319 - accuracy: 0.9861 - val_loss: 0.1117 - val_accuracy: 0.9404\n",
      "Epoch 103/250\n",
      "772/772 [==============================] - 13s 17ms/step - loss: 0.0343 - accuracy: 0.9854 - val_loss: 0.1133 - val_accuracy: 0.9388\n",
      "Epoch 104/250\n",
      "772/772 [==============================] - 13s 16ms/step - loss: 0.0317 - accuracy: 0.9863 - val_loss: 0.1271 - val_accuracy: 0.9373\n",
      "Epoch 105/250\n",
      "772/772 [==============================] - 13s 16ms/step - loss: 0.0313 - accuracy: 0.9863 - val_loss: 0.1123 - val_accuracy: 0.9408\n",
      "Epoch 106/250\n",
      "772/772 [==============================] - 13s 17ms/step - loss: 0.0323 - accuracy: 0.9862 - val_loss: 0.1176 - val_accuracy: 0.9394\n",
      "Epoch 107/250\n",
      "772/772 [==============================] - 12s 16ms/step - loss: 0.0312 - accuracy: 0.9863 - val_loss: 0.1108 - val_accuracy: 0.9416\n",
      "Epoch 108/250\n",
      "772/772 [==============================] - 12s 16ms/step - loss: 0.0313 - accuracy: 0.9863 - val_loss: 0.1209 - val_accuracy: 0.9386\n",
      "Epoch 109/250\n",
      "772/772 [==============================] - 13s 16ms/step - loss: 0.0326 - accuracy: 0.9863 - val_loss: 0.1603 - val_accuracy: 0.9297\n",
      "Epoch 110/250\n",
      "772/772 [==============================] - 12s 15ms/step - loss: 0.0325 - accuracy: 0.9861 - val_loss: 0.1263 - val_accuracy: 0.9363\n",
      "Epoch 111/250\n",
      "772/772 [==============================] - 13s 17ms/step - loss: 0.0317 - accuracy: 0.9863 - val_loss: 0.1531 - val_accuracy: 0.9297\n",
      "Epoch 112/250\n",
      "772/772 [==============================] - 12s 16ms/step - loss: 0.0323 - accuracy: 0.9860 - val_loss: 0.1187 - val_accuracy: 0.9385\n",
      "Epoch 113/250\n"
     ]
    },
    {
     "name": "stdout",
     "output_type": "stream",
     "text": [
      "772/772 [==============================] - 12s 16ms/step - loss: 0.0318 - accuracy: 0.9862 - val_loss: 0.1149 - val_accuracy: 0.9410\n",
      "Epoch 114/250\n",
      "772/772 [==============================] - 12s 15ms/step - loss: 0.0312 - accuracy: 0.9871 - val_loss: 0.1248 - val_accuracy: 0.9365\n",
      "Epoch 115/250\n",
      "772/772 [==============================] - 13s 16ms/step - loss: 0.0332 - accuracy: 0.9857 - val_loss: 0.1501 - val_accuracy: 0.9324\n",
      "Epoch 116/250\n",
      "772/772 [==============================] - 12s 16ms/step - loss: 0.0322 - accuracy: 0.9860 - val_loss: 0.1394 - val_accuracy: 0.9341\n",
      "Epoch 117/250\n",
      "772/772 [==============================] - 13s 17ms/step - loss: 0.0303 - accuracy: 0.9867 - val_loss: 0.1450 - val_accuracy: 0.9333\n",
      "Epoch 118/250\n",
      "772/772 [==============================] - 13s 16ms/step - loss: 0.0328 - accuracy: 0.9863 - val_loss: 0.1014 - val_accuracy: 0.9409\n",
      "Epoch 119/250\n",
      "772/772 [==============================] - 12s 16ms/step - loss: 0.0322 - accuracy: 0.9860 - val_loss: 0.1327 - val_accuracy: 0.9361\n",
      "Epoch 120/250\n",
      "772/772 [==============================] - 13s 17ms/step - loss: 0.0293 - accuracy: 0.9868 - val_loss: 0.1108 - val_accuracy: 0.9394\n",
      "Epoch 121/250\n",
      "772/772 [==============================] - 13s 17ms/step - loss: 0.0313 - accuracy: 0.9864 - val_loss: 0.1625 - val_accuracy: 0.9267\n",
      "Epoch 122/250\n",
      "772/772 [==============================] - 13s 17ms/step - loss: 0.0323 - accuracy: 0.9862 - val_loss: 0.1198 - val_accuracy: 0.9406\n",
      "Epoch 123/250\n",
      "772/772 [==============================] - 13s 16ms/step - loss: 0.0310 - accuracy: 0.9866 - val_loss: 0.1286 - val_accuracy: 0.9361\n",
      "Epoch 124/250\n",
      "772/772 [==============================] - 13s 17ms/step - loss: 0.0312 - accuracy: 0.9862 - val_loss: 0.1126 - val_accuracy: 0.9405\n",
      "Epoch 125/250\n",
      "772/772 [==============================] - 13s 17ms/step - loss: 0.0310 - accuracy: 0.9864 - val_loss: 0.1275 - val_accuracy: 0.9375\n",
      "Epoch 126/250\n",
      "772/772 [==============================] - 13s 16ms/step - loss: 0.0291 - accuracy: 0.9871 - val_loss: 0.1273 - val_accuracy: 0.9390\n",
      "Epoch 127/250\n",
      "772/772 [==============================] - 12s 16ms/step - loss: 0.0309 - accuracy: 0.9866 - val_loss: 0.1328 - val_accuracy: 0.9357\n",
      "Epoch 128/250\n",
      "772/772 [==============================] - 13s 17ms/step - loss: 0.0295 - accuracy: 0.9869 - val_loss: 0.1100 - val_accuracy: 0.9438\n",
      "Epoch 129/250\n",
      "772/772 [==============================] - 13s 16ms/step - loss: 0.0331 - accuracy: 0.9858 - val_loss: 0.1023 - val_accuracy: 0.9430\n",
      "Epoch 130/250\n",
      "772/772 [==============================] - 14s 18ms/step - loss: 0.0322 - accuracy: 0.9861 - val_loss: 0.1266 - val_accuracy: 0.9365\n",
      "Epoch 131/250\n",
      "772/772 [==============================] - 14s 18ms/step - loss: 0.0294 - accuracy: 0.9868 - val_loss: 0.1106 - val_accuracy: 0.9412\n",
      "Epoch 132/250\n",
      "772/772 [==============================] - 14s 18ms/step - loss: 0.0301 - accuracy: 0.9869 - val_loss: 0.1012 - val_accuracy: 0.9442\n",
      "Epoch 133/250\n",
      "772/772 [==============================] - 15s 19ms/step - loss: 0.0309 - accuracy: 0.9866 - val_loss: 0.1207 - val_accuracy: 0.9404\n",
      "Epoch 134/250\n",
      "772/772 [==============================] - 14s 19ms/step - loss: 0.0341 - accuracy: 0.9859 - val_loss: 0.1065 - val_accuracy: 0.9432\n",
      "Epoch 135/250\n",
      "772/772 [==============================] - 14s 19ms/step - loss: 0.0313 - accuracy: 0.9866 - val_loss: 0.1325 - val_accuracy: 0.9367\n",
      "Epoch 136/250\n",
      "772/772 [==============================] - 13s 16ms/step - loss: 0.0294 - accuracy: 0.9870 - val_loss: 0.1150 - val_accuracy: 0.9431\n",
      "Epoch 137/250\n",
      "772/772 [==============================] - 12s 15ms/step - loss: 0.0298 - accuracy: 0.9869 - val_loss: 0.1050 - val_accuracy: 0.9428\n",
      "Epoch 138/250\n",
      "772/772 [==============================] - 14s 18ms/step - loss: 0.0328 - accuracy: 0.9865 - val_loss: 0.1368 - val_accuracy: 0.9391\n",
      "Epoch 139/250\n",
      "772/772 [==============================] - 13s 16ms/step - loss: 0.0310 - accuracy: 0.9863 - val_loss: 0.1269 - val_accuracy: 0.9391\n",
      "Epoch 140/250\n",
      "772/772 [==============================] - 13s 17ms/step - loss: 0.0295 - accuracy: 0.9874 - val_loss: 0.0991 - val_accuracy: 0.9460\n",
      "Epoch 141/250\n",
      "772/772 [==============================] - 13s 16ms/step - loss: 0.0285 - accuracy: 0.9872 - val_loss: 0.1138 - val_accuracy: 0.9431\n",
      "Epoch 142/250\n",
      "772/772 [==============================] - 13s 17ms/step - loss: 0.0291 - accuracy: 0.9871 - val_loss: 0.1276 - val_accuracy: 0.9400\n",
      "Epoch 143/250\n",
      "772/772 [==============================] - 13s 17ms/step - loss: 0.0318 - accuracy: 0.9860 - val_loss: 0.1450 - val_accuracy: 0.9326\n",
      "Epoch 144/250\n",
      "772/772 [==============================] - 13s 17ms/step - loss: 0.0310 - accuracy: 0.9864 - val_loss: 0.1097 - val_accuracy: 0.9444\n",
      "Epoch 145/250\n",
      "772/772 [==============================] - 14s 19ms/step - loss: 0.0301 - accuracy: 0.9866 - val_loss: 0.1189 - val_accuracy: 0.9424\n",
      "Epoch 146/250\n",
      "772/772 [==============================] - 15s 19ms/step - loss: 0.0288 - accuracy: 0.9875 - val_loss: 0.1336 - val_accuracy: 0.9378\n",
      "Epoch 147/250\n",
      "772/772 [==============================] - 14s 18ms/step - loss: 0.0335 - accuracy: 0.9861 - val_loss: 0.1756 - val_accuracy: 0.9244\n",
      "Epoch 148/250\n",
      "772/772 [==============================] - 14s 19ms/step - loss: 0.0286 - accuracy: 0.9872 - val_loss: 0.1127 - val_accuracy: 0.9439\n",
      "Epoch 149/250\n",
      "772/772 [==============================] - 13s 17ms/step - loss: 0.0305 - accuracy: 0.9867 - val_loss: 0.1172 - val_accuracy: 0.9430\n",
      "Epoch 150/250\n",
      "772/772 [==============================] - 12s 16ms/step - loss: 0.0328 - accuracy: 0.9866 - val_loss: 0.1311 - val_accuracy: 0.9380\n",
      "Epoch 151/250\n",
      "772/772 [==============================] - 13s 17ms/step - loss: 0.0306 - accuracy: 0.9868 - val_loss: 0.1295 - val_accuracy: 0.9370\n",
      "Epoch 152/250\n",
      "772/772 [==============================] - 13s 17ms/step - loss: 0.0299 - accuracy: 0.9870 - val_loss: 0.1154 - val_accuracy: 0.9396\n",
      "Epoch 153/250\n",
      "772/772 [==============================] - 13s 17ms/step - loss: 0.0309 - accuracy: 0.9868 - val_loss: 0.1537 - val_accuracy: 0.9324\n",
      "Epoch 154/250\n",
      "772/772 [==============================] - 13s 17ms/step - loss: 0.0313 - accuracy: 0.9866 - val_loss: 0.1199 - val_accuracy: 0.9401\n",
      "Epoch 155/250\n",
      "772/772 [==============================] - 12s 16ms/step - loss: 0.0290 - accuracy: 0.9871 - val_loss: 0.1119 - val_accuracy: 0.9404\n",
      "Epoch 156/250\n",
      "772/772 [==============================] - 13s 17ms/step - loss: 0.0287 - accuracy: 0.9873 - val_loss: 0.1073 - val_accuracy: 0.9407\n",
      "Epoch 157/250\n",
      "772/772 [==============================] - 13s 17ms/step - loss: 0.0303 - accuracy: 0.9867 - val_loss: 0.1299 - val_accuracy: 0.9367\n",
      "Epoch 158/250\n",
      "772/772 [==============================] - 13s 17ms/step - loss: 0.0311 - accuracy: 0.9865 - val_loss: 0.1284 - val_accuracy: 0.9361\n",
      "Epoch 159/250\n",
      "772/772 [==============================] - 13s 17ms/step - loss: 0.0294 - accuracy: 0.9870 - val_loss: 0.1406 - val_accuracy: 0.9340\n",
      "Epoch 160/250\n",
      "772/772 [==============================] - 13s 16ms/step - loss: 0.0299 - accuracy: 0.9868 - val_loss: 0.1159 - val_accuracy: 0.9417\n",
      "Epoch 161/250\n",
      "772/772 [==============================] - 13s 17ms/step - loss: 0.0298 - accuracy: 0.9869 - val_loss: 0.1701 - val_accuracy: 0.9318\n",
      "Epoch 162/250\n",
      "772/772 [==============================] - 13s 17ms/step - loss: 0.0288 - accuracy: 0.9872 - val_loss: 0.1243 - val_accuracy: 0.9409\n",
      "Epoch 163/250\n",
      "772/772 [==============================] - 13s 17ms/step - loss: 0.0338 - accuracy: 0.9865 - val_loss: 0.1419 - val_accuracy: 0.9357\n",
      "Epoch 164/250\n",
      "772/772 [==============================] - 13s 17ms/step - loss: 0.0299 - accuracy: 0.9868 - val_loss: 0.1526 - val_accuracy: 0.9342\n",
      "Epoch 165/250\n",
      "772/772 [==============================] - 13s 17ms/step - loss: 0.0280 - accuracy: 0.9874 - val_loss: 0.1982 - val_accuracy: 0.9232\n",
      "Epoch 166/250\n",
      "772/772 [==============================] - 13s 17ms/step - loss: 0.0312 - accuracy: 0.9864 - val_loss: 0.1340 - val_accuracy: 0.9360\n",
      "Epoch 167/250\n",
      "772/772 [==============================] - 13s 17ms/step - loss: 0.0284 - accuracy: 0.9875 - val_loss: 0.1331 - val_accuracy: 0.9363\n",
      "Epoch 168/250\n",
      "772/772 [==============================] - 13s 16ms/step - loss: 0.0277 - accuracy: 0.9875 - val_loss: 0.1248 - val_accuracy: 0.9403\n"
     ]
    },
    {
     "name": "stdout",
     "output_type": "stream",
     "text": [
      "Epoch 169/250\n",
      "772/772 [==============================] - 12s 16ms/step - loss: 0.0303 - accuracy: 0.9868 - val_loss: 0.0802 - val_accuracy: 0.9498\n",
      "Epoch 170/250\n",
      "772/772 [==============================] - 13s 17ms/step - loss: 0.0311 - accuracy: 0.9865 - val_loss: 0.1178 - val_accuracy: 0.9411\n",
      "Epoch 171/250\n",
      "772/772 [==============================] - 14s 19ms/step - loss: 0.0286 - accuracy: 0.9871 - val_loss: 0.1425 - val_accuracy: 0.9389\n",
      "Epoch 172/250\n",
      "772/772 [==============================] - 13s 17ms/step - loss: 0.0297 - accuracy: 0.9872 - val_loss: 0.1157 - val_accuracy: 0.9413\n",
      "Epoch 173/250\n",
      "772/772 [==============================] - 13s 17ms/step - loss: 0.0292 - accuracy: 0.9869 - val_loss: 0.1155 - val_accuracy: 0.9414\n",
      "Epoch 174/250\n",
      "772/772 [==============================] - 13s 17ms/step - loss: 0.0293 - accuracy: 0.9869 - val_loss: 0.1300 - val_accuracy: 0.9369\n",
      "Epoch 175/250\n",
      "772/772 [==============================] - 13s 17ms/step - loss: 0.0303 - accuracy: 0.9868 - val_loss: 0.0988 - val_accuracy: 0.9460\n",
      "Epoch 176/250\n",
      "772/772 [==============================] - 13s 17ms/step - loss: 0.0307 - accuracy: 0.9866 - val_loss: 0.1250 - val_accuracy: 0.9377\n",
      "Epoch 177/250\n",
      "772/772 [==============================] - 13s 17ms/step - loss: 0.0307 - accuracy: 0.9865 - val_loss: 0.1329 - val_accuracy: 0.9372\n",
      "Epoch 178/250\n",
      "772/772 [==============================] - 13s 17ms/step - loss: 0.0295 - accuracy: 0.9871 - val_loss: 0.1144 - val_accuracy: 0.9418\n",
      "Epoch 179/250\n",
      "772/772 [==============================] - 16s 21ms/step - loss: 0.0275 - accuracy: 0.9877 - val_loss: 0.0987 - val_accuracy: 0.9456\n",
      "Epoch 180/250\n",
      "772/772 [==============================] - 19s 25ms/step - loss: 0.0284 - accuracy: 0.9874 - val_loss: 0.1222 - val_accuracy: 0.9418\n",
      "Epoch 181/250\n",
      "772/772 [==============================] - 18s 23ms/step - loss: 0.0311 - accuracy: 0.9868 - val_loss: 0.1265 - val_accuracy: 0.9401\n",
      "Epoch 182/250\n",
      "772/772 [==============================] - 19s 24ms/step - loss: 0.0272 - accuracy: 0.9876 - val_loss: 0.1417 - val_accuracy: 0.9379\n",
      "Epoch 183/250\n",
      "772/772 [==============================] - 18s 23ms/step - loss: 0.0308 - accuracy: 0.9866 - val_loss: 0.1079 - val_accuracy: 0.9442\n",
      "Epoch 184/250\n",
      "772/772 [==============================] - 19s 24ms/step - loss: 0.0295 - accuracy: 0.9869 - val_loss: 0.1226 - val_accuracy: 0.9392\n",
      "Epoch 185/250\n",
      "772/772 [==============================] - 18s 24ms/step - loss: 0.0281 - accuracy: 0.9876 - val_loss: 0.1394 - val_accuracy: 0.9355\n",
      "Epoch 186/250\n",
      "772/772 [==============================] - 19s 25ms/step - loss: 0.0298 - accuracy: 0.9868 - val_loss: 0.1062 - val_accuracy: 0.9430\n",
      "Epoch 187/250\n",
      "772/772 [==============================] - 18s 23ms/step - loss: 0.0296 - accuracy: 0.9866 - val_loss: 0.1432 - val_accuracy: 0.9342\n",
      "Epoch 188/250\n",
      "772/772 [==============================] - 18s 24ms/step - loss: 0.0293 - accuracy: 0.9870 - val_loss: 0.1094 - val_accuracy: 0.9432\n",
      "Epoch 189/250\n",
      "772/772 [==============================] - 19s 25ms/step - loss: 0.0268 - accuracy: 0.9877 - val_loss: 0.1283 - val_accuracy: 0.9412\n",
      "Epoch 190/250\n",
      "772/772 [==============================] - 18s 24ms/step - loss: 0.0310 - accuracy: 0.9863 - val_loss: 0.1170 - val_accuracy: 0.9413\n",
      "Epoch 191/250\n",
      "772/772 [==============================] - 19s 24ms/step - loss: 0.0299 - accuracy: 0.9870 - val_loss: 0.1037 - val_accuracy: 0.9445\n",
      "Epoch 192/250\n",
      "772/772 [==============================] - 18s 23ms/step - loss: 0.0275 - accuracy: 0.9874 - val_loss: 0.1568 - val_accuracy: 0.9324\n",
      "Epoch 193/250\n",
      "772/772 [==============================] - 19s 25ms/step - loss: 0.0298 - accuracy: 0.9868 - val_loss: 0.1124 - val_accuracy: 0.9444\n",
      "Epoch 194/250\n",
      "772/772 [==============================] - 19s 24ms/step - loss: 0.0280 - accuracy: 0.9875 - val_loss: 0.1410 - val_accuracy: 0.9389\n",
      "Epoch 195/250\n",
      "772/772 [==============================] - 18s 23ms/step - loss: 0.0288 - accuracy: 0.9874 - val_loss: 0.1446 - val_accuracy: 0.9339\n",
      "Epoch 196/250\n",
      "772/772 [==============================] - 19s 25ms/step - loss: 0.0311 - accuracy: 0.9866 - val_loss: 0.1333 - val_accuracy: 0.9374\n",
      "Epoch 197/250\n",
      "772/772 [==============================] - 19s 24ms/step - loss: 0.0300 - accuracy: 0.9870 - val_loss: 0.1405 - val_accuracy: 0.9294\n",
      "Epoch 198/250\n",
      "772/772 [==============================] - 19s 25ms/step - loss: 0.0280 - accuracy: 0.9874 - val_loss: 0.1099 - val_accuracy: 0.9440\n",
      "Epoch 199/250\n",
      "772/772 [==============================] - 20s 26ms/step - loss: 0.0277 - accuracy: 0.9876 - val_loss: 0.1510 - val_accuracy: 0.9345\n",
      "Epoch 200/250\n",
      "772/772 [==============================] - 18s 24ms/step - loss: 0.0291 - accuracy: 0.9870 - val_loss: 0.1401 - val_accuracy: 0.9372\n",
      "Epoch 201/250\n",
      "772/772 [==============================] - 1552s 2s/step - loss: 0.0290 - accuracy: 0.9872 - val_loss: 0.1488 - val_accuracy: 0.9368\n",
      "Epoch 202/250\n",
      "772/772 [==============================] - 20s 26ms/step - loss: 0.0289 - accuracy: 0.9870 - val_loss: 0.1342 - val_accuracy: 0.9390\n",
      "Epoch 203/250\n",
      "772/772 [==============================] - 14s 18ms/step - loss: 0.0284 - accuracy: 0.9876 - val_loss: 0.1087 - val_accuracy: 0.9405\n",
      "Epoch 204/250\n",
      "772/772 [==============================] - 16s 21ms/step - loss: 0.0275 - accuracy: 0.9876 - val_loss: 0.1044 - val_accuracy: 0.9433\n",
      "Epoch 205/250\n",
      "772/772 [==============================] - 14s 18ms/step - loss: 0.0308 - accuracy: 0.9865 - val_loss: 0.1081 - val_accuracy: 0.9415\n",
      "Epoch 206/250\n",
      "772/772 [==============================] - 14s 18ms/step - loss: 0.0291 - accuracy: 0.9872 - val_loss: 0.1197 - val_accuracy: 0.9404\n",
      "Epoch 207/250\n",
      "772/772 [==============================] - 13s 17ms/step - loss: 0.0302 - accuracy: 0.9874 - val_loss: 0.1213 - val_accuracy: 0.9407\n",
      "Epoch 208/250\n",
      "772/772 [==============================] - 13s 17ms/step - loss: 0.0290 - accuracy: 0.9872 - val_loss: 0.1113 - val_accuracy: 0.9422\n",
      "Epoch 209/250\n",
      "772/772 [==============================] - 14s 19ms/step - loss: 0.0283 - accuracy: 0.9873 - val_loss: 0.1262 - val_accuracy: 0.9392\n",
      "Epoch 210/250\n",
      "772/772 [==============================] - 17s 22ms/step - loss: 0.0286 - accuracy: 0.9872 - val_loss: 0.1491 - val_accuracy: 0.9333\n",
      "Epoch 211/250\n",
      "772/772 [==============================] - 15s 20ms/step - loss: 0.0283 - accuracy: 0.9874 - val_loss: 0.0977 - val_accuracy: 0.9447\n",
      "Epoch 212/250\n",
      "772/772 [==============================] - 20s 26ms/step - loss: 0.0290 - accuracy: 0.9869 - val_loss: 0.0917 - val_accuracy: 0.9465\n",
      "Epoch 213/250\n",
      "772/772 [==============================] - 15s 20ms/step - loss: 0.0614 - accuracy: 0.9852 - val_loss: 0.1282 - val_accuracy: 0.9381\n",
      "Epoch 214/250\n",
      "772/772 [==============================] - 14s 18ms/step - loss: 0.0296 - accuracy: 0.9868 - val_loss: 0.1254 - val_accuracy: 0.9392\n",
      "Epoch 215/250\n",
      "772/772 [==============================] - 13s 17ms/step - loss: 0.0266 - accuracy: 0.9878 - val_loss: 0.1218 - val_accuracy: 0.9404\n",
      "Epoch 216/250\n",
      "772/772 [==============================] - 14s 18ms/step - loss: 0.0280 - accuracy: 0.9876 - val_loss: 0.1056 - val_accuracy: 0.9444\n",
      "Epoch 217/250\n",
      "772/772 [==============================] - 12s 16ms/step - loss: 0.0304 - accuracy: 0.9868 - val_loss: 0.1187 - val_accuracy: 0.9403\n",
      "Epoch 218/250\n",
      "772/772 [==============================] - 8s 11ms/step - loss: 0.0259 - accuracy: 0.9879 - val_loss: 0.1399 - val_accuracy: 0.9375\n",
      "Epoch 219/250\n",
      "772/772 [==============================] - 10s 13ms/step - loss: 0.0296 - accuracy: 0.9870 - val_loss: 0.1093 - val_accuracy: 0.9427\n",
      "Epoch 220/250\n",
      "772/772 [==============================] - 8s 10ms/step - loss: 0.0287 - accuracy: 0.9870 - val_loss: 0.1347 - val_accuracy: 0.9376\n",
      "Epoch 221/250\n",
      "772/772 [==============================] - 8s 10ms/step - loss: 0.0271 - accuracy: 0.9875 - val_loss: 0.1243 - val_accuracy: 0.9412\n",
      "Epoch 222/250\n",
      "772/772 [==============================] - 8s 11ms/step - loss: 0.0291 - accuracy: 0.9871 - val_loss: 0.1159 - val_accuracy: 0.9402\n",
      "Epoch 223/250\n",
      "772/772 [==============================] - 9s 11ms/step - loss: 0.0292 - accuracy: 0.9871 - val_loss: 0.1081 - val_accuracy: 0.9446\n",
      "Epoch 224/250\n",
      "772/772 [==============================] - 10s 12ms/step - loss: 0.0279 - accuracy: 0.9874 - val_loss: 0.1249 - val_accuracy: 0.9382\n"
     ]
    },
    {
     "name": "stdout",
     "output_type": "stream",
     "text": [
      "Epoch 225/250\n",
      "772/772 [==============================] - 12s 15ms/step - loss: 0.0264 - accuracy: 0.9879 - val_loss: 0.1138 - val_accuracy: 0.9434\n",
      "Epoch 226/250\n",
      "772/772 [==============================] - 9s 11ms/step - loss: 0.0280 - accuracy: 0.9875 - val_loss: 0.1238 - val_accuracy: 0.9382\n",
      "Epoch 227/250\n",
      "772/772 [==============================] - 9s 12ms/step - loss: 0.0288 - accuracy: 0.9873 - val_loss: 0.1279 - val_accuracy: 0.9374\n",
      "Epoch 228/250\n",
      "772/772 [==============================] - 9s 12ms/step - loss: 0.0297 - accuracy: 0.9869 - val_loss: 0.1074 - val_accuracy: 0.9432\n",
      "Epoch 229/250\n",
      "772/772 [==============================] - 9s 12ms/step - loss: 0.0277 - accuracy: 0.9875 - val_loss: 0.1362 - val_accuracy: 0.9382\n",
      "Epoch 230/250\n",
      "772/772 [==============================] - 9s 12ms/step - loss: 0.0286 - accuracy: 0.9872 - val_loss: 0.1170 - val_accuracy: 0.9426\n",
      "Epoch 231/250\n",
      "772/772 [==============================] - 9s 12ms/step - loss: 0.0286 - accuracy: 0.9873 - val_loss: 0.1167 - val_accuracy: 0.9433\n",
      "Epoch 232/250\n",
      "772/772 [==============================] - 10s 14ms/step - loss: 0.0287 - accuracy: 0.9872 - val_loss: 0.1001 - val_accuracy: 0.9450\n",
      "Epoch 233/250\n",
      "772/772 [==============================] - 12s 16ms/step - loss: 0.0267 - accuracy: 0.9877 - val_loss: 0.1560 - val_accuracy: 0.9318\n",
      "Epoch 234/250\n",
      "772/772 [==============================] - 13s 16ms/step - loss: 0.0276 - accuracy: 0.9875 - val_loss: 0.1316 - val_accuracy: 0.9406\n",
      "Epoch 235/250\n",
      "772/772 [==============================] - 14s 18ms/step - loss: 0.0288 - accuracy: 0.9872 - val_loss: 0.1389 - val_accuracy: 0.9338\n",
      "Epoch 236/250\n",
      "772/772 [==============================] - 11s 14ms/step - loss: 0.0285 - accuracy: 0.9872 - val_loss: 0.0998 - val_accuracy: 0.9467\n",
      "Epoch 237/250\n",
      "772/772 [==============================] - 12s 16ms/step - loss: 0.0267 - accuracy: 0.9877 - val_loss: 0.1130 - val_accuracy: 0.9439\n",
      "Epoch 238/250\n",
      "772/772 [==============================] - 13s 17ms/step - loss: 0.0282 - accuracy: 0.9872 - val_loss: 0.1401 - val_accuracy: 0.9378\n",
      "Epoch 239/250\n",
      "772/772 [==============================] - 10s 13ms/step - loss: 0.0277 - accuracy: 0.9875 - val_loss: 0.2058 - val_accuracy: 0.9260\n",
      "Epoch 240/250\n",
      "772/772 [==============================] - 9s 11ms/step - loss: 0.0279 - accuracy: 0.9876 - val_loss: 0.1350 - val_accuracy: 0.9404\n",
      "Epoch 241/250\n",
      "772/772 [==============================] - 8s 11ms/step - loss: 0.0272 - accuracy: 0.9876 - val_loss: 0.1424 - val_accuracy: 0.9361\n",
      "Epoch 242/250\n",
      "772/772 [==============================] - 8s 10ms/step - loss: 0.0284 - accuracy: 0.9872 - val_loss: 0.1053 - val_accuracy: 0.9431\n",
      "Epoch 243/250\n",
      "772/772 [==============================] - 8s 11ms/step - loss: 0.0307 - accuracy: 0.9867 - val_loss: 0.1695 - val_accuracy: 0.9275\n",
      "Epoch 244/250\n",
      "772/772 [==============================] - 8s 11ms/step - loss: 0.0280 - accuracy: 0.9873 - val_loss: 0.1909 - val_accuracy: 0.9274\n",
      "Epoch 245/250\n",
      "772/772 [==============================] - 8s 11ms/step - loss: 0.0269 - accuracy: 0.9875 - val_loss: 0.1350 - val_accuracy: 0.9417\n",
      "Epoch 246/250\n",
      "772/772 [==============================] - 8s 11ms/step - loss: 0.0271 - accuracy: 0.9876 - val_loss: 0.1457 - val_accuracy: 0.9365\n",
      "Epoch 247/250\n",
      "772/772 [==============================] - 8s 11ms/step - loss: 0.0295 - accuracy: 0.9870 - val_loss: 0.1176 - val_accuracy: 0.9430\n",
      "Epoch 248/250\n",
      "772/772 [==============================] - 9s 12ms/step - loss: 0.0281 - accuracy: 0.9873 - val_loss: 0.1427 - val_accuracy: 0.9385\n",
      "Epoch 249/250\n",
      "772/772 [==============================] - 8s 11ms/step - loss: 0.0277 - accuracy: 0.9874 - val_loss: 0.1578 - val_accuracy: 0.9346\n",
      "Epoch 250/250\n",
      "772/772 [==============================] - 8s 11ms/step - loss: 0.0284 - accuracy: 0.9874 - val_loss: 0.0972 - val_accuracy: 0.9448\n"
     ]
    },
    {
     "data": {
      "text/plain": [
       "<keras.callbacks.History at 0x1fab89b8130>"
      ]
     },
     "execution_count": 195,
     "metadata": {},
     "output_type": "execute_result"
    }
   ],
   "source": [
    "model.fit(X_train_ns, y_train_ns, epochs=250, batch_size=100, validation_split=0.2, verbose=1)"
   ]
  },
  {
   "cell_type": "code",
   "execution_count": 196,
   "id": "ffa9690f",
   "metadata": {},
   "outputs": [
    {
     "name": "stdout",
     "output_type": "stream",
     "text": [
      "904/904 [==============================] - 3s 3ms/step - loss: 0.4173 - accuracy: 0.9436\n",
      "[0.41726553440093994, 0.943623960018158]\n"
     ]
    }
   ],
   "source": [
    "accuracy = model.evaluate(X_test, y_test)\n",
    "print(accuracy)"
   ]
  },
  {
   "cell_type": "code",
   "execution_count": 197,
   "id": "1f589fc6",
   "metadata": {},
   "outputs": [],
   "source": [
    "y_pred_ann = model.predict(X_test)"
   ]
  },
  {
   "cell_type": "code",
   "execution_count": 198,
   "id": "a85acb6d",
   "metadata": {},
   "outputs": [],
   "source": [
    "y_pred_ann = (y_pred_ann > 0.5)"
   ]
  },
  {
   "cell_type": "code",
   "execution_count": 199,
   "id": "f2df292d",
   "metadata": {},
   "outputs": [],
   "source": [
    "y_pred_ann = [int(val) for val in y_pred_ann]"
   ]
  },
  {
   "cell_type": "code",
   "execution_count": 200,
   "id": "af706eb4",
   "metadata": {},
   "outputs": [],
   "source": [
    "# Making the Confusion Matrix\n",
    "from sklearn.metrics import confusion_matrix\n",
    "cm = confusion_matrix(y_test, y_pred_ann)"
   ]
  },
  {
   "cell_type": "code",
   "execution_count": 201,
   "id": "d62d2bc1",
   "metadata": {},
   "outputs": [
    {
     "name": "stdout",
     "output_type": "stream",
     "text": [
      "Accuracy Score 0.943623975374399\n",
      "Classification report:               precision    recall  f1-score   support\n",
      "\n",
      "           0       1.00      0.94      0.97     28913\n",
      "           1       0.00      0.00      0.00         0\n",
      "\n",
      "    accuracy                           0.94     28913\n",
      "   macro avg       0.50      0.47      0.49     28913\n",
      "weighted avg       1.00      0.94      0.97     28913\n",
      "\n"
     ]
    }
   ],
   "source": [
    "\n",
    "# Calculate the Accuracy\n",
    "from sklearn.metrics import accuracy_score\n",
    "print(\"Accuracy Score {}\".format(accuracy_score(y_test,y_pred_ann)))\n",
    "print(\"Classification report: {}\".format(classification_report(y_test,y_pred_ann)))\n"
   ]
  },
  {
   "cell_type": "code",
   "execution_count": 202,
   "id": "39147d12",
   "metadata": {},
   "outputs": [
    {
     "name": "stdout",
     "output_type": "stream",
     "text": [
      "0.943623975374399\n"
     ]
    }
   ],
   "source": [
    "print(accuracy_score(y_test,y_pred_ann))"
   ]
  },
  {
   "cell_type": "code",
   "execution_count": 203,
   "id": "cc3e35dc",
   "metadata": {},
   "outputs": [],
   "source": [
    "# Converting y_pred to a dataframe which is an array\n",
    "y_pred_2_ann = pd.DataFrame(y_pred_ann)"
   ]
  },
  {
   "cell_type": "code",
   "execution_count": 204,
   "id": "9b029e26",
   "metadata": {},
   "outputs": [
    {
     "data": {
      "text/plain": [
       "0    27283\n",
       "1     1630\n",
       "dtype: int64"
      ]
     },
     "execution_count": 204,
     "metadata": {},
     "output_type": "execute_result"
    }
   ],
   "source": [
    "y_pred_2_ann.value_counts()"
   ]
  },
  {
   "cell_type": "code",
   "execution_count": 205,
   "id": "ba941c89",
   "metadata": {},
   "outputs": [],
   "source": [
    "y_pred_2_ann.to_csv('stolen_submission.csv', index=False)"
   ]
  },
  {
   "cell_type": "code",
   "execution_count": null,
   "id": "70d0ee05",
   "metadata": {},
   "outputs": [],
   "source": []
  }
 ],
 "metadata": {
  "kernelspec": {
   "display_name": "Python 3 (ipykernel)",
   "language": "python",
   "name": "python3"
  },
  "language_info": {
   "codemirror_mode": {
    "name": "ipython",
    "version": 3
   },
   "file_extension": ".py",
   "mimetype": "text/x-python",
   "name": "python",
   "nbconvert_exporter": "python",
   "pygments_lexer": "ipython3",
   "version": "3.9.7"
  }
 },
 "nbformat": 4,
 "nbformat_minor": 5
}
