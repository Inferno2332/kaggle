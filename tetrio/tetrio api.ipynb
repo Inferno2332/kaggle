{
 "cells": [
  {
   "cell_type": "code",
   "execution_count": 2,
   "id": "1341bfe4",
   "metadata": {},
   "outputs": [],
   "source": [
    "import requests\n",
    "import pandas as pd"
   ]
  },
  {
   "cell_type": "code",
   "execution_count": 2,
   "id": "426f6526",
   "metadata": {},
   "outputs": [],
   "source": [
    "url = 'https://ch.tetr.io/api/users/lists/league/all'\n",
    "\n",
    "response = requests.get(url)"
   ]
  },
  {
   "cell_type": "code",
   "execution_count": 3,
   "id": "99d2a04a",
   "metadata": {},
   "outputs": [],
   "source": [
    "x = response.json()"
   ]
  },
  {
   "cell_type": "code",
   "execution_count": 14,
   "id": "99f087fb",
   "metadata": {},
   "outputs": [
    {
     "data": {
      "text/plain": [
       "{'_id': '615fb20fe17beeef45104302',\n",
       " 'username': 'blaarg',\n",
       " 'role': 'user',\n",
       " 'xp': 4757971,\n",
       " 'league': {'gamesplayed': 1531,\n",
       "  'gameswon': 1319,\n",
       "  'rating': 24999.07134059898,\n",
       "  'glicko': 4181.568585951683,\n",
       "  'rd': 74.65689571610501,\n",
       "  'rank': 'x',\n",
       "  'bestrank': 'x',\n",
       "  'apm': 176.33,\n",
       "  'pps': 3.39,\n",
       "  'vs': 365.08,\n",
       "  'decaying': False},\n",
       " 'supporter': True,\n",
       " 'verified': True,\n",
       " 'country': 'US'}"
      ]
     },
     "execution_count": 14,
     "metadata": {},
     "output_type": "execute_result"
    }
   ],
   "source": [
    "x['data']['users'][0]"
   ]
  },
  {
   "cell_type": "code",
   "execution_count": 6,
   "id": "3ccdfd02",
   "metadata": {},
   "outputs": [],
   "source": [
    "rows_list = []\n",
    "for user in x['data']['users']:\n",
    "    row_info = {'id': user['_id'],\n",
    "                'username': user['username'], \n",
    "                'gamesplayed': user['league']['gamesplayed'],\n",
    "                'gameswon': user['league']['gameswon'],\n",
    "                'tr': user['league']['rating'],\n",
    "                'glicko': user['league']['glicko'],\n",
    "                'rd': user['league']['rd'],\n",
    "                'rank': user['league']['rank'],\n",
    "                'bestrank': user['league']['bestrank'],\n",
    "                'apm': user['league']['apm'],\n",
    "                'pps': user['league']['pps'],\n",
    "                'vs': user['league']['vs'],\n",
    "                'verified': user['verified']\n",
    "                'country': user['country']}\n",
    "    \n",
    "    rows_list.append(row_info)\n",
    "    \n",
    "df = pd.DataFrame(rows_list)"
   ]
  },
  {
   "cell_type": "code",
   "execution_count": 7,
   "id": "1f00d376",
   "metadata": {},
   "outputs": [],
   "source": [
    "# Drop unranked players\n",
    "df = df.drop(df[df['rank'] == 'z'].index)"
   ]
  },
  {
   "cell_type": "markdown",
   "id": "6be179d1",
   "metadata": {},
   "source": [
    "### 40L / Blitz data"
   ]
  },
  {
   "cell_type": "code",
   "execution_count": 60,
   "id": "a1b7997b",
   "metadata": {},
   "outputs": [
    {
     "name": "stdout",
     "output_type": "stream",
     "text": [
      "0 users done, time 0.00\n",
      "1000 users done, time 114.62\n",
      "2000 users done, time 251.63\n",
      "3000 users done, time 386.21\n",
      "4000 users done, time 506.13\n",
      "5000 users done, time 624.63\n",
      "6000 users done, time 735.03\n",
      "7000 users done, time 857.15\n",
      "8000 users done, time 968.41\n",
      "9000 users done, time 1085.68\n",
      "10000 users done, time 1198.22\n",
      "11000 users done, time 1315.15\n",
      "12000 users done, time 1428.94\n",
      "13000 users done, time 1548.81\n",
      "14000 users done, time 1689.02\n",
      "15000 users done, time 1814.14\n",
      "16000 users done, time 1931.85\n",
      "17000 users done, time 2051.84\n",
      "18000 users done, time 2173.38\n",
      "19000 users done, time 2280.04\n",
      "20000 users done, time 2388.79\n",
      "21000 users done, time 2498.44\n",
      "22000 users done, time 2610.21\n",
      "23000 users done, time 2719.45\n",
      "24000 users done, time 2820.84\n",
      "25000 users done, time 2933.07\n",
      "26000 users done, time 3040.89\n",
      "27000 users done, time 3171.65\n",
      "28000 users done, time 3278.55\n",
      "29000 users done, time 3381.55\n",
      "30000 users done, time 3495.25\n",
      "31000 users done, time 3603.96\n",
      "32000 users done, time 3730.37\n",
      "33000 users done, time 3868.46\n",
      "34000 users done, time 4007.91\n",
      "35000 users done, time 4138.93\n",
      "36000 users done, time 4287.91\n",
      "37000 users done, time 4410.71\n",
      "38000 users done, time 4531.20\n",
      "39000 users done, time 4642.81\n",
      "40000 users done, time 4749.34\n"
     ]
    }
   ],
   "source": [
    "sprints = []\n",
    "blitzes = []\n",
    "\n",
    "import time\n",
    "i = 0\n",
    "t0 = time.time()\n",
    "\n",
    "for user in df['username']:\n",
    "    if i % 1000 == 0:\n",
    "        print(f\"{i} users done, time {time.time()-t0:.2f}\")\n",
    "    url = f'https://ch.tetr.io/api/users/{user}/records'\n",
    "    response = requests.get(url)\n",
    "    x = response.json()\n",
    "    \n",
    "    if not x['success']:\n",
    "        continue\n",
    "    \n",
    "    try:\n",
    "        sprint_time = round(x['data']['records']['40l']['record']['endcontext']['finalTime']/1000, 2)\n",
    "    except TypeError:\n",
    "        sprint_time = None\n",
    "        \n",
    "    try:\n",
    "        blitz_score = x['data']['records']['blitz']['record']['endcontext']['score']\n",
    "    except TypeError:\n",
    "        blitz_score = None\n",
    "        \n",
    "    i += 1\n",
    "        \n",
    "    sprints.append(sprint_time)\n",
    "    blitzes.append(blitz_score)"
   ]
  },
  {
   "cell_type": "code",
   "execution_count": 62,
   "id": "b1ccfff7",
   "metadata": {},
   "outputs": [],
   "source": [
    "df['40l_sprint'] = sprints\n",
    "df['blitz'] = blitzes"
   ]
  },
  {
   "cell_type": "code",
   "execution_count": 69,
   "id": "270d8f54",
   "metadata": {},
   "outputs": [],
   "source": [
    "df.to_csv('tl-data.csv', index=False)"
   ]
  },
  {
   "cell_type": "markdown",
   "id": "dc7e42f8",
   "metadata": {},
   "source": [
    "### Unranked users (from xp leaderboard)"
   ]
  },
  {
   "cell_type": "code",
   "execution_count": 5,
   "id": "51a8af60",
   "metadata": {},
   "outputs": [],
   "source": [
    "url = 'https://ch.tetr.io/api/users/lists/xp'\n",
    "response = requests.get(url)\n",
    "x = response.json()"
   ]
  },
  {
   "cell_type": "code",
   "execution_count": 27,
   "id": "a5720b6a",
   "metadata": {},
   "outputs": [
    {
     "data": {
      "text/plain": [
       "{'success': True,\n",
       " 'data': {'users': []},\n",
       " 'cache': {'status': 'miss',\n",
       "  'cached_at': 1668445040606,\n",
       "  'cached_until': 1668445640606}}"
      ]
     },
     "execution_count": 27,
     "metadata": {},
     "output_type": "execute_result"
    }
   ],
   "source": [
    "url = 'https://ch.tetr.io/api/users/lists/xp?after=265000'\n",
    "response = requests.get(url)\n",
    "response.json()"
   ]
  },
  {
   "cell_type": "code",
   "execution_count": null,
   "id": "eb610a05",
   "metadata": {},
   "outputs": [],
   "source": []
  }
 ],
 "metadata": {
  "kernelspec": {
   "display_name": "Python 3 (ipykernel)",
   "language": "python",
   "name": "python3"
  },
  "language_info": {
   "codemirror_mode": {
    "name": "ipython",
    "version": 3
   },
   "file_extension": ".py",
   "mimetype": "text/x-python",
   "name": "python",
   "nbconvert_exporter": "python",
   "pygments_lexer": "ipython3",
   "version": "3.9.7"
  }
 },
 "nbformat": 4,
 "nbformat_minor": 5
}
